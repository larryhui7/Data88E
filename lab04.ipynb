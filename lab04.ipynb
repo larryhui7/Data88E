{
 "cells": [
  {
   "cell_type": "code",
   "execution_count": 1,
   "metadata": {
    "deletable": false,
    "editable": false
   },
   "outputs": [],
   "source": [
    "# Initialize Otter\n",
    "import otter\n",
    "grader = otter.Notebook(\"lab04.ipynb\")"
   ]
  },
  {
   "cell_type": "markdown",
   "metadata": {},
   "source": [
    "<table style=\"width: 100%;\">\n",
    "    <tr style=\"background-color: transparent;\"><td>\n",
    "        <img src=\"https://data-88e.github.io/assets/images/blue_text.png\" width=\"250px\" style=\"margin-left: 0;\" />\n",
    "    </td><td>\n",
    "        <p style=\"text-align: right; font-size: 10pt;\"><strong>Economic Models</strong>, Fall 2024<br>\n",
    "            Dr. Eric Van Dusen <br>\n",
    "            Notebook by: Umar Maniku <br>\n",
    "            Rohan Jha <br>\n",
    "            Akhil Venkatesh</p></td></tr>\n",
    "</table>"
   ]
  },
  {
   "cell_type": "markdown",
   "metadata": {},
   "source": [
    "# Lab 4: The Cobb-Douglas Production Function"
   ]
  },
  {
   "cell_type": "code",
   "execution_count": 2,
   "metadata": {},
   "outputs": [],
   "source": [
    "from utils import *\n",
    "import matplotlib.pyplot as plt\n",
    "import numpy as np\n",
    "import pandas as pd \n",
    "import seaborn as sns\n",
    "import plotly.graph_objs as go\n",
    "from plotly.offline import download_plotlyjs, init_notebook_mode, plot, iplot\n",
    "from ipywidgets import interact, interactive, fixed, interact_manual\n",
    "import ipywidgets as widgets\n",
    "from IPython.display import display\n",
    "#import nbinteract as nbi\n",
    "import warnings\n",
    "warnings.filterwarnings('ignore')\n",
    "%matplotlib inline\n",
    "plt.style.use(\"seaborn-v0_8-muted\")"
   ]
  },
  {
   "cell_type": "markdown",
   "metadata": {},
   "source": [
    "## Part 1: Production and Cobb-Douglas Functions in Macroeconomics"
   ]
  },
  {
   "cell_type": "markdown",
   "metadata": {},
   "source": [
    "### The Cobb-Douglas Production Function"
   ]
  },
  {
   "cell_type": "markdown",
   "metadata": {},
   "source": [
    "The Cobb-Douglas Production Function is as follows:\n",
    "$$\n",
    "f(K, L) = K^\\alpha L^\\beta \\\\\n",
    "Y = A \\cdot f(K, L) = A K^\\alpha L^\\beta\n",
    "$$\n",
    "where $\\alpha$ and $\\beta$ are exponents.\n",
    "\n",
    "A common simplification is that $\\beta = 1 - \\alpha$. We will later explore the implications of this statement. For now, let us rewrite the above function:\n",
    "\n",
    "$$\n",
    "Y = A K^\\alpha L^{1 - \\alpha}\n",
    "$$\n",
    "\n",
    "Note that this is a function of two variables, $K$ and $L$. If we were to plot this function utilizing both variables, we would need a 3D plot with $K$, $L$ and $Y$ each having their own axis. For now, let us gain greater insight into what this function would look like by holding one variable constant and plot the other versus output.\n",
    "\n",
    "For the first case, let us visualize the Cobb-Douglas Production Function with output as a function of capital, holding the amount of labor constant at $\\bar L$."
   ]
  },
  {
   "cell_type": "markdown",
   "metadata": {},
   "source": [
    "**Question 1.1** Define ```cobb_douglas```, a function that calculates output using the Cobb-Douglas function. This should work for constant, decreasing and increasing returns to scale. We have provided an ```if-else``` structure to faciliate your implementation. Note that the syntax `beta = None` tells Python that the default argument for the `beta` argument is the value `None`. This is not a number, so you'll need to handle this case.\n",
    "\n",
    "_Hint:_ When do we substitute $\\beta = 1 - \\alpha$?\n"
   ]
  },
  {
   "cell_type": "code",
   "execution_count": 3,
   "metadata": {
    "tags": []
   },
   "outputs": [],
   "source": [
    "def cobb_douglas(A, K, L, alpha, beta = None):\n",
    "    if beta is None:\n",
    "        return A * (K ** alpha) * (L ** (1 - alpha))\n",
    "    else:\n",
    "        return A * (K ** alpha) * (L ** beta)"
   ]
  },
  {
   "cell_type": "code",
   "execution_count": 4,
   "metadata": {
    "deletable": false,
    "editable": false
   },
   "outputs": [
    {
     "data": {
      "text/html": [
       "<p><strong><pre style='display: inline;'>q1_1</pre></strong> passed! 🌈</p>"
      ],
      "text/plain": [
       "q1_1 results: All test cases passed!"
      ]
     },
     "execution_count": 4,
     "metadata": {},
     "output_type": "execute_result"
    }
   ],
   "source": [
    "grader.check(\"q1_1\")"
   ]
  },
  {
   "cell_type": "markdown",
   "metadata": {},
   "source": [
    "<!-- BEGIN QUESTION -->\n",
    "\n",
    "**Question 1.2** Now let's plot Cobb-Douglas as a function of the capital stock, holding labor constant at $\\bar L$. To do this, we'll need to write a function called `cobb_douglas_plotter_K` that takes in the Cobb-Douglas model parameters to create an array of values for $Y$ called `Y_s`. In the function body, fill in the correct values for `K_s` and `Y_s`. `K_s` should be an array of the possible values of $K$ in the range $[0, 1]$ using intervals of 0.01. When you have completed the function, call it using $A = 1$, $\\bar L = 0.5$, and $\\alpha = 0.4$.\n",
    "\n",
    "_Hint:_ Your `cobb_douglas` function can take any of its parameters as an array.\n"
   ]
  },
  {
   "cell_type": "code",
   "execution_count": 5,
   "metadata": {
    "tags": []
   },
   "outputs": [],
   "source": [
    "def cobb_douglas_plotter_K(A, L_bar, alpha):\n",
    "    K_s = np.arange(0, 1.01, 0.01)\n",
    "    Y_s = cobb_douglas(A, K_s, L_bar, alpha)\n",
    "    \n",
    "    ### Do not edit the code below; this does the plotting ###\n",
    "    plt.plot(K_s, Y_s)\n",
    "    plt.title(fr\"Cobb-Douglas with $\\bar L$ = {L_bar}, $A$ = {A} and $\\alpha$ = {alpha}\")\n",
    "    plt.xlabel(\"Capital Stock\")\n",
    "    plt.ylabel(\"Output\");"
   ]
  },
  {
   "cell_type": "markdown",
   "metadata": {},
   "source": [
    "<!-- END QUESTION -->\n",
    "\n",
    "If you defined the function correctly, you should notice some of the properties in the graph above:\n",
    "1. It is increasing. This is called increasing returns to capital wherein any increase in capital will lead to an increase in output, assuming that labor is held constant.\n",
    "2. It is concave (increasing at a decreasing rate). This is called diminishing marginal returns to capital wherein any additional unit of capital will lead to smaller and smaller increases in capital.\n",
    "\n",
    "We can do the same thing but instead holding capital constant and letting labor vary."
   ]
  },
  {
   "cell_type": "code",
   "execution_count": 6,
   "metadata": {},
   "outputs": [
    {
     "data": {
      "image/png": "[encoded data removed]",
      "text/plain": [
       "<Figure size 640x480 with 1 Axes>"
      ]
     },
     "metadata": {},
     "output_type": "display_data"
    }
   ],
   "source": [
    "cobb_douglas_plotter_L(1, 0.5, 0.4)"
   ]
  },
  {
   "cell_type": "markdown",
   "metadata": {},
   "source": [
    "We notice that the same properties hold: the function is exhibiting both increasing returns to labor and diminishing marginal returns to labor. This is because we selected the same parameters as when we plotted output versus capital stock. The cell below has the same function call, but try using different parameters and observe what happens to its shape."
   ]
  },
  {
   "cell_type": "code",
   "execution_count": 7,
   "metadata": {},
   "outputs": [
    {
     "data": {
      "image/png": "[encoded data removed]",
      "text/plain": [
       "<Figure size 640x480 with 1 Axes>"
      ]
     },
     "metadata": {},
     "output_type": "display_data"
    }
   ],
   "source": [
    "# Change the parameters below\n",
    "# First parameter: alpha, Second parameter: Fixed value of K, Third parameter: beta\n",
    "\n",
    "cobb_douglas_plotter_L(2, 0.9, 0.7)"
   ]
  },
  {
   "cell_type": "markdown",
   "metadata": {},
   "source": [
    "### Implications for cross-country comparisons"
   ]
  },
  {
   "cell_type": "markdown",
   "metadata": {},
   "source": [
    "Work by Professors C.W. Cobb and P.H. Douglas found that production or output was a weighted average of the log of capital and labor. The equation for Cobb-Douglas production functions were the result of their research, especially when a log transformation was applied to the equation:\n",
    "\n",
    "$$\\begin{aligned}\n",
    "Y &= A K^\\alpha L^{1 - \\alpha} \\\\\n",
    "\\ln Y &= \\ln A + \\alpha \\ln K + (1 - \\alpha) \\ln L\n",
    "\\end{aligned}\n",
    "$$\n",
    "\n",
    "Note that this is exactly the weighted average that the two Professors found in their empirical findings: capital and labor are weighted by $\\alpha$ and $1 - \\alpha$ respectively. However, this is still showing production as a function of two variables, $K$ and $L$. Rearranging the equation yields something interesting:\n",
    "\n",
    "$$\\begin{aligned}\n",
    "\\ln Y &= \\ln A + \\alpha \\ln K + \\ln L - \\alpha \\ln L \\\\\n",
    "\\ln Y- \\ln L &= \\ln A + \\alpha \\ln K - \\ln L \\\\\n",
    "\\ln \\dfrac{Y}{L} &= \\ln A + \\alpha \\ln \\dfrac{K}{L}\n",
    "\\end{aligned}\n",
    "$$\n",
    "\n",
    "The Cobb-Douglas function is now an equation in 1 variable: $\\ln \\frac{K}{L}$, making it linear instead of exponential."
   ]
  },
  {
   "cell_type": "markdown",
   "metadata": {},
   "source": [
    "**Question 1.3** Now that we have linearly transformed Cobb-Douglas, how can we use the function defined above to recover $A$ and $\\alpha$ values for a country? More specifically, how could you get the values for $A$ and $\\alpha$ when presented with a plot of $\\ln \\dfrac{K}{L}$ vs. $\\ln \\dfrac{Y}{L}$?\n",
    "\n",
    "<ol type=\"A\" style=\"list-style-type: lower-alpha;\">\n",
    "    <li>$\\alpha$ is the intercept of the plot; $A$ is the slope of the plot.</li>\n",
    "    <li>To get $A$, exponentiate the intercept; $\\alpha$ is the slope of the plot.</li>\n",
    "    <li>$A$ is the intercept of the plot; $\\alpha$ is the slope of the plot.</li>\n",
    "    <li>To get $\\alpha$, exponentiate the slope; $A$ is the intercept of the plot.</li>\n",
    "</ol>\n",
    "\n",
    "Assign the letter corresponding to your answer to `q1_3` below.\n"
   ]
  },
  {
   "cell_type": "code",
   "execution_count": 8,
   "metadata": {
    "tags": []
   },
   "outputs": [],
   "source": [
    "q1_3 = \"b\""
   ]
  },
  {
   "cell_type": "code",
   "execution_count": 9,
   "metadata": {
    "deletable": false,
    "editable": false
   },
   "outputs": [
    {
     "data": {
      "text/html": [
       "<p><strong><pre style='display: inline;'>q1_3</pre></strong> passed! 🌟</p>"
      ],
      "text/plain": [
       "q1_3 results: All test cases passed!"
      ]
     },
     "execution_count": 9,
     "metadata": {},
     "output_type": "execute_result"
    }
   ],
   "source": [
    "grader.check(\"q1_3\")"
   ]
  },
  {
   "cell_type": "markdown",
   "metadata": {},
   "source": [
    "Now that you've identified a process of capturing all parts of the Cobb-Douglas function, we are now able to compare  values of $A$ and $\\alpha$ between countries, and by extension how capital and labor are deployed in different ways between nations. We will now learn about the significance of $A$ and $\\alpha$ in the sections below. The upcoming project will have you try this on a broad range of nations from 1990 to 2019."
   ]
  },
  {
   "cell_type": "markdown",
   "metadata": {},
   "source": [
    "### Shifts in $A$ and its effect on output"
   ]
  },
  {
   "cell_type": "code",
   "execution_count": 10,
   "metadata": {},
   "outputs": [
    {
     "data": {
      "application/vnd.jupyter.widget-view+json": {
       "model_id": "678f7a862a7a4124a3e16883597c89a6",
       "version_major": 2,
       "version_minor": 0
      },
      "text/plain": [
       "interactive(children=(FloatSlider(value=1.0, description='A', max=10.0, min=0.5, step=0.5), Output()), _dom_cl…"
      ]
     },
     "metadata": {},
     "output_type": "display_data"
    }
   ],
   "source": [
    "A_slider = widgets.FloatSlider(min = 0.5, max = 10, step = 0.5, value = 1)\n",
    "display(widgets.interactive(change_A, A = A_slider))"
   ]
  },
  {
   "cell_type": "markdown",
   "metadata": {},
   "source": [
    "Supply or total factor productivity shocks could cause $A$ to change. These occur if there is a change in total output for a given level of capital and labor. Examples of these include financial crises, technology shocks, natural environment/disasters and energy prices. \n",
    "\n",
    "Favorable shocks rotate the production function upward through an increase in $A$. Thus, each unit of input from capital and labor now simultaneously produce more output. What does this mean for the rental rate of capital and the real wage? Recall the functions for both of them:\n",
    "\n",
    "$$\\begin{aligned}\n",
    "MPL &= \\dfrac{\\partial Y}{\\partial L} \\\\\n",
    "&= A (1 - \\alpha) \\left ( \\dfrac{K}{L} \\right )^{\\alpha} \\\\\n",
    "MPK &= \\dfrac{\\partial Y}{\\partial K} \\\\\n",
    "&= \\alpha A \\left ( \\dfrac{L}{K} \\right )^{1 - \\alpha} \\\\\n",
    "\\end{aligned}\n",
    "$$\n",
    "\n",
    "Both MPK and MPL will increase by a factor of $A$. Thus, it would be more expensive to hire an additional unit of labor or rent an additional unit of capital. As they are both more productive than they previously were, they are both more valuable to a business and thus will cost more.\n",
    "\n",
    "\n",
    "Negative shocks do the opposite. They rotate the production function downward through a decrease in $A$. Each unit of input is now less productive, meaning that both the rental rate of capital and the real wage are lower."
   ]
  },
  {
   "cell_type": "markdown",
   "metadata": {},
   "source": [
    "<!-- BEGIN QUESTION -->\n",
    "\n",
    "**Question 1.4.** Give at least one example of an event, government program or activity that can change or has changed a country's $A$ or Total Factor Productivity for better or worse. In at least one sentence, explain why you selected that event.\n"
   ]
  },
  {
   "cell_type": "markdown",
   "metadata": {},
   "source": [
    "The Industrial Revolution from around 1865 to the 1900s would have drastically increased the total factor productivity by introducing machines instead of relying on human labour, which allowed the USA to increase output given the same amount of input. "
   ]
  },
  {
   "cell_type": "markdown",
   "metadata": {},
   "source": [
    "<!-- END QUESTION -->\n",
    "\n",
    "### Differences in $\\alpha$ and their effects on output"
   ]
  },
  {
   "cell_type": "code",
   "execution_count": 11,
   "metadata": {},
   "outputs": [
    {
     "data": {
      "application/vnd.jupyter.widget-view+json": {
       "model_id": "b2c9ec5f454540408a35460990650564",
       "version_major": 2,
       "version_minor": 0
      },
      "text/plain": [
       "interactive(children=(FloatSlider(value=0.5, description='alpha', max=1.0, min=0.1), Output()), _dom_classes=(…"
      ]
     },
     "metadata": {},
     "output_type": "display_data"
    }
   ],
   "source": [
    "alpha_slider = widgets.FloatSlider(min = 0.1, max = 1, step = 0.1, value = 0.5)\n",
    "display(widgets.interactive(change_alpha, alpha = alpha_slider))"
   ]
  },
  {
   "cell_type": "markdown",
   "metadata": {},
   "source": [
    "$\\alpha$ and $\\beta$ are called the output elasticities of capital and labor, respectively. They measure the responsiveness of output to a change in the levels of either labor or capital, holding all else constant. This means that if $\\alpha$ or $\\beta$ were high, then any small increase in their respective input would lead to a relatively large increase in output. As an example, if $\\alpha$ were 0.4, then a 1% increase in capital would lead to a 0.4% increase in output."
   ]
  },
  {
   "cell_type": "markdown",
   "metadata": {},
   "source": [
    "**Question 1.5.** Let's link this back to Cobb-Douglas' simplifying assumption of constant returns to scale. Recall that this means $\\alpha = 1 - \\beta$. If a nation has a high $\\alpha$, what does this mean about how resources are allocated?\n",
    "\n",
    "<ol type=\"A\" style=\"list-style-type: lower-alpha;\">\n",
    "    <li>The higher the $\\alpha$, the more efficient a country's production is.</li>\n",
    "    <li>The higher the $\\alpha$, the larger the labor force of the country.</li>\n",
    "    <li>The higher the $\\alpha$, the more labor-intensive a country's production is.</li>\n",
    "    <li>The higher the $\\alpha$, the more capital-intensive a country's production is.</li>\n",
    "</ol>\n",
    "\n",
    "Assign the letter corresponding to your answer to `q1_5` below.\n"
   ]
  },
  {
   "cell_type": "code",
   "execution_count": 12,
   "metadata": {
    "tags": []
   },
   "outputs": [],
   "source": [
    "q1_5 = \"d\""
   ]
  },
  {
   "cell_type": "code",
   "execution_count": 13,
   "metadata": {
    "deletable": false,
    "editable": false
   },
   "outputs": [
    {
     "data": {
      "text/html": [
       "<p><strong><pre style='display: inline;'>q1_5</pre></strong> passed! 🙌</p>"
      ],
      "text/plain": [
       "q1_5 results: All test cases passed!"
      ]
     },
     "execution_count": 13,
     "metadata": {},
     "output_type": "execute_result"
    }
   ],
   "source": [
    "grader.check(\"q1_5\")"
   ]
  },
  {
   "cell_type": "markdown",
   "metadata": {},
   "source": [
    "### Returns to scale"
   ]
  },
  {
   "cell_type": "markdown",
   "metadata": {},
   "source": [
    "The significance of the exponents adding up to 1, i.e. $\\alpha + \\beta = 1$, is that this implies **constant returns to scale**. If all inputs are scaled by a common non-zero factor, the output will be scaled by that same factor. Below is a generalization of this:\n",
    "\n",
    "$$\n",
    "\\begin{aligned}\n",
    "Y &= A (c \\cdot K)^\\alpha (c \\cdot L)^{1 - \\alpha} \\\\\n",
    "&= A c^\\alpha K ^ \\alpha c^{1 - \\alpha}L^{1 - \\alpha} \\\\\n",
    "&= A c^{\\alpha + 1 - \\alpha}K^\\alpha L^{1 - \\alpha} \\\\\n",
    "&= c \\cdot A K^\\alpha L^{1 - \\alpha}\n",
    "\\end{aligned}\n",
    "$$\n",
    "\n",
    "Thus, any increase in either of the inputs will lead to a 1-1 increase in output. This is a significant assumption to make, as it essentially incentivizes companies to continue to \"scale\" their production inputs. They are not losing out on how much return is produced - they are getting output that matches exactly what they put into production.\n",
    "\n",
    "The alternative case is when $\\alpha + \\beta < 1$. This is called **decreasing returns to scale**, and occurs when a company scales their production inputs by a factor of $c$, but gets a scaling in output that is less than $c$.\n",
    "\n",
    "The last case is when $\\alpha + \\beta > 1$. This is called **increasing returns to scale**, and occurs when a company increases their production inputs by $c$, but gets an increase in output that is greater than $c$.\n",
    "\n",
    "Let us visually examine how values of $\\alpha$ and $\\beta$ affect output."
   ]
  },
  {
   "cell_type": "code",
   "execution_count": 14,
   "metadata": {},
   "outputs": [
    {
     "data": {
      "application/vnd.jupyter.widget-view+json": {
       "model_id": "fef04621a0864ee2b8183055a6cfb9c1",
       "version_major": 2,
       "version_minor": 0
      },
      "text/plain": [
       "interactive(children=(FloatSlider(value=1.0, description='alpha_beta_sum', max=3.0, min=0.1), Output()), _dom_…"
      ]
     },
     "metadata": {},
     "output_type": "display_data"
    }
   ],
   "source": [
    "alpha_beta_slider = widgets.FloatSlider(min = 0.1, max = 3, step = 0.1, value = 1)\n",
    "display(widgets.interactive(change_alpha_beta, alpha_beta_sum = alpha_beta_slider))"
   ]
  },
  {
   "cell_type": "markdown",
   "metadata": {},
   "source": [
    "**Question 1.6:** In the hypothetical case where a company can increase inputs to N, a very large amount approaching infinity, all cases of returns to scale result in extremeley high output, approaching infinity. Thus, the owner of the company in such a scenario would not care if their production exhibited decreasing, constant or increasing returns to scale. What would the company prefer?\n",
    "\n",
    "<ol type=\"A\" style=\"list-style-type: lower-alpha;\">\n",
    "    <li>As long as the company can increase inputs to N, the owner will recieve the profits from an output approaching infinity anyways.</li>\n",
    "    <li>Even if the company could increase inputs to N, increasing returns to scale will approach infinite output faster than the other two possibilities and therefore the owner should care about the returns to scale on their production.</li>\n",
    "    <li>With N inputs, the owner will always have more inputs available to bolster production, regardless of returns to scale.</li>\n",
    "    <li>It depends on the company - some firms would care about the returns to scale and others wouldn't.</li>\n",
    "</ol>\n",
    "\n",
    "Assign the letter corresponding to your answer to `q1_6` below.\n"
   ]
  },
  {
   "cell_type": "code",
   "execution_count": 15,
   "metadata": {
    "tags": []
   },
   "outputs": [],
   "source": [
    "q1_6 = \"b\""
   ]
  },
  {
   "cell_type": "code",
   "execution_count": 16,
   "metadata": {
    "deletable": false,
    "editable": false
   },
   "outputs": [
    {
     "data": {
      "text/html": [
       "<p><strong><pre style='display: inline;'>q1_6</pre></strong> passed! 🌟</p>"
      ],
      "text/plain": [
       "q1_6 results: All test cases passed!"
      ]
     },
     "execution_count": 16,
     "metadata": {},
     "output_type": "execute_result"
    }
   ],
   "source": [
    "grader.check(\"q1_6\")"
   ]
  },
  {
   "cell_type": "markdown",
   "metadata": {},
   "source": [
    "---"
   ]
  },
  {
   "cell_type": "markdown",
   "metadata": {},
   "source": [
    "## Part 2: Real-world Datasets and Jupyter's File System\n",
    "\n",
    "The second part of this lab will go over how to download a dataset, convert it into a format you can interact with through Jupyter notebboks, and prepare it for analysis. This is an essential skill for future classes and in industry, as you will be able to leverage the flexibility of Python and Jupyter notebooks for any kind of data analysis work.\n",
    "\n",
    "### Downloading the Dataset\n",
    "\n",
    "In almost all cases in industry, you will have to find the dataset that can answer the question you are trying to solve. However, as we are introducing you to this process, we will be providing the link to such a dataset.\n",
    "\n",
    "We will be using \"Penn World Table\" (PWT), a dataset that catalogues information on relative levels of income, output, inputs and productivity for 182 countries between 1950 and 2019. It was compiled by the University of Groningen.\n",
    "\n",
    "This is the dataset you will be using for Project 2. This lab will provide a broad overview of the data you will be working with.\n",
    "\n",
    "Once you have found a dataset, you must be able to download or otherwise convert the file into a format Python can read. The most common and easily-read type is a .csv or Comma Seperated Values file. Data analysis packages used in future classes and industry, like Pandas and datascience, have functions that convert .csv files into Tables. We are going to go through such a process now."
   ]
  },
  {
   "cell_type": "markdown",
   "metadata": {},
   "source": [
    "**Question 2.1**\n",
    "1. Go to: https://www.rug.nl/ggdc/productivity/pwt/ and download the Excel datafile. While Python can read Excel files, it's better able to interpret .csv files as they are simpler.\n",
    "2. Open the Excel file, select the \"Data\" sheet, then File > Save As. Type in a file name and change the file format to CSV UTF-8 (Comma-delimited) (.csv). It should be among \"common formats\". If a warning appears, select \"Ok\". This is because CSVs can only represent data on a single spreadsheet. As this Excel file has multiple spreadsheets, Excel will only convert the active sheet (\"Data\" - the one we care about) into a .csv file. \n",
    "\n",
    "Alternatively, if you do not have access to Excel, you can upload the datafile to Google Drive and open the Excel file in Google Sheets. You will then select the \"Data\" tab and File > Download > Comma Separated Values (.csv). Tutorial here if you get stuck: https://imgur.com/a/LFC8e1V\n",
    "\n",
    "Important: Click on the \"Data\" tab before downloading as only the active sheet gets converted!"
   ]
  },
  {
   "cell_type": "markdown",
   "metadata": {},
   "source": [
    "### Uploading a Dataset to Jupyter\n",
    "\n",
    "If you right-click on the Jupyter logo on the top left of the notebook and select \"Open Link in New Tab\", this will send you to the Jupyter file structure on DataHub. This is very similar to the file structure on your own computer. Your current location is at the root of this file structure tree. Go ahead and explore - many of the materials from your other classes that use Jupyter notebooks can be seen. Just be careful not to delete or rename files. \n",
    "\n",
    "Let's try to navigate to the folder where this notebook is located: `fa24-materials > lab > lab04`."
   ]
  },
  {
   "cell_type": "markdown",
   "metadata": {},
   "source": [
    "**Question 2.2**\n",
    "\n",
    "1. Upload the .csv file you just downloaded to the same folder as this notebook. Please name the file `pwt1001.csv`. Uploading is accomplished by dragging and dropping the file into the file explorer window.\n",
    "2. Assign the variable `file_name` below such that it matches the name of the CSV file that you just uploaded.\n",
    "3. Run the code cell below."
   ]
  },
  {
   "cell_type": "code",
   "execution_count": 17,
   "metadata": {
    "scrolled": true,
    "tags": []
   },
   "outputs": [
    {
     "data": {
      "text/html": [
       "<table border=\"1\" class=\"dataframe\">\n",
       "    <thead>\n",
       "        <tr>\n",
       "            <th>countrycode</th> <th>country</th> <th>currency_unit</th> <th>year</th> <th>rgdpe</th> <th>rgdpo</th> <th>pop</th> <th>emp</th> <th>avh</th> <th>hc</th> <th>ccon</th> <th>cda</th> <th>cgdpe</th> <th>cgdpo</th> <th>cn</th> <th>ck</th> <th>ctfp</th> <th>cwtfp</th> <th>rgdpna</th> <th>rconna</th> <th>rdana</th> <th>rnna</th> <th>rkna</th> <th>rtfpna</th> <th>rwtfpna</th> <th>labsh</th> <th>irr</th> <th>delta</th> <th>xr</th> <th>pl_con</th> <th>pl_da</th> <th>pl_gdpo</th> <th>i_cig</th> <th>i_xm</th> <th>i_xr</th> <th>i_outlier</th> <th>i_irr</th> <th>cor_exp</th> <th>statcap</th> <th>csh_c</th> <th>csh_i</th> <th>csh_g</th> <th>csh_x</th> <th>csh_m</th> <th>csh_r</th> <th>pl_c</th> <th>pl_i</th> <th>pl_g</th> <th>pl_x</th> <th>pl_m</th> <th>pl_n</th> <th>pl_k</th>\n",
       "        </tr>\n",
       "    </thead>\n",
       "    <tbody>\n",
       "        <tr>\n",
       "            <td>ABW        </td> <td>Aruba  </td> <td>Aruban Guilder</td> <td>1950</td> <td>nan  </td> <td>nan  </td> <td>nan </td> <td>nan </td> <td>nan </td> <td>nan </td> <td>nan </td> <td>nan </td> <td>nan  </td> <td>nan  </td> <td>nan </td> <td>nan </td> <td>nan </td> <td>nan  </td> <td>nan   </td> <td>nan   </td> <td>nan  </td> <td>nan </td> <td>nan </td> <td>nan   </td> <td>nan    </td> <td>nan  </td> <td>nan </td> <td>nan  </td> <td>nan </td> <td>nan   </td> <td>nan  </td> <td>nan    </td> <td>nan  </td> <td>nan </td> <td>nan </td> <td>nan      </td> <td>nan  </td> <td>nan    </td> <td>nan    </td> <td>nan  </td> <td>nan  </td> <td>nan  </td> <td>nan  </td> <td>nan  </td> <td>nan  </td> <td>nan </td> <td>nan </td> <td>nan </td> <td>nan </td> <td>nan </td> <td>nan </td> <td>nan </td>\n",
       "        </tr>\n",
       "        <tr>\n",
       "            <td>ABW        </td> <td>Aruba  </td> <td>Aruban Guilder</td> <td>1951</td> <td>nan  </td> <td>nan  </td> <td>nan </td> <td>nan </td> <td>nan </td> <td>nan </td> <td>nan </td> <td>nan </td> <td>nan  </td> <td>nan  </td> <td>nan </td> <td>nan </td> <td>nan </td> <td>nan  </td> <td>nan   </td> <td>nan   </td> <td>nan  </td> <td>nan </td> <td>nan </td> <td>nan   </td> <td>nan    </td> <td>nan  </td> <td>nan </td> <td>nan  </td> <td>nan </td> <td>nan   </td> <td>nan  </td> <td>nan    </td> <td>nan  </td> <td>nan </td> <td>nan </td> <td>nan      </td> <td>nan  </td> <td>nan    </td> <td>nan    </td> <td>nan  </td> <td>nan  </td> <td>nan  </td> <td>nan  </td> <td>nan  </td> <td>nan  </td> <td>nan </td> <td>nan </td> <td>nan </td> <td>nan </td> <td>nan </td> <td>nan </td> <td>nan </td>\n",
       "        </tr>\n",
       "        <tr>\n",
       "            <td>ABW        </td> <td>Aruba  </td> <td>Aruban Guilder</td> <td>1952</td> <td>nan  </td> <td>nan  </td> <td>nan </td> <td>nan </td> <td>nan </td> <td>nan </td> <td>nan </td> <td>nan </td> <td>nan  </td> <td>nan  </td> <td>nan </td> <td>nan </td> <td>nan </td> <td>nan  </td> <td>nan   </td> <td>nan   </td> <td>nan  </td> <td>nan </td> <td>nan </td> <td>nan   </td> <td>nan    </td> <td>nan  </td> <td>nan </td> <td>nan  </td> <td>nan </td> <td>nan   </td> <td>nan  </td> <td>nan    </td> <td>nan  </td> <td>nan </td> <td>nan </td> <td>nan      </td> <td>nan  </td> <td>nan    </td> <td>nan    </td> <td>nan  </td> <td>nan  </td> <td>nan  </td> <td>nan  </td> <td>nan  </td> <td>nan  </td> <td>nan </td> <td>nan </td> <td>nan </td> <td>nan </td> <td>nan </td> <td>nan </td> <td>nan </td>\n",
       "        </tr>\n",
       "        <tr>\n",
       "            <td>ABW        </td> <td>Aruba  </td> <td>Aruban Guilder</td> <td>1953</td> <td>nan  </td> <td>nan  </td> <td>nan </td> <td>nan </td> <td>nan </td> <td>nan </td> <td>nan </td> <td>nan </td> <td>nan  </td> <td>nan  </td> <td>nan </td> <td>nan </td> <td>nan </td> <td>nan  </td> <td>nan   </td> <td>nan   </td> <td>nan  </td> <td>nan </td> <td>nan </td> <td>nan   </td> <td>nan    </td> <td>nan  </td> <td>nan </td> <td>nan  </td> <td>nan </td> <td>nan   </td> <td>nan  </td> <td>nan    </td> <td>nan  </td> <td>nan </td> <td>nan </td> <td>nan      </td> <td>nan  </td> <td>nan    </td> <td>nan    </td> <td>nan  </td> <td>nan  </td> <td>nan  </td> <td>nan  </td> <td>nan  </td> <td>nan  </td> <td>nan </td> <td>nan </td> <td>nan </td> <td>nan </td> <td>nan </td> <td>nan </td> <td>nan </td>\n",
       "        </tr>\n",
       "        <tr>\n",
       "            <td>ABW        </td> <td>Aruba  </td> <td>Aruban Guilder</td> <td>1954</td> <td>nan  </td> <td>nan  </td> <td>nan </td> <td>nan </td> <td>nan </td> <td>nan </td> <td>nan </td> <td>nan </td> <td>nan  </td> <td>nan  </td> <td>nan </td> <td>nan </td> <td>nan </td> <td>nan  </td> <td>nan   </td> <td>nan   </td> <td>nan  </td> <td>nan </td> <td>nan </td> <td>nan   </td> <td>nan    </td> <td>nan  </td> <td>nan </td> <td>nan  </td> <td>nan </td> <td>nan   </td> <td>nan  </td> <td>nan    </td> <td>nan  </td> <td>nan </td> <td>nan </td> <td>nan      </td> <td>nan  </td> <td>nan    </td> <td>nan    </td> <td>nan  </td> <td>nan  </td> <td>nan  </td> <td>nan  </td> <td>nan  </td> <td>nan  </td> <td>nan </td> <td>nan </td> <td>nan </td> <td>nan </td> <td>nan </td> <td>nan </td> <td>nan </td>\n",
       "        </tr>\n",
       "    </tbody>\n",
       "</table>\n",
       "<p>... (12805 rows omitted)</p>"
      ],
      "text/plain": [
       "<IPython.core.display.HTML object>"
      ]
     },
     "metadata": {},
     "output_type": "display_data"
    }
   ],
   "source": [
    "file_name = \"pwt1001.csv\"\n",
    "\n",
    "### Do not edit the code below ###\n",
    "try: \n",
    "    data = Table.read_table(file_name, sep=\";\")\n",
    "    assert len(data) > 50\n",
    "except:\n",
    "    data = Table.read_table(file_name, sep=\",\")\n",
    "data.show(5)"
   ]
  },
  {
   "cell_type": "code",
   "execution_count": 17,
   "metadata": {
    "deletable": false,
    "editable": false
   },
   "outputs": [
    {
     "data": {
      "text/html": [
       "<p><strong><pre style='display: inline;'>q2_2</pre></strong> passed! 🎉</p>"
      ],
      "text/plain": [
       "q2_2 results: All test cases passed!"
      ]
     },
     "execution_count": 17,
     "metadata": {},
     "output_type": "execute_result"
    }
   ],
   "source": [
    "grader.check(\"q2_2\")"
   ]
  },
  {
   "cell_type": "markdown",
   "metadata": {},
   "source": [
    "Congratulations! You've uploaded and read in your first dataset! Below are a few questions that will help you get to know the data you will be working with."
   ]
  },
  {
   "cell_type": "markdown",
   "metadata": {},
   "source": [
    "<!-- BEGIN QUESTION -->\n",
    "\n",
    "**Question 2.3.** Are there missing values in `data`? What transformation could we do on the data to mitigate against this?\n"
   ]
  },
  {
   "cell_type": "markdown",
   "metadata": {},
   "source": [
    "There is missing data, one way to transform our data is to fill in the missing values with the summary statistics or remove the rows/columns with the missing data. "
   ]
  },
  {
   "cell_type": "markdown",
   "metadata": {},
   "source": [
    "<!-- END QUESTION -->\n",
    "\n",
    "<!-- BEGIN QUESTION -->\n",
    "\n",
    "**Question 2.4.** Based on our discussion of the Cobb-Douglas Production Function, which columns would be most beneficial for our analysis?\n"
   ]
  },
  {
   "cell_type": "markdown",
   "metadata": {},
   "source": [
    "The relevant columns would be ck/cn for capital, emp for labour, and rgdpe for output. "
   ]
  },
  {
   "cell_type": "markdown",
   "metadata": {},
   "source": [
    "<!-- END QUESTION -->\n",
    "\n",
    "**Question 2.5.** Create a list of all of the countries in `data` in alphabetical order. Call it `countries`. Think about 2-3 countries you would like to explore in the upcoming project.\n",
    "\n",
    "_Hint:_ How do we get the unique values in a column?"
   ]
  },
  {
   "cell_type": "code",
   "execution_count": 18,
   "metadata": {
    "tags": []
   },
   "outputs": [
    {
     "data": {
      "text/plain": [
       "array(['Albania', 'Algeria', 'Angola', 'Anguilla', 'Antigua and Barbuda',\n",
       "       'Argentina', 'Armenia', 'Aruba', 'Australia', 'Austria',\n",
       "       'Azerbaijan', 'Bahamas', 'Bahrain', 'Bangladesh', 'Barbados',\n",
       "       'Belarus', 'Belgium', 'Belize', 'Benin', 'Bermuda', 'Bhutan',\n",
       "       'Bolivia (Plurinational State of)', 'Bosnia and Herzegovina',\n",
       "       'Botswana', 'Brazil', 'British Virgin Islands', 'Brunei Darussalam',\n",
       "       'Bulgaria', 'Burkina Faso', 'Burundi', 'Cabo Verde', 'Cambodia',\n",
       "       'Cameroon', 'Canada', 'Cayman Islands', 'Central African Republic',\n",
       "       'Chad', 'Chile', 'China', 'China, Hong Kong SAR',\n",
       "       'China, Macao SAR', 'Colombia', 'Comoros', 'Congo', 'Costa Rica',\n",
       "       'Croatia', 'Curaçao', 'Cyprus', 'Czech Republic', \"Côte d'Ivoire\",\n",
       "       'D.R. of the Congo', 'Denmark', 'Djibouti', 'Dominica',\n",
       "       'Dominican Republic', 'Ecuador', 'Egypt', 'El Salvador',\n",
       "       'Equatorial Guinea', 'Estonia', 'Eswatini', 'Ethiopia', 'Fiji',\n",
       "       'Finland', 'France', 'Gabon', 'Gambia', 'Georgia', 'Germany',\n",
       "       'Ghana', 'Greece', 'Grenada', 'Guatemala', 'Guinea',\n",
       "       'Guinea-Bissau', 'Guyana', 'Haiti', 'Honduras', 'Hungary',\n",
       "       'Iceland', 'India', 'Indonesia', 'Iran (Islamic Republic of)',\n",
       "       'Iraq', 'Ireland', 'Israel', 'Italy', 'Jamaica', 'Japan', 'Jordan',\n",
       "       'Kazakhstan', 'Kenya', 'Kuwait', 'Kyrgyzstan', \"Lao People's DR\",\n",
       "       'Latvia', 'Lebanon', 'Lesotho', 'Liberia', 'Lithuania',\n",
       "       'Luxembourg', 'Madagascar', 'Malawi', 'Malaysia', 'Maldives',\n",
       "       'Mali', 'Malta', 'Mauritania', 'Mauritius', 'Mexico', 'Mongolia',\n",
       "       'Montenegro', 'Montserrat', 'Morocco', 'Mozambique', 'Myanmar',\n",
       "       'Namibia', 'Nepal', 'Netherlands', 'New Zealand', 'Nicaragua',\n",
       "       'Niger', 'Nigeria', 'North Macedonia', 'Norway', 'Oman', 'Pakistan',\n",
       "       'Panama', 'Paraguay', 'Peru', 'Philippines', 'Poland', 'Portugal',\n",
       "       'Qatar', 'Republic of Korea', 'Republic of Moldova', 'Romania',\n",
       "       'Russian Federation', 'Rwanda', 'Saint Kitts and Nevis',\n",
       "       'Saint Lucia', 'Sao Tome and Principe', 'Saudi Arabia', 'Senegal',\n",
       "       'Serbia', 'Seychelles', 'Sierra Leone', 'Singapore',\n",
       "       'Sint Maarten (Dutch part)', 'Slovakia', 'Slovenia', 'South Africa',\n",
       "       'Spain', 'Sri Lanka', 'St. Vincent and the Grenadines',\n",
       "       'State of Palestine', 'Sudan', 'Suriname', 'Sweden', 'Switzerland',\n",
       "       'Syrian Arab Republic', 'Taiwan', 'Tajikistan', 'Thailand', 'Togo',\n",
       "       'Trinidad and Tobago', 'Tunisia', 'Turkey', 'Turkmenistan',\n",
       "       'Turks and Caicos Islands', 'U.R. of Tanzania: Mainland', 'Uganda',\n",
       "       'Ukraine', 'United Arab Emirates', 'United Kingdom',\n",
       "       'United States', 'Uruguay', 'Uzbekistan',\n",
       "       'Venezuela (Bolivarian Republic of)', 'Viet Nam', 'Yemen', 'Zambia',\n",
       "       'Zimbabwe'],\n",
       "      dtype='<U34')"
      ]
     },
     "execution_count": 18,
     "metadata": {},
     "output_type": "execute_result"
    }
   ],
   "source": [
    "countries = np.unique(data[\"country\"])\n",
    "countries"
   ]
  },
  {
   "cell_type": "code",
   "execution_count": 19,
   "metadata": {
    "deletable": false,
    "editable": false
   },
   "outputs": [
    {
     "data": {
      "text/html": [
       "<p><strong><pre style='display: inline;'>q2_5</pre></strong> passed! 🚀</p>"
      ],
      "text/plain": [
       "q2_5 results: All test cases passed!"
      ]
     },
     "execution_count": 19,
     "metadata": {},
     "output_type": "execute_result"
    }
   ],
   "source": [
    "grader.check(\"q2_5\")"
   ]
  },
  {
   "cell_type": "markdown",
   "metadata": {},
   "source": [
    "#### Let's calculate a few summary statistics for one of the variables, `rgdpe` (Expenditure-side real GDP at chained PPPs), by making some simple numpy calls to compare living standards."
   ]
  },
  {
   "cell_type": "markdown",
   "metadata": {},
   "source": [
    "**Question 2.6.1.** Calculate the minimum and maximum values of rgdpe and assign them to `minimum_rgdpe` and `maximum_rgdpe` accordingly.\n"
   ]
  },
  {
   "cell_type": "code",
   "execution_count": 20,
   "metadata": {
    "tags": []
   },
   "outputs": [
    {
     "data": {
      "text/plain": [
       "(20.0, 20860506.0)"
      ]
     },
     "execution_count": 20,
     "metadata": {},
     "output_type": "execute_result"
    }
   ],
   "source": [
    "rgdpe_no_nan = data[\"rgdpe\"][~np.isnan(data[\"rgdpe\"])]        \n",
    "minimum_rgdpe = np.min(rgdpe_no_nan)\n",
    "maximum_rgdpe = np.max(rgdpe_no_nan)\n",
    "minimum_rgdpe, maximum_rgdpe"
   ]
  },
  {
   "cell_type": "code",
   "execution_count": 21,
   "metadata": {
    "deletable": false,
    "editable": false
   },
   "outputs": [
    {
     "data": {
      "text/html": [
       "<p><strong><pre style='display: inline;'>q2_6_1</pre></strong> passed! ✨</p>"
      ],
      "text/plain": [
       "q2_6_1 results: All test cases passed!"
      ]
     },
     "execution_count": 21,
     "metadata": {},
     "output_type": "execute_result"
    }
   ],
   "source": [
    "grader.check(\"q2_6_1\")"
   ]
  },
  {
   "cell_type": "markdown",
   "metadata": {},
   "source": [
    "**Question 2.6.2.** Calculate the mean, median, 25th percentile, and 75th percentile values of rgdpe and assign them to `mean_rgdpe`, `median_rgdpe`, `twentyfifth_rgdpe`, and `seventyfifth_percentile` accordingly.\n",
    "\n",
    "Hint: What percentile corresponds to the median value?"
   ]
  },
  {
   "cell_type": "code",
   "execution_count": 22,
   "metadata": {
    "tags": []
   },
   "outputs": [
    {
     "data": {
      "text/plain": [
       "(304852.30935666891, 30319.0, 6801.5, 155974.0)"
      ]
     },
     "execution_count": 22,
     "metadata": {},
     "output_type": "execute_result"
    }
   ],
   "source": [
    "mean_rgdpe = np.mean(rgdpe_no_nan)\n",
    "median_rgdpe = np.median(rgdpe_no_nan)\n",
    "twentyfifth_rgdpe = np.percentile(rgdpe_no_nan, 25)\n",
    "seventyfifth_rgdpe = np.percentile(rgdpe_no_nan, 75)\n",
    "\n",
    "mean_rgdpe, median_rgdpe, twentyfifth_rgdpe, seventyfifth_rgdpe"
   ]
  },
  {
   "cell_type": "code",
   "execution_count": 23,
   "metadata": {
    "deletable": false,
    "editable": false
   },
   "outputs": [
    {
     "data": {
      "text/html": [
       "<p><strong><pre style='display: inline;'>q2_6_2</pre></strong> passed! 🎉</p>"
      ],
      "text/plain": [
       "q2_6_2 results: All test cases passed!"
      ]
     },
     "execution_count": 23,
     "metadata": {},
     "output_type": "execute_result"
    }
   ],
   "source": [
    "grader.check(\"q2_6_2\")"
   ]
  },
  {
   "cell_type": "markdown",
   "metadata": {},
   "source": [
    "<!-- BEGIN QUESTION -->\n",
    "\n",
    "**Question 2.7.** Now let's create a histogram to visualize this information! Use the `rgdpe` column from our `data` table to create a histogram with 20 equally spaced bins. "
   ]
  },
  {
   "cell_type": "code",
   "execution_count": 24,
   "metadata": {
    "tags": []
   },
   "outputs": [
    {
     "data": {
      "image/png": "[encoded data removed]",
      "text/plain": [
       "<Figure size 640x480 with 1 Axes>"
      ]
     },
     "metadata": {},
     "output_type": "display_data"
    }
   ],
   "source": [
    "plt.hist(rgdpe_no_nan, bins=20)\n",
    "plt.xlabel(\"rgdpe\")\n",
    "plt.ylabel(\"Frequency\")\n",
    "plt.title(\"Histogram of rgdpe\")\n",
    "plt.show()"
   ]
  },
  {
   "cell_type": "markdown",
   "metadata": {},
   "source": [
    "<!-- END QUESTION -->\n",
    "\n",
    "<!-- BEGIN QUESTION -->\n",
    "\n",
    "**Question 2.8.** Based on the summary statistics you calculated above, as well as the histogram you just created, do you observe anything of particular interest? Note that there is no 'correct' solution here, we just expect you to reasonably justify your choice."
   ]
  },
  {
   "cell_type": "markdown",
   "metadata": {},
   "source": [
    "This distribution is highly skewed to the right. This might suggest that most countries have a relatively low GDP but a few countries like the USA have very high real GDP values. This would indicate a large economic disparity between countries and a significant wealth concentration. "
   ]
  },
  {
   "cell_type": "markdown",
   "metadata": {},
   "source": [
    "<!-- END QUESTION -->\n",
    "\n",
    "### Let's explore the data further! We will evaluate employment levels in Canada and Mexico as a primer to the project you will be working on."
   ]
  },
  {
   "cell_type": "markdown",
   "metadata": {},
   "source": [
    "**Question 2.9** Calculate the mean, median, max, and min values of `emp` for both Canada and Mexico and assign them to the relevant variables below:"
   ]
  },
  {
   "cell_type": "code",
   "execution_count": 25,
   "metadata": {
    "tags": []
   },
   "outputs": [
    {
     "data": {
      "text/plain": [
       "((11.885714285714286, 11.5, 6.0, 19.0), (25.942857142857143, 23.5, 8.0, 55.0))"
      ]
     },
     "execution_count": 25,
     "metadata": {},
     "output_type": "execute_result"
    }
   ],
   "source": [
    "canada_emp = data.where(\"country\", \"Canada\")[\"emp\"]\n",
    "mean_canada_emp = np.mean(canada_emp)\n",
    "median_canada_emp = np.median(canada_emp)\n",
    "min_canada_emp = np.min(canada_emp)\n",
    "max_canada_emp = np.max(canada_emp)\n",
    "\n",
    "mexico_emp = data.where(\"country\", \"Mexico\")[\"emp\"]\n",
    "mean_mexico_emp = np.mean(mexico_emp)\n",
    "median_mexico_emp = np.median(mexico_emp)\n",
    "min_mexico_emp = np.min(mexico_emp)\n",
    "max_mexico_emp = np.max(mexico_emp)\n",
    "\n",
    "((mean_canada_emp, median_canada_emp, min_canada_emp, max_canada_emp), (mean_mexico_emp, median_mexico_emp, min_mexico_emp, max_mexico_emp))"
   ]
  },
  {
   "cell_type": "code",
   "execution_count": 26,
   "metadata": {
    "deletable": false,
    "editable": false
   },
   "outputs": [
    {
     "data": {
      "text/html": [
       "<p><strong><pre style='display: inline;'>q2_9</pre></strong> passed! 🙌</p>"
      ],
      "text/plain": [
       "q2_9 results: All test cases passed!"
      ]
     },
     "execution_count": 26,
     "metadata": {},
     "output_type": "execute_result"
    }
   ],
   "source": [
    "grader.check(\"q2_9\")"
   ]
  },
  {
   "cell_type": "markdown",
   "metadata": {},
   "source": [
    "<!-- BEGIN QUESTION -->\n",
    "\n",
    "**Question 2.10.** Based solely on the summary statistics you calculated, do you observe anything of particular interest? Do any of the similarities or differences have anything to do with the metric we are exploring, `emp`? Note that there is no 'correct' solution here, we just expect you to reasonably justify your choice."
   ]
  },
  {
   "cell_type": "markdown",
   "metadata": {},
   "source": [
    "Mexico has a higher mean, median, and max employment compared to Canada which could just reflect the population difference between the two countries since Mexico is larger in terms of population. Usually we would associate Canada as being a much more efficient country and more productive country just due to its place in the world as a well-developed country; Canada has highly skilled labourers which does cost more to employ. However, ostensibly, Mexico seems to dominate the employment statistics. It could also be due to other factors such as low labour cost in Mexico, so other countries would like to make goods in Mexico which in turn boosts their workforce rather than their own country. "
   ]
  },
  {
   "cell_type": "markdown",
   "metadata": {},
   "source": [
    "<!-- END QUESTION -->\n",
    "\n",
    "### That's all! Get ready for a fun and insightful project!"
   ]
  },
  {
   "cell_type": "markdown",
   "metadata": {},
   "source": [
    "---"
   ]
  },
  {
   "cell_type": "markdown",
   "metadata": {},
   "source": [
    "## Credits\n",
    "\n",
    "We would like to thank Professor Raymond Hawkins for his input and Lecture 4 of his Economics 100B course at UC Berkeley, which informed parts of this notebook.\n",
    "\n",
    "Further, we reference the University of Groningen's Penn World Table 10.0 Dataset throughout this notebook:\n",
    "\n",
    "Feenstra, Robert C., Robert Inklaar and Marcel P. Timmer (2015), \"The Next Generation of the Penn World Table\" American Economic Review, 105(10), 3150-3182, available for download at www.ggdc.net/pwt"
   ]
  },
  {
   "cell_type": "markdown",
   "metadata": {
    "deletable": false,
    "editable": false
   },
   "source": [
    "## Submission\n",
    "\n",
    "Make sure you have run all cells in your notebook in order before running the cell below, so that all images/graphs appear in the output. The cell below will generate a zip file for you to submit. **Please save before exporting!**"
   ]
  },
  {
   "cell_type": "code",
   "execution_count": 27,
   "metadata": {
    "deletable": false,
    "editable": false
   },
   "outputs": [
    {
     "data": {
      "text/html": [
       "\n",
       "            <p>Your submission has been exported. Click <a href=\"lab04_2024_10_01T13_22_11_236506.zip\" download=\"lab04_2024_10_01T13_22_11_236506.zip\" target=\"_blank\">here</a>\n",
       "            to download the zip file.</p>\n",
       "            "
      ],
      "text/plain": [
       "<IPython.core.display.HTML object>"
      ]
     },
     "metadata": {},
     "output_type": "display_data"
    }
   ],
   "source": [
    "# Save your notebook first, then run this cell to export your submission.\n",
    "grader.export(pdf=False)"
   ]
  },
  {
   "cell_type": "markdown",
   "metadata": {},
   "source": [
    " "
   ]
  }
 ],
 "metadata": {
  "@webio": {
   "lastCommId": null,
   "lastKernelId": null
  },
  "kernelspec": {
   "display_name": "Python 3 (ipykernel)",
   "language": "python",
   "name": "python3"
  },
  "language_info": {
   "codemirror_mode": {
    "name": "ipython",
    "version": 3
   },
   "file_extension": ".py",
   "mimetype": "text/x-python",
   "name": "python",
   "nbconvert_exporter": "python",
   "pygments_lexer": "ipython3",
   "version": "3.11.9"
  },
  "otter": {
   "OK_FORMAT": true,
   "tests": {
    "q1_1": {
     "name": "q1_1",
     "points": null,
     "suites": [
      {
       "cases": [
        {
         "code": ">>> np.isclose(cobb_douglas(1, 2, 2, 0.5), 2)\nTrue",
         "hidden": false,
         "locked": false
        },
        {
         "code": ">>> np.isclose(cobb_douglas(1, 4, 0.5, 0.2, 1.1), 0.6155722066724582)\nTrue",
         "hidden": false,
         "locked": false
        },
        {
         "code": ">>> cobb_douglas(1, 2, 2, 0.5) == cobb_douglas(1, 2, 2, 0.5, 0.5)\nTrue",
         "hidden": false,
         "locked": false
        }
       ],
       "scored": true,
       "setup": "",
       "teardown": "",
       "type": "doctest"
      }
     ]
    },
    "q1_3": {
     "name": "q1_3",
     "points": [
      0
     ],
     "suites": [
      {
       "cases": [
        {
         "code": ">>> q1_3 in [\"a\", \"b\", \"c\", \"d\"]\nTrue",
         "hidden": false,
         "locked": false
        }
       ],
       "scored": true,
       "setup": "",
       "teardown": "",
       "type": "doctest"
      }
     ]
    },
    "q1_5": {
     "name": "q1_5",
     "points": [
      0
     ],
     "suites": [
      {
       "cases": [
        {
         "code": ">>> q1_5 in [\"a\", \"b\", \"c\", \"d\"]\nTrue",
         "hidden": false,
         "locked": false
        }
       ],
       "scored": true,
       "setup": "",
       "teardown": "",
       "type": "doctest"
      }
     ]
    },
    "q1_6": {
     "name": "q1_6",
     "points": [
      0
     ],
     "suites": [
      {
       "cases": [
        {
         "code": ">>> q1_6 in [\"a\", \"b\", \"c\", \"d\"]\nTrue",
         "hidden": false,
         "locked": false
        }
       ],
       "scored": true,
       "setup": "",
       "teardown": "",
       "type": "doctest"
      }
     ]
    },
    "q2_2": {
     "name": "q2_2",
     "points": null,
     "suites": [
      {
       "cases": [
        {
         "code": ">>> assert type(data) == Table\n>>> assert data.num_rows == 12810\n>>> assert data.num_columns == 52\n",
         "hidden": false,
         "locked": false
        },
        {
         "code": ">>> assert data.group(\"countrycode\").num_rows == 183\n>>> assert data.group(\"year\").num_rows == 70\n",
         "hidden": false,
         "locked": false
        }
       ],
       "scored": true,
       "setup": "",
       "teardown": "",
       "type": "doctest"
      }
     ]
    },
    "q2_5": {
     "name": "q2_5",
     "points": [
      0,
      1
     ],
     "suites": [
      {
       "cases": [
        {
         "code": ">>> assert type(countries) == np.ndarray\n",
         "hidden": false,
         "locked": false
        },
        {
         "code": ">>> assert countries[100] == 'Luxembourg'\n>>> assert len(countries) == 183\n",
         "hidden": false,
         "locked": false
        }
       ],
       "scored": true,
       "setup": "",
       "teardown": "",
       "type": "doctest"
      }
     ]
    },
    "q2_6_1": {
     "name": "q2_6_1",
     "points": [
      0
     ],
     "suites": [
      {
       "cases": [
        {
         "code": ">>> assert 0 < minimum_rgdpe and minimum_rgdpe < 40\n>>> assert 20000000 < maximum_rgdpe and maximum_rgdpe < 30000000\n",
         "hidden": false,
         "locked": false
        }
       ],
       "scored": true,
       "setup": "",
       "teardown": "",
       "type": "doctest"
      }
     ]
    },
    "q2_6_2": {
     "name": "q2_6_2",
     "points": [
      0
     ],
     "suites": [
      {
       "cases": [
        {
         "code": ">>> assert 200000 < mean_rgdpe and mean_rgdpe < 400000\n>>> assert 20000 < median_rgdpe and median_rgdpe < 40000\n>>> assert 5000 < twentyfifth_rgdpe and twentyfifth_rgdpe < 7000\n>>> assert 150000 < seventyfifth_rgdpe and seventyfifth_rgdpe < 160000\n",
         "hidden": false,
         "locked": false
        }
       ],
       "scored": true,
       "setup": "",
       "teardown": "",
       "type": "doctest"
      }
     ]
    },
    "q2_9": {
     "name": "q2_9",
     "points": [
      0
     ],
     "suites": [
      {
       "cases": [
        {
         "code": ">>> assert 0 < mean_canada_emp and mean_canada_emp < 30\n>>> assert 0 < median_canada_emp and median_canada_emp < 30\n>>> assert 0 < min_canada_emp and min_canada_emp < 30\n>>> assert 0 < max_canada_emp and max_canada_emp < 30\n>>> \n>>> assert 0 < mean_mexico_emp and mean_mexico_emp < 30\n>>> assert 0 < median_mexico_emp and median_mexico_emp < 30\n>>> assert 0 < min_mexico_emp and min_mexico_emp < 30\n>>> assert 0 < max_mexico_emp and max_mexico_emp < 60\n",
         "hidden": false,
         "locked": false
        }
       ],
       "scored": true,
       "setup": "",
       "teardown": "",
       "type": "doctest"
      }
     ]
    }
   }
  }
 },
 "nbformat": 4,
 "nbformat_minor": 4
}
