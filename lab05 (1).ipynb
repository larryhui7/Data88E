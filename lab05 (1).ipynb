{
 "cells": [
  {
   "cell_type": "code",
   "execution_count": 3,
   "metadata": {
    "deletable": false,
    "editable": false
   },
   "outputs": [],
   "source": [
    "# Initialize Otter\n",
    "import otter\n",
    "grader = otter.Notebook(\"lab05.ipynb\")"
   ]
  },
  {
   "cell_type": "markdown",
   "metadata": {},
   "source": [
    "<table style=\"width: 100%;\" id=\"nb-header\">\n",
    "    <tr style=\"background-color: transparent;\"><td>\n",
    "        <img src=\"https://data-88e.github.io/assets/images/blue_text.png\" width=\"250px\" style=\"margin-left: 0;\" />\n",
    "    </td><td>\n",
    "        <p style=\"text-align: right; font-size: 10pt;\"><strong>Economic Models</strong>, Fall 2023<br>\n",
    "            Dr. Eric Van Dusen <br>\n",
    "        Akhil Venkatesh <br>\n",
    "</table>"
   ]
  },
  {
   "cell_type": "code",
   "execution_count": 4,
   "metadata": {},
   "outputs": [],
   "source": [
    "from datascience import *\n",
    "import numpy as np\n",
    "import matplotlib.pyplot as plt\n",
    "# We import scipy later in the lab\n",
    "%matplotlib inline"
   ]
  },
  {
   "cell_type": "markdown",
   "metadata": {},
   "source": [
    "<!-- BEGIN QUESTION -->\n",
    "\n",
    "# Lab 5: Utility & LaTeX\n",
    "\n",
    "<!-- END QUESTION -->"
   ]
  },
  {
   "cell_type": "markdown",
   "metadata": {},
   "source": [
    "## Part 1: Using LaTeX and Markdown\n",
    "It's time to learn something new! You've seen a bit of LaTeX and markdown in lecture, now let's complete some of these exercises. Type out the following mathematical expressions in LaTeX, and use markdown to format the headings and tables. Google is your friend!\n",
    "\n",
    "If you get stuck, check out the LaTeX Guide: https://math.hws.edu/gassert/LaTeX_Guide_Title.pdf!"
   ]
  },
  {
   "cell_type": "markdown",
   "metadata": {
    "deletable": false,
    "editable": false
   },
   "source": [
    "**Question 1.1:** Quadratic Formula"
   ]
  },
  {
   "cell_type": "markdown",
   "metadata": {
    "deletable": false,
    "editable": false
   },
   "source": [
    "![quadratic formula](quadratic_formula.png)"
   ]
  },
  {
   "cell_type": "markdown",
   "metadata": {},
   "source": [
    "**Try it out!**\n",
    "$$\n",
    "\\frac{-b\\pm \\sqrt{b^2-4ac}}{2a}\n",
    "$$"
   ]
  },
  {
   "cell_type": "markdown",
   "metadata": {
    "deletable": false,
    "editable": false
   },
   "source": [
    "**Question 1.2:** Partial Derivative"
   ]
  },
  {
   "cell_type": "markdown",
   "metadata": {
    "deletable": false,
    "editable": false
   },
   "source": [
    "![partial derivative](partial_derivative.png)"
   ]
  },
  {
   "cell_type": "markdown",
   "metadata": {},
   "source": [
    "**Try it out!**\n",
    "$$\n",
    "\\frac{\\partial u}{\\partial x}=\\frac{1}{2}x^{20}+\\ln{3}-\\pi\n",
    "$$"
   ]
  },
  {
   "cell_type": "markdown",
   "metadata": {
    "deletable": false,
    "editable": false
   },
   "source": [
    "**Question 1.3:** Integral"
   ]
  },
  {
   "cell_type": "markdown",
   "metadata": {
    "deletable": false,
    "editable": false
   },
   "source": [
    "![integral](integral.png)"
   ]
  },
  {
   "cell_type": "markdown",
   "metadata": {},
   "source": [
    "**Try it out!**\n",
    "$$\n",
    "\\int_{-\\infty}^{\\infty} xp(x) \\text{d}x\n",
    "$$"
   ]
  },
  {
   "cell_type": "markdown",
   "metadata": {
    "deletable": false,
    "editable": false
   },
   "source": [
    "**Question 1.4:** Simplify in Steps using Align"
   ]
  },
  {
   "cell_type": "markdown",
   "metadata": {
    "deletable": false,
    "editable": false
   },
   "source": [
    "![align](align.png)"
   ]
  },
  {
   "cell_type": "markdown",
   "metadata": {},
   "source": [
    "**Try it out!**\n",
    "$$\n",
    "\\begin{aligned}\n",
    "(x+1)(x-1) & = x^2+x-x+1 \\\\\n",
    " & = x^2+1\n",
    "\\end{aligned}\n",
    "$$"
   ]
  },
  {
   "cell_type": "markdown",
   "metadata": {
    "deletable": false,
    "editable": false
   },
   "source": [
    "**Question 1.5:** Lagrangian Multiplier"
   ]
  },
  {
   "cell_type": "markdown",
   "metadata": {
    "deletable": false,
    "editable": false
   },
   "source": [
    "![lagrangian multiplier](lagrangian.png)"
   ]
  },
  {
   "cell_type": "markdown",
   "metadata": {},
   "source": [
    "**Try it out!**\n",
    "$$\n",
    "\\textit{L}(x,\\lambda)=f(x)-\\lambda g(x)\n",
    "$$"
   ]
  },
  {
   "cell_type": "markdown",
   "metadata": {
    "deletable": false,
    "editable": false
   },
   "source": [
    "**Question 1.6:** Headings"
   ]
  },
  {
   "cell_type": "markdown",
   "metadata": {
    "deletable": false,
    "editable": false
   },
   "source": [
    "![headings](headings.png)"
   ]
  },
  {
   "cell_type": "markdown",
   "metadata": {},
   "source": [
    "**Try it out!**\n",
    "\n",
    "# Heading 1\n",
    "## Heading 2\n",
    "### Heading 3\n",
    "#### Heading 4\n",
    "##### Heading 5\n",
    "###### Heading 6\n"
   ]
  },
  {
   "cell_type": "markdown",
   "metadata": {
    "deletable": false,
    "editable": false
   },
   "source": [
    "**Question 1.7:** Table"
   ]
  },
  {
   "cell_type": "markdown",
   "metadata": {
    "deletable": false,
    "editable": false
   },
   "source": [
    "![table](table.png)"
   ]
  },
  {
   "cell_type": "markdown",
   "metadata": {},
   "source": [
    "**Try it out!**\n",
    "\n",
    "|Vegetable|Comments|Weight|\n",
    "|------|------|------|\n",
    "|Carrots|Good early crop, then carrot fly.|7kg|\n",
    "|Lettuce|Slow to start, then bolted.|1kg|\n",
    "|French beans|Excellent.|12kg|\n"
   ]
  },
  {
   "cell_type": "markdown",
   "metadata": {
    "deletable": false,
    "editable": false
   },
   "source": [
    "**Question 1.8:** Limit <br>\n",
    "Hint: https://tex.stackexchange.com/questions/74969/how-to-make-the-limit-mathematics-sign"
   ]
  },
  {
   "cell_type": "markdown",
   "metadata": {
    "deletable": false,
    "editable": false
   },
   "source": [
    "![limit](limit.png)"
   ]
  },
  {
   "cell_type": "markdown",
   "metadata": {},
   "source": [
    "**Try it out!**\n",
    "$$\n",
    "h_i(t)=\\lim_{\\epsilon \\to 0} \\frac{1}{\\epsilon}\\frac{\\textsf{P}(t<T_i\\leqslant t+\\epsilon)}{\\textsf{P}(T_i>t)}\n",
    "$$"
   ]
  },
  {
   "cell_type": "markdown",
   "metadata": {},
   "source": [
    "## Part 2: Optimization, Utility Equations, Marginal Utility"
   ]
  },
  {
   "cell_type": "markdown",
   "metadata": {},
   "source": [
    "### What is Optimization?\n",
    "\n",
    "Optimization is the branch of mathematics focused on finding extreme values (max or min) of\n",
    "functions.\n",
    "\n",
    "Optimization tools appear in many places such as:\n",
    "\n",
    "- Building economic models in which individuals make decisions that maximize their utility.  \n",
    "- Building statistical models and maximizing the fit of these models by optimizing certain fit\n",
    "  functions.  "
   ]
  },
  {
   "cell_type": "markdown",
   "metadata": {},
   "source": [
    "### Derivatives and Optima\n",
    "\n",
    "If you have already taken calculus, this should be familiar to you. If not, no worries!\n",
    "\n",
    "Consider function $ f(x) $ which maps a number into another number. We can say that any point\n",
    "where $ f'(x) = 0 $ is a local extremum of $ f $.\n",
    "\n",
    "Let’s work through an example. Consider the function\n",
    "\n",
    "$$\n",
    "f(x) = x^4 - 3 x^2\n",
    "$$\n",
    "\n",
    "Its derivative is given by\n",
    "\n",
    "$$\n",
    "\\frac{\\partial f}{\\partial x} = 4 x^3 - 6 x\n",
    "$$\n",
    "\n",
    "Let’s plot the function and its derivative to pick out the local extremum by hand."
   ]
  },
  {
   "cell_type": "code",
   "execution_count": 5,
   "metadata": {},
   "outputs": [
    {
     "data": {
      "image/png": "[encoded data removed]",
      "text/plain": [
       "<Figure size 640x480 with 2 Axes>"
      ]
     },
     "metadata": {},
     "output_type": "display_data"
    }
   ],
   "source": [
    "def f(x):\n",
    "    return x**4 - 3*x**2\n",
    "\n",
    "\n",
    "def fp(x):\n",
    "    return 4*x**3 - 6*x\n",
    "\n",
    "# Create 100 evenly spaced points between -2 and 2\n",
    "x = np.linspace(-2., 2., 100)\n",
    "\n",
    "# Evaluate the functions at x values\n",
    "fx = f(x)\n",
    "fpx = fp(x)\n",
    "\n",
    "# Create plot\n",
    "fig, ax = plt.subplots(1, 2)\n",
    "\n",
    "ax[0].plot(x, fx)\n",
    "ax[0].set_title(\"Function\")\n",
    "\n",
    "ax[1].plot(x, fpx)\n",
    "ax[1].hlines(0.0, -2.5, 2.5, color=\"k\", linestyle=\"--\")\n",
    "ax[1].set_title(\"Derivative\")\n",
    "\n",
    "for _ax in ax:\n",
    "    _ax.spines[\"right\"].set_visible(False)\n",
    "    _ax.spines[\"top\"].set_visible(False)"
   ]
  },
  {
   "cell_type": "markdown",
   "metadata": {},
   "source": [
    "If you take a closer look at this picture, you can probably determine that the local maximum is at\n",
    "$ x = 0 $ and the local minima is at $ x \\approx -1 $ and $ x \\approx 1 $.\n",
    "\n",
    "To properly determine the minima and maxima, we find the solutions to $ f'(x) = 0 $ below:\n",
    "\n",
    "$$\n",
    "f'(x) = 4 x^3 - 6 x = 0\n",
    "$$\n",
    "\n",
    "$$\n",
    "\\rightarrow x = \\left\\{0, \\frac{\\sqrt{6}}{2}, \\frac{-\\sqrt{6}}{2} \\right\\}\n",
    "$$\n",
    "\n",
    "Let’s check whether we can get the same answers with Python! To do this, we import a new\n",
    "package that we haven’t seen yet called SciPy which provides algorithms for optimization."
   ]
  },
  {
   "cell_type": "code",
   "execution_count": 6,
   "metadata": {},
   "outputs": [],
   "source": [
    "import scipy.optimize as opt"
   ]
  },
  {
   "cell_type": "markdown",
   "metadata": {},
   "source": [
    "Then using the function definitions from earlier, we search for the minimum and maximum values."
   ]
  },
  {
   "cell_type": "code",
   "execution_count": 7,
   "metadata": {},
   "outputs": [
    {
     "name": "stdout",
     "output_type": "stream",
     "text": [
      "The negative minimum is: \n",
      "  message: \n",
      "          Optimization terminated successfully;\n",
      "          The returned value satisfies the termination criteria\n",
      "          (using xtol = 1.48e-08 )\n",
      " success: True\n",
      "     fun: -2.25\n",
      "       x: -1.22474486976\n",
      "     nit: 12\n",
      "    nfev: 15\n",
      "The positive minimum is: \n",
      "  message: \n",
      "          Optimization terminated successfully;\n",
      "          The returned value satisfies the termination criteria\n",
      "          (using xtol = 1.48e-08 )\n",
      " success: True\n",
      "     fun: -2.25\n",
      "       x: 1.22474486976\n",
      "     nit: 12\n",
      "    nfev: 15\n"
     ]
    }
   ],
   "source": [
    "# For a scalar problem, we give it the function and the bounds between\n",
    "# which we want to search\n",
    "neg_min = opt.minimize_scalar(f, [-2, -0.5])\n",
    "pos_min = opt.minimize_scalar(f, [0.5, 2.0])\n",
    "print(\"The negative minimum is: \\n\", neg_min)\n",
    "print(\"The positive minimum is: \\n\", pos_min)"
   ]
  },
  {
   "cell_type": "markdown",
   "metadata": {},
   "source": [
    "The scipy optimize package only has functions that find minimums… You might be wondering, then, how we\n",
    "will verify our maximum value.\n",
    "\n",
    "It turns out that finding the maximum is equivalent to simply finding the minimum of the negative function."
   ]
  },
  {
   "cell_type": "code",
   "execution_count": 8,
   "metadata": {},
   "outputs": [
    {
     "name": "stdout",
     "output_type": "stream",
     "text": [
      "The maximum is: \n",
      "  message: \n",
      "          Optimization terminated successfully;\n",
      "          The returned value satisfies the termination criteria\n",
      "          (using xtol = 1.48e-08 )\n",
      " success: True\n",
      "     fun: 1.15199195644e-23\n",
      "       x: 1.95958495302e-12\n",
      "     nit: 9\n",
      "    nfev: 12\n"
     ]
    }
   ],
   "source": [
    "# Create a function that evaluates to negative f\n",
    "def neg_f(x):\n",
    "    return -f(x)\n",
    "\n",
    "max_out = opt.minimize_scalar(neg_f, [-0.35, 0.35])\n",
    "print(\"The maximum is: \\n\", max_out)"
   ]
  },
  {
   "cell_type": "markdown",
   "metadata": {},
   "source": [
    "We won’t dive into the details of optimization algorithms in this assignment (since it's out of scope anyways!), but we’ll impart some brief\n",
    "intuition to help you understand the types of problems these algorithms are good at solving and\n",
    "the types of problems they will struggle with:\n",
    "\n",
    "The general intuition is that when you’re finding a maximum, an algorithm takes a step\n",
    "in the direction of the derivative… (Conversely, to find a minimum, the algorithm takes a step opposite the direction of the derivative.)\n",
    "This requires the function to be relatively smooth and continuous. The algorithm also has an easier time if there is only one (or very few) extremum to be found…\n",
    "\n",
    "For minimization, you can imagine the algorithm as a marble in a bowl.\n",
    "\n",
    "The marble will keep rolling down the slope of the bowl until it finds the bottom.\n",
    "\n",
    "It may overshoot, but once it hits the slope on the other side, it will continue to roll back\n",
    "and forth until it comes to rest.\n",
    "\n",
    "Thus, when deciding whether numerical optimization is an effective method for a\n",
    "particular problem, you could try visualizing the function to determine whether a marble\n",
    "would be able to come to rest at the extreme values you are looking for."
   ]
  },
  {
   "cell_type": "markdown",
   "metadata": {},
   "source": [
    "### Application: Consumer Theory\n",
    "\n",
    "A common use of maximization in economics is to model\n",
    "optimal consumption decisions [https://en.wikipedia.org/wiki/Consumer_choice](https://en.wikipedia.org/wiki/Consumer_choice)."
   ]
  },
  {
   "cell_type": "markdown",
   "metadata": {},
   "source": [
    "#### Preferences and Utility Functions\n",
    "\n",
    "To summarize introductory economics, take a set of\n",
    "[preferences](https://en.wikipedia.org/wiki/Preference_%28economics%29) of consumers over “bundles”\n",
    "of goods (e.g. 2 apples and 3 oranges is preferred to 3 apples and 2 oranges, or a 100% chance to\n",
    "win $ 1 $ dollar is preferred to a 50% chance to win $ 2.10 $ dollars).\n",
    "\n",
    "Under certain assumptions, you rationalize the preferences as a utility function over the different\n",
    "goods (always remembering that the utility is simply a tool to order preferences and the numbers are\n",
    "usually not meaningful themselves).\n",
    "\n",
    "For example, consider a utility function over bundles of bananas (B) and apples (A)\n",
    "\n",
    "$$\n",
    "U(B, A) = B^{\\alpha}A^{1-\\alpha}\n",
    "$$\n",
    "\n",
    "Where $ \\alpha \\in [0,1] $.\n",
    "\n",
    "First, let’s take a look at this particular utility function."
   ]
  },
  {
   "cell_type": "code",
   "execution_count": 9,
   "metadata": {},
   "outputs": [
    {
     "data": {
      "text/plain": [
       "Text(0, 0.5, 'U(B=1.5, A)')"
      ]
     },
     "execution_count": 9,
     "metadata": {},
     "output_type": "execute_result"
    },
    {
     "data": {
      "image/png": "[encoded data removed]",
      "text/plain": [
       "<Figure size 640x480 with 1 Axes>"
      ]
     },
     "metadata": {},
     "output_type": "display_data"
    }
   ],
   "source": [
    "def U(A, B, alpha=1/3):\n",
    "    return B**alpha * A**(1-alpha)\n",
    "\n",
    "fig, ax = plt.subplots()\n",
    "B = 1.5\n",
    "A = np.linspace(1, 10, 100)\n",
    "ax.plot(A, U(A, B))\n",
    "ax.set_xlabel(\"A\")\n",
    "ax.set_ylabel(\"U(B=1.5, A)\")"
   ]
  },
  {
   "cell_type": "markdown",
   "metadata": {},
   "source": [
    "We note that\n",
    "\n",
    "- $ U(B,1) $ is always higher with more B."
   ]
  },
  {
   "cell_type": "markdown",
   "metadata": {
    "deletable": false,
    "editable": false
   },
   "source": [
    "**Question 2.1: What does consuming more bananas result in?**\n",
    "1. Positive Marginal Utility, that is $\\frac{d U(B,1)}{d B} > 0$.\n",
    "\n",
    "2. Negative Marginal Utility, that is $\\frac{d U(B,1)}{d B} > 0$.\n",
    "\n",
    "3. Positive Marginal Utility, that is $\\frac{d U(B,1)}{d B} < 0$.\n",
    "\n",
    "4. Neutral Marginal Utility, that is $\\frac{d U(B,1)}{d B} < 0$."
   ]
  },
  {
   "cell_type": "code",
   "execution_count": 10,
   "metadata": {
    "tags": []
   },
   "outputs": [],
   "source": [
    "q2_1 = 1"
   ]
  },
  {
   "cell_type": "code",
   "execution_count": 11,
   "metadata": {
    "deletable": false,
    "editable": false
   },
   "outputs": [
    {
     "data": {
      "text/html": [
       "<p><strong><pre style='display: inline;'>q2_1</pre></strong> passed! 🍀</p>"
      ],
      "text/plain": [
       "q2_1 results: All test cases passed!"
      ]
     },
     "execution_count": 11,
     "metadata": {},
     "output_type": "execute_result"
    }
   ],
   "source": [
    "grader.check(\"q2_1\")"
   ]
  },
  {
   "cell_type": "markdown",
   "metadata": {
    "deletable": false,
    "editable": false
   },
   "source": [
    "**Question 2.2: What does consuming more bananas result in?**\n",
    "1. No change in marginal utility, i.e. $\\frac{d^2 U(B,1)}{d B^2} = 0$.  \n",
    "\n",
    "2. Larger change in marginal utility, i.e. $\\frac{d^2 U(B,1)}{d B^2} > 0$.  \n",
    "\n",
    "3. Smaller change in marginal utility, i.e. $\\frac{d^2 U(B,1)}{d B^2} < 0$. \n",
    "\n",
    "4. Same change in marginal utility, i.e. $\\frac{d^2 U(B,1)}{d B^2} = 0$.  "
   ]
  },
  {
   "cell_type": "code",
   "execution_count": 12,
   "metadata": {
    "tags": []
   },
   "outputs": [],
   "source": [
    "q2_2 = 3"
   ]
  },
  {
   "cell_type": "code",
   "execution_count": 13,
   "metadata": {
    "deletable": false,
    "editable": false
   },
   "outputs": [
    {
     "data": {
      "text/html": [
       "<p><strong><pre style='display: inline;'>q2_2</pre></strong> passed! ✨</p>"
      ],
      "text/plain": [
       "q2_2 results: All test cases passed!"
      ]
     },
     "execution_count": 13,
     "metadata": {},
     "output_type": "execute_result"
    }
   ],
   "source": [
    "grader.check(\"q2_2\")"
   ]
  },
  {
   "cell_type": "markdown",
   "metadata": {},
   "source": [
    "\n",
    "If we plot both the $ B $ and the $ A $, we can see how the utility changes with different\n",
    "bundles."
   ]
  },
  {
   "cell_type": "code",
   "execution_count": 14,
   "metadata": {},
   "outputs": [
    {
     "data": {
      "text/plain": [
       "Text(0.5, 1.0, 'U(A,B)')"
      ]
     },
     "execution_count": 14,
     "metadata": {},
     "output_type": "execute_result"
    },
    {
     "data": {
      "image/png": "[encoded data removed]",
      "text/plain": [
       "<Figure size 640x480 with 2 Axes>"
      ]
     },
     "metadata": {},
     "output_type": "display_data"
    }
   ],
   "source": [
    "fig, ax = plt.subplots()\n",
    "B = np.linspace(1, 20, 100).reshape((100, 1))\n",
    "contours = ax.contourf(A, B.flatten(), U(A, B))\n",
    "fig.colorbar(contours)\n",
    "ax.set_xlabel(\"A\")\n",
    "ax.set_ylabel(\"B\")\n",
    "ax.set_title(\"U(A,B)\")"
   ]
  },
  {
   "cell_type": "markdown",
   "metadata": {},
   "source": [
    "We can find the bundles between which the consumer would be indifferent by fixing a\n",
    "utility $\\bar{U}$ and by determining all combinations of $A$ and $B$ where\n",
    "$\\bar{U} = U(B, A)$.\n",
    "\n",
    "In this example, we can implement this calculation by letting $B$ be the variable on the\n",
    "x-axis and solving for $A(\\bar{U}, B)$\n",
    "\n",
    "$$\n",
    "A(B, \\bar{U}) = U^{\\frac{1}{1-\\alpha}}B^{\\frac{-\\alpha}{1-\\alpha}}\n",
    "$$"
   ]
  },
  {
   "cell_type": "code",
   "execution_count": 15,
   "metadata": {},
   "outputs": [
    {
     "data": {
      "image/png": "[encoded data removed]",
      "text/plain": [
       "<Figure size 640x480 with 1 Axes>"
      ]
     },
     "metadata": {},
     "output_type": "display_data"
    }
   ],
   "source": [
    "def A_indifference(B, ubar, alpha=1/3):\n",
    "    return ubar**(1/(1-alpha)) * B**(-alpha/(1-alpha))\n",
    "\n",
    "def plot_indifference_curves(ax, alpha=1/3):\n",
    "    ubar = np.arange(1, 11, 2)\n",
    "    ax.plot(B, A_indifference(B, ubar, alpha))\n",
    "    ax.legend([r\"$\\bar{U}$\" + \" = {}\".format(i) for i in ubar])\n",
    "    ax.set_xlabel(\"B\")\n",
    "    ax.set_ylabel(r\"$A(B, \\bar{U}$)\")\n",
    "\n",
    "fig, ax = plt.subplots()\n",
    "plot_indifference_curves(ax)"
   ]
  },
  {
   "cell_type": "markdown",
   "metadata": {
    "deletable": false,
    "editable": false
   },
   "source": [
    "**Question 2.3: What do you notice happens as we increase either the number of apples or bananas (holding the other fixed) in terms of the indifference curves?**"
   ]
  },
  {
   "cell_type": "markdown",
   "metadata": {},
   "source": [
    "As we increase the number of apples or bananas holding the other constant, you would get to a higher indifference curve and that would reflect higher levels of utility for greater quantities of goods."
   ]
  },
  {
   "cell_type": "markdown",
   "metadata": {
    "deletable": false,
    "editable": false
   },
   "source": [
    "**Question 2.4: Let's imagine a hypothetical world without scarcity or budgets! What would consumption look like?**\n",
    "1. Individuals would consume at a reasonably low number of both to maximize their utility.\n",
    "2. Individuals would consume at an arbitrarily high number of both to maximize their utility.\n",
    "3. Individuals would consume an arbitrarily high number of bananas to maximize their utility.\n",
    "4. Individuals would consume an arbitrarily high number of apples to maximize their utility."
   ]
  },
  {
   "cell_type": "code",
   "execution_count": 16,
   "metadata": {
    "tags": []
   },
   "outputs": [],
   "source": [
    "q2_4 = 2"
   ]
  },
  {
   "cell_type": "code",
   "execution_count": 17,
   "metadata": {
    "deletable": false,
    "editable": false
   },
   "outputs": [
    {
     "data": {
      "text/html": [
       "<p><strong><pre style='display: inline;'>q2_4</pre></strong> passed! 🎉</p>"
      ],
      "text/plain": [
       "q2_4 results: All test cases passed!"
      ]
     },
     "execution_count": 17,
     "metadata": {},
     "output_type": "execute_result"
    }
   ],
   "source": [
    "grader.check(\"q2_4\")"
   ]
  },
  {
   "cell_type": "markdown",
   "metadata": {},
   "source": [
    "#### Consider the utility function $$u(x1, x2) = x1 + x2$$"
   ]
  },
  {
   "cell_type": "markdown",
   "metadata": {
    "deletable": false,
    "editable": false
   },
   "source": [
    "**Question 2.5: What is the marginal utility function with respect to $x1$? Make sure to write out the expressions as LaTeX formulas.**"
   ]
  },
  {
   "cell_type": "markdown",
   "metadata": {},
   "source": [
    "$$\n",
    "\\frac{\\partial u(x1,x2)}{\\partial x1}=\\frac{\\partial x1}{\\partial x1} + \\frac{\\partial x2}{\\partial x1}=1+0=1\n",
    "$$"
   ]
  },
  {
   "cell_type": "markdown",
   "metadata": {
    "deletable": false,
    "editable": false
   },
   "source": [
    "**Question 2.6: What is the marginal utility function with respect to $x2$? Make sure to write out the expressions as LaTeX formulas.**"
   ]
  },
  {
   "cell_type": "markdown",
   "metadata": {},
   "source": [
    "$$\n",
    "\\frac{\\partial u(x1,x2)}{\\partial x2}=\\frac{\\partial x1}{\\partial x2} + \\frac{\\partial x2}{\\partial x2}=0+1=1\n",
    "$$"
   ]
  },
  {
   "cell_type": "markdown",
   "metadata": {
    "deletable": false,
    "editable": false
   },
   "source": [
    "**Question 2.7: Given your results in 2.5 and 2.6, what is significant about this utility function? What does this tell us about the marginal utility?**"
   ]
  },
  {
   "cell_type": "markdown",
   "metadata": {},
   "source": [
    "Both marginal utilities w.r.t both $x_1$ and $x_2$ are constant and equal, this implies that the utility function for both are linear. This means that each additional utility gained from consuming one more unit of $x_1$ or $x_2$ does not depend on how much of the other good is consumed i.e. the two goods are perfect substitutes. It also means that the utility function will always increase by 1 regardless of how much we have already. "
   ]
  },
  {
   "cell_type": "markdown",
   "metadata": {},
   "source": [
    "## Part 3: Budget Constraints"
   ]
  },
  {
   "cell_type": "markdown",
   "metadata": {},
   "source": [
    "While the above example plots consumer preferences, it says nothing about what the consumers can afford.\n",
    "\n",
    "The simplest sort of constraint is a budget constraint where bananas and apples both have a price\n",
    "and the consumer has a limited amount of funds.\n",
    "\n",
    "If the prices per banana and per apple are identical, no matter how many you consume, then the\n",
    "affordable bundles are simply all pairs of apples and bananas below the line.\n",
    "$ p_a A + p_b B \\leq W $.\n",
    "\n",
    "For example, if consumer has a budget of $ W $, the price of apples is $ p_A = 2 $ dollars per\n",
    "apple, and the price of bananas is normalized to be $ p_B = 1 $ dollar per banana, then the consumer\n",
    "can afford anything below the line.\n",
    "\n",
    "$$\n",
    "2 A + B \\leq W\n",
    "$$\n",
    "\n",
    "Or, letting $ W = 20 $ and plotting"
   ]
  },
  {
   "cell_type": "code",
   "execution_count": 18,
   "metadata": {},
   "outputs": [
    {
     "data": {
      "text/plain": [
       "<Axes: xlabel='B', ylabel='A'>"
      ]
     },
     "execution_count": 18,
     "metadata": {},
     "output_type": "execute_result"
    },
    {
     "data": {
      "image/png": "[encoded data removed]",
      "text/plain": [
       "<Figure size 640x480 with 1 Axes>"
      ]
     },
     "metadata": {},
     "output_type": "display_data"
    }
   ],
   "source": [
    "def A_bc(B, W=20, pa=2):\n",
    "    \"Given B, W, and pa return the max amount of A our consumer can afford\"\n",
    "    return (W - B) / pa\n",
    "\n",
    "def plot_budget_constraint(ax, W=20, pa=2):\n",
    "    B_bc = np.array([0, W])\n",
    "    A = A_bc(B_bc, W, pa)\n",
    "    ax.plot(B_bc, A)\n",
    "    ax.fill_between(B_bc, 0, A, alpha=0.2)\n",
    "    ax.set_xlabel(\"B\")\n",
    "    ax.set_ylabel(\"A\")\n",
    "    return ax\n",
    "\n",
    "fig, ax = plt.subplots()\n",
    "plot_budget_constraint(ax, 20, 2)"
   ]
  },
  {
   "cell_type": "markdown",
   "metadata": {},
   "source": [
    "While the consumer can afford any of the bundles in that area, most will not be optimal."
   ]
  },
  {
   "cell_type": "markdown",
   "metadata": {},
   "source": [
    "#### Optimal Choice\n",
    "\n",
    "Putting the budget constraints and the utility functions together lets us visualize the optimal\n",
    "decision of a consumer. We want to choose the bundle with the highest possible indifference curve within its\n",
    "budget set."
   ]
  },
  {
   "cell_type": "code",
   "execution_count": 19,
   "metadata": {},
   "outputs": [
    {
     "data": {
      "text/plain": [
       "<Axes: xlabel='B', ylabel='A'>"
      ]
     },
     "execution_count": 19,
     "metadata": {},
     "output_type": "execute_result"
    },
    {
     "data": {
      "image/png": "[encoded data removed]",
      "text/plain": [
       "<Figure size 640x480 with 1 Axes>"
      ]
     },
     "metadata": {},
     "output_type": "display_data"
    }
   ],
   "source": [
    "fig, ax = plt.subplots()\n",
    "plot_indifference_curves(ax)\n",
    "plot_budget_constraint(ax)"
   ]
  },
  {
   "cell_type": "markdown",
   "metadata": {},
   "source": [
    "We have several ways to find the particular point $ A, B $ of maximum utility, such as\n",
    "finding the point where the indifference curve and the budget constraint have the same slope, but a\n",
    "simple approach is to just solve the direct maximization problem.\n",
    "\n",
    "$$\n",
    "\\begin{aligned}\n",
    "\\max_{A, B} & B^{\\alpha}A^{1-\\alpha}\\\\\n",
    "\\text{s.t. } & p_A A + B \\leq W\n",
    "\\end{aligned}\n",
    "$$\n",
    "\n",
    "Solving this problem directly requires solving a multi-dimensional constrained optimization problem,\n",
    "where scipy [https://docs.scipy.org/doc/scipy/reference/tutorial/optimize.html#constrained-minimization-of-multivariate-scalar-functions-minimize](https://docs.scipy.org/doc/scipy/reference/tutorial/optimize.html#constrained-minimization-of-multivariate-scalar-functions-minimize)\n",
    "has several options.\n",
    "\n",
    "For this particular problem, we notice two things: (1) The utility function is increasing in both\n",
    "$ A $ and $ B $, and (2) there are only 2 goods.\n",
    "\n",
    "This allows us 1) to assume that the budget constraint holds at equality, $ p_a A + B = W $, 2) to\n",
    "form a new function $ A(B) = (W - B) / p_a $ by rearranging the budget constraint at equality, and\n",
    "3) to substitute that function directly to form:\n",
    "\n",
    "$$\n",
    "\\max_{B}  B^{\\alpha}A(B)^{1-\\alpha}\n",
    "$$\n",
    "\n",
    "Compared to before, this problem has been turned into an unconstrained univariate optimization\n",
    "problem.\n",
    "\n",
    "To implement this in code, notice that the $ A(B) $ function is what we defined before\n",
    "as `A_bc`.\n",
    "\n",
    "We will solve this by using the function `scipy.optimize.minimize_scalar`, which takes a function\n",
    "`f(x)` and returns the value of `x` that minimizes `f`.\n",
    "\n",
    "Note that you don't need to understand what this does exactly as it is out of scope. We just wanted to expose you to a cool way to find the optimal choice!"
   ]
  },
  {
   "cell_type": "code",
   "execution_count": 20,
   "metadata": {},
   "outputs": [
    {
     "name": "stdout",
     "output_type": "stream",
     "text": [
      "The optimal U is  6.66666666667\n",
      "and was found at (A,B) = (6.6666666306519584, 6.6666667386960832)\n"
     ]
    }
   ],
   "source": [
    "from scipy.optimize import minimize_scalar\n",
    "\n",
    "def objective(B, W=20, pa=2):\n",
    "    \"\"\"\n",
    "    Return value of -U for a given B, when we consume as much A as possible\n",
    "\n",
    "    Note that we return -U because scipy wants to minimize functions,\n",
    "    and the value of B that minimizes -U will maximize U\n",
    "    \"\"\"\n",
    "    A = A_bc(B, W, pa)\n",
    "    return -U(A, B)\n",
    "\n",
    "result = minimize_scalar(objective)\n",
    "optimal_B = result.x\n",
    "optimal_A = A_bc(optimal_B, 20, 2)\n",
    "optimal_U = U(optimal_A, optimal_B)\n",
    "\n",
    "print(\"The optimal U is \", optimal_U)\n",
    "print(\"and was found at (A,B) =\", (optimal_A, optimal_B))"
   ]
  },
  {
   "cell_type": "markdown",
   "metadata": {},
   "source": [
    "This allows us to do experiments, such as examining how consumption patterns change as prices or\n",
    "wealth levels change. Let's get back to simpler calculations!"
   ]
  },
  {
   "cell_type": "markdown",
   "metadata": {},
   "source": [
    "#### Say Eric has an income of \\\\$24 and he can buy either vegemite, which costs \\\\$4, or boomerangs, which cost \\\\$8."
   ]
  },
  {
   "cell_type": "markdown",
   "metadata": {
    "deletable": false,
    "editable": false
   },
   "source": [
    "**Question 3.1:** What is Eric’s budget constraint? Make sure to use LaTeX."
   ]
  },
  {
   "cell_type": "markdown",
   "metadata": {},
   "source": [
    "$$\n",
    "4x_1+8x_2 \\leq 24\n",
    "$$"
   ]
  },
  {
   "cell_type": "markdown",
   "metadata": {
    "deletable": false,
    "editable": false
   },
   "source": [
    "**Question 3.2:** Can Eric afford to buy 1 boomerang and 2 vegemite? Show with a calculation."
   ]
  },
  {
   "cell_type": "markdown",
   "metadata": {},
   "source": [
    "$$\n",
    "\\begin{aligned}\n",
    "4x_1+8x_2 & \\leq 24 \\\\\n",
    "4(2)+8(1) & = 16 \\leq24 \n",
    "\\end{aligned}\n",
    "$$\n",
    "Yes, he would be able to afford to buy 1 boomerang and 2 vegemite. "
   ]
  },
  {
   "cell_type": "markdown",
   "metadata": {
    "deletable": false,
    "editable": false
   },
   "source": [
    "**Question 3.3:** What about 1 boomerang and 4 vegemite? Show with a calculation."
   ]
  },
  {
   "cell_type": "markdown",
   "metadata": {},
   "source": [
    "$$\n",
    "\\begin{aligned}\n",
    "4x_1+8x_2 & \\leq 24 \\\\\n",
    "4(4)+8(1) & = 24 \\leq24 \n",
    "\\end{aligned}\n",
    "$$\n",
    "Yes, he would be able to afford to buy 1 boomerang and 4 vegemite. "
   ]
  },
  {
   "cell_type": "markdown",
   "metadata": {
    "deletable": false,
    "editable": false
   },
   "source": [
    "**Question 3.4:** What about 2 boomerangs and 4 vegemite? Show with a calculation."
   ]
  },
  {
   "cell_type": "markdown",
   "metadata": {},
   "source": [
    "$$\n",
    "\\begin{aligned}\n",
    "4x_1+8x_2 & \\leq 24 \\\\\n",
    "4(4)+8(2) & = 32 \\nleq 24\n",
    "\\end{aligned}\n",
    "$$\n",
    "No, he would not be able to afford to buy 2 boomerangs and 4 vegemite. "
   ]
  },
  {
   "cell_type": "markdown",
   "metadata": {
    "deletable": false,
    "editable": false
   },
   "source": [
    "**Question 3.5:** Which consumption bundle would Eric choose and why?"
   ]
  },
  {
   "cell_type": "markdown",
   "metadata": {},
   "source": [
    "Eric would most likeley choose 1 boomerang and 4 vegemites, as this bundle maximizes his consumption without exceeding his budget. However, other factors like him wanting to live a frugal life could also lead to other choices. "
   ]
  },
  {
   "cell_type": "markdown",
   "metadata": {
    "deletable": false,
    "editable": false
   },
   "source": [
    "**Question 3.6:** Let's say that the price of vegemite has now decreased to \\\\$3, while boomerangs remain at \\\\$8. If the quantity of vegemite was on the x-axis and the quantity of boomerangs was on the y-axis, what will happen to the slope, as well as the x and y-intercepts of Eric’s budget constraint?"
   ]
  },
  {
   "cell_type": "markdown",
   "metadata": {},
   "source": [
    "If the price of vegemite decreases to $3, the slope of the budget constraint will change, becoming flatter. The x-intercept will increase, as he is able to afford more vegemite, while the y-intercept would not change since price of boomerangs has not changed."
   ]
  },
  {
   "cell_type": "markdown",
   "metadata": {
    "deletable": false,
    "editable": false
   },
   "source": [
    "**Question 3.7:** What will happen to the slope and intercepts of Eric’s budget constraint if his income increases to \\\\$32, while the price of vegemite and boomerangs stay the same at \\\\$4 and \\\\$8, respectively?"
   ]
  },
  {
   "cell_type": "markdown",
   "metadata": {},
   "source": [
    "If his income increases to $32, the slopes of the budget constraint won't change since price ratio dosen't change, but the x and y-intercepts will increase, allowing him to afford more of both goods."
   ]
  },
  {
   "cell_type": "markdown",
   "metadata": {},
   "source": [
    "##  Part 4: Perfect Complements"
   ]
  },
  {
   "cell_type": "markdown",
   "metadata": {},
   "source": [
    "Consider the utility function:\n",
    "\n",
    "$$u(x_1, x_2) = min(x_1, x_2)$$\n",
    "\n",
    "In other words, the function simply outputs the minimum between $x_1$ and $x_2$. Note that this function is not directly differentiable, so its marginal utility functions are not straightforward. Nonetheless, we will examine consumer utility optimization behavior."
   ]
  },
  {
   "cell_type": "markdown",
   "metadata": {},
   "source": [
    "Let's draw out the indifference curves for this utility function! You don't have to understand this code, but it's cool to see!"
   ]
  },
  {
   "cell_type": "code",
   "execution_count": 21,
   "metadata": {},
   "outputs": [
    {
     "data": {
      "image/png": "[encoded data removed]",
      "text/plain": [
       "<Figure size 800x600 with 1 Axes>"
      ]
     },
     "metadata": {},
     "output_type": "display_data"
    }
   ],
   "source": [
    "import numpy as np\n",
    "import matplotlib.pyplot as plt\n",
    "\n",
    "# Define the utility function\n",
    "def utility_function(x1, x2):\n",
    "    return np.minimum(x1, x2)\n",
    "\n",
    "# Plot all indifference curves in one plot!\n",
    "def plot_indifference_curves(utility_levels, x_range):\n",
    "    x1 = np.linspace(0, x_range, 100)   \n",
    "    x2 = np.linspace(0, x_range, 100)\n",
    "    X1, X2 = np.meshgrid(x1, x2)\n",
    "    utility = utility_function(X1, X2)\n",
    "\n",
    "    plt.figure(figsize=(8, 6))\n",
    "    \n",
    "    # Just a cool way of getting the lines on one plot!\n",
    "    for level in utility_levels:\n",
    "        contour = plt.contour(X1, X2, utility, levels=[level], colors='blue')\n",
    "        plt.clabel(contour, inline=True, fontsize=8, fmt=f'u={level}')\n",
    "    \n",
    "    plt.xlabel('$x_1$')\n",
    "    plt.ylabel('$x_2$')\n",
    "    plt.title('Indifference Curves for Different Utility Levels')\n",
    "    plt.grid(True)\n",
    "    plt.show()\n",
    "\n",
    "# Define the range for x1 and x2\n",
    "x_range = 10\n",
    "\n",
    "# Specify the utility levels we want to plot!\n",
    "utility_levels = [1, 2, 3, 4, 5]\n",
    "\n",
    "plot_indifference_curves(utility_levels, x_range)"
   ]
  },
  {
   "cell_type": "markdown",
   "metadata": {
    "deletable": false,
    "editable": false
   },
   "source": [
    "**Question 4.1:** What do you notice about the indifference curves for this utility function? Note that there is no correct answer here!"
   ]
  },
  {
   "cell_type": "markdown",
   "metadata": {},
   "source": [
    "The indifference curves for this utility function appear as right angles, indicating that the goods are perfect complements and must be consumed in fixed proportions to provide utility."
   ]
  },
  {
   "cell_type": "markdown",
   "metadata": {
    "deletable": false,
    "editable": false
   },
   "source": [
    "**Question 4.2:** Assume that $x_1$ and $x_2$ have the same price, and you have the ability to purchase one more unit of $x_1$ or $x_2$. If you currently consume 5 units $x_1$ and 3 units of $x_2$, which good would you purchase? Why?"
   ]
  },
  {
   "cell_type": "markdown",
   "metadata": {},
   "source": [
    "You would purchase more of $x_2$ since the utility function is defined as $min(x_1, x_2)$ and so consuming more of $x_2$ would increase his overall utility. "
   ]
  },
  {
   "cell_type": "markdown",
   "metadata": {
    "deletable": false,
    "editable": false
   },
   "source": [
    "**Question 4.3:** Why is this function known as the perfect complements function? (hint: https://en.wikipedia.org/wiki/Complementary_good)"
   ]
  },
  {
   "cell_type": "markdown",
   "metadata": {},
   "source": [
    "It is called the perfect complements function since it reflects goods that are always consumed together in fixed proportions. Increasing one good without increasing the other does not improve utility."
   ]
  },
  {
   "cell_type": "markdown",
   "metadata": {},
   "source": [
    "Let's now add a budget constraint to the same plot assuming that $x_1$ and $x_2$ have the same price."
   ]
  },
  {
   "cell_type": "code",
   "execution_count": 22,
   "metadata": {},
   "outputs": [
    {
     "data": {
      "image/png": "[encoded data removed]",
      "text/plain": [
       "<Figure size 800x600 with 1 Axes>"
      ]
     },
     "metadata": {},
     "output_type": "display_data"
    }
   ],
   "source": [
    "\n",
    "def utility_function(x1, x2):\n",
    "    return np.minimum(x1, x2)\n",
    "\n",
    "def plot_budget_constraint(price_x, price_y, budget):\n",
    "    x_budget = np.linspace(0, budget / price_x, 100)\n",
    "    y_budget = (budget - price_x * x_budget) / price_y\n",
    "    plt.plot(x_budget, y_budget, label=f'Budget Constraint (Px/Py slope)', color='r', linestyle='-')\n",
    "\n",
    "def find_intersection_points(utility_levels, price_x, price_y, budget):\n",
    "    intersection_points = {}\n",
    "\n",
    "    for level in utility_levels:\n",
    "        x = np.linspace(0, budget / price_x, 1000)\n",
    "        y = (budget - price_x * x) / price_y\n",
    "        min_u = np.minimum(x, y)\n",
    "        intersection_x = []\n",
    "        intersection_y = []\n",
    "\n",
    "        for i in range(1, len(min_u)):\n",
    "            if min_u[i - 1] < level and min_u[i] >= level:\n",
    "                t = (level - min_u[i - 1]) / (min_u[i] - min_u[i - 1])\n",
    "                intersection_x.append(x[i - 1] + t * (x[i] - x[i - 1]))\n",
    "                intersection_y.append(y[i - 1] + t * (y[i] - y[i - 1]))\n",
    "\n",
    "        intersection_points[f'u={level}'] = (intersection_x, intersection_y)\n",
    "\n",
    "    return intersection_points\n",
    "\n",
    "def plot_indifference_curves(utility_levels, x_range, price_x, price_y, budget):\n",
    "    x1 = np.linspace(0, x_range, 100)\n",
    "    x2 = np.linspace(0, x_range, 100)\n",
    "    X1, X2 = np.meshgrid(x1, x2)\n",
    "    utility = utility_function(X1, X2)\n",
    "\n",
    "    plt.figure(figsize=(8, 6))\n",
    "    \n",
    "    for level in utility_levels:\n",
    "        contour = plt.contour(X1, X2, utility, levels=[level], colors='b')\n",
    "        plt.clabel(contour, inline=True, fontsize=8, fmt=f'u={level}')\n",
    "\n",
    "    plot_budget_constraint(price_x, price_y, budget)\n",
    "\n",
    "    intersection_points = find_intersection_points(utility_levels, price_x, price_y, budget)\n",
    "    labels = iter('abcdefghijklmnopqrstuvwxyz') \n",
    "    for label, (x_points, y_points) in intersection_points.items():\n",
    "        label = label.replace('u=', '')\n",
    "        for x, y in zip(x_points, y_points):\n",
    "            point_label = next(labels)\n",
    "            plt.scatter(x, y, label=f'{label} ({point_label}) (intersection with u={label} curve)', marker='o')\n",
    "\n",
    "    plt.xlabel('x1')\n",
    "    plt.ylabel('x2')\n",
    "    plt.title('Indifference Curves with Budget Constraint')\n",
    "    plt.legend()\n",
    "    plt.grid(True)\n",
    "    plt.show()\n",
    "\n",
    "x_range = 50\n",
    "utility_levels = [1, 2, 3, 4, 5]\n",
    "budget = 30\n",
    "price_x = 1\n",
    "price_y = 1\n",
    "\n",
    "plot_indifference_curves(utility_levels, x_range, price_x, price_y, budget)"
   ]
  },
  {
   "cell_type": "markdown",
   "metadata": {
    "deletable": false,
    "editable": false
   },
   "source": [
    "**Question 4.4:** At which point(s) on the plot above is utility maximized?"
   ]
  },
  {
   "cell_type": "markdown",
   "metadata": {},
   "source": [
    "at point E, the intersection with the u=5 curve"
   ]
  },
  {
   "cell_type": "markdown",
   "metadata": {
    "deletable": false,
    "editable": false
   },
   "source": [
    "**Question 4.5:** More generally speaking (without considering the plot above), at which point on the indifference curve will individuals typically tend to choose as their optimal consumption bundle? Why?"
   ]
  },
  {
   "cell_type": "markdown",
   "metadata": {},
   "source": [
    "Individuals typically choose the point where the indifference curve is tangent to the budget constraint, as this point maximizes utility given their budget. However, tangent's with right-angle curves are at the corners."
   ]
  },
  {
   "cell_type": "markdown",
   "metadata": {},
   "source": [
    "That's all! You just completed utility and LaTeX bootcamp!"
   ]
  },
  {
   "cell_type": "markdown",
   "metadata": {},
   "source": [
    "We would like to thank Chase Coleman, Spencer Lyon, Jesse Perla, and other contributors for their work towards the \"Introduction to Economic Modeling and Data Science\" notebook via QuantEcon. This work was supported in part by the Center for Innovative Data in Economics Research (CIDER) at the Vancouver School of Economics, UBC, funded by the Canada Excellence Research Chair grant: https://datascience.quantecon.org"
   ]
  },
  {
   "cell_type": "markdown",
   "metadata": {
    "deletable": false,
    "editable": false
   },
   "source": [
    "## Submission\n",
    "\n",
    "Make sure you have run all cells in your notebook in order before running the cell below, so that all images/graphs appear in the output. The cell below will generate a zip file for you to submit. **Please save before exporting!**"
   ]
  },
  {
   "cell_type": "code",
   "execution_count": 23,
   "metadata": {
    "deletable": false,
    "editable": false
   },
   "outputs": [
    {
     "name": "stdout",
     "output_type": "stream",
     "text": [
      "Running your submission against local test cases...\n",
      "\n",
      "\n",
      "\n",
      "Your submission received the following results when run against available test cases:\n",
      "\n",
      "    q2_1 results: All test cases passed!\n",
      "\n",
      "    q2_2 results: All test cases passed!\n",
      "\n",
      "    q2_4 results: All test cases passed!\n"
     ]
    },
    {
     "data": {
      "text/html": [
       "\n",
       "            <p>Your submission has been exported. Click <a href=\"lab05_2024_10_08T15_41_04_839693.zip\" download=\"lab05_2024_10_08T15_41_04_839693.zip\" target=\"_blank\">here</a>\n",
       "            to download the zip file.</p>\n",
       "            "
      ],
      "text/plain": [
       "<IPython.core.display.HTML object>"
      ]
     },
     "metadata": {},
     "output_type": "display_data"
    }
   ],
   "source": [
    "# Save your notebook first, then run this cell to export your submission.\n",
    "grader.export(pdf=False, run_tests=True)"
   ]
  },
  {
   "cell_type": "markdown",
   "metadata": {},
   "source": [
    " "
   ]
  }
 ],
 "metadata": {
  "kernelspec": {
   "display_name": "Python 3 (ipykernel)",
   "language": "python",
   "name": "python3"
  },
  "language_info": {
   "codemirror_mode": {
    "name": "ipython",
    "version": 3
   },
   "file_extension": ".py",
   "mimetype": "text/x-python",
   "name": "python",
   "nbconvert_exporter": "python",
   "pygments_lexer": "ipython3",
   "version": "3.11.9"
  },
  "otter": {
   "OK_FORMAT": true,
   "tests": {
    "q2_1": {
     "name": "q2_1",
     "points": [
      0
     ],
     "suites": [
      {
       "cases": [
        {
         "code": ">>> assert q2_1 in [1, 2, 3, 4]\n",
         "hidden": false,
         "locked": false
        }
       ],
       "scored": true,
       "setup": "",
       "teardown": "",
       "type": "doctest"
      }
     ]
    },
    "q2_2": {
     "name": "q2_2",
     "points": [
      0
     ],
     "suites": [
      {
       "cases": [
        {
         "code": ">>> assert q2_2 in [1, 2, 3, 4]\n",
         "hidden": false,
         "locked": false
        }
       ],
       "scored": true,
       "setup": "",
       "teardown": "",
       "type": "doctest"
      }
     ]
    },
    "q2_4": {
     "name": "q2_4",
     "points": [
      0
     ],
     "suites": [
      {
       "cases": [
        {
         "code": ">>> assert q2_4 in [1, 2, 3, 4]\n",
         "hidden": false,
         "locked": false
        }
       ],
       "scored": true,
       "setup": "",
       "teardown": "",
       "type": "doctest"
      }
     ]
    }
   }
  },
  "varInspector": {
   "cols": {
    "lenName": 16,
    "lenType": 16,
    "lenVar": 40
   },
   "kernels_config": {
    "python": {
     "delete_cmd_postfix": "",
     "delete_cmd_prefix": "del ",
     "library": "var_list.py",
     "varRefreshCmd": "print(var_dic_list())"
    },
    "r": {
     "delete_cmd_postfix": ") ",
     "delete_cmd_prefix": "rm(",
     "library": "var_list.r",
     "varRefreshCmd": "cat(var_dic_list()) "
    }
   },
   "types_to_exclude": [
    "module",
    "function",
    "builtin_function_or_method",
    "instance",
    "_Feature"
   ],
   "window_display": false
  }
 },
 "nbformat": 4,
 "nbformat_minor": 4
}
