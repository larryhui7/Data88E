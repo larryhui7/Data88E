{
 "cells": [
  {
   "cell_type": "code",
   "execution_count": 38,
   "metadata": {
    "deletable": false,
    "editable": false
   },
   "outputs": [],
   "source": [
    "# Initialize Otter\n",
    "import otter\n",
    "grader = otter.Notebook(\"lab08.ipynb\")"
   ]
  },
  {
   "cell_type": "markdown",
   "metadata": {},
   "source": [
    "<table style=\"width: 100%;\" id=\"nb-header>\">\n",
    "        <tr style=\"background-color: transparent;\"><td>\n",
    "            <img src=\"https://data-88e.github.io/assets/images/blue_text.png\" width=\"250px\" style=\"margin-left: 0;\" />\n",
    "        </td><td>\n",
    "            <p style=\"text-align: right; font-size: 10pt;\"><strong>Economic Models</strong>, Fall 2024<br>\n",
    "                Dr. Eric Van Dusen<br>\n",
    "            Chris Pyles <br> Isabella Siu</p></td></tr>\n",
    "    </table>"
   ]
  },
  {
   "cell_type": "markdown",
   "metadata": {},
   "source": [
    "# Lab 8: Game Theory\n",
    "\n",
    "In this lab, we will recall some of the game theory concepts covered this week and review the prisoner's dilemma in preparation for project 3!"
   ]
  },
  {
   "cell_type": "code",
   "execution_count": 39,
   "metadata": {},
   "outputs": [],
   "source": [
    "from datascience import *\n",
    "import numpy as np\n",
    "import matplotlib.pyplot as plt\n",
    "%matplotlib inline\n",
    "import sympy\n",
    "solve = lambda x,y: sympy.solve(x-y)[0] if len(sympy.solve(x-y))==1 else \"Not Single Solution\"\n",
    "sympy.init_printing(print_builtin=False)"
   ]
  },
  {
   "cell_type": "markdown",
   "metadata": {},
   "source": [
    "### Question 1\n",
    "\n",
    "Consider the game defined by the payoff matrix below. In this game, the players cannot communicate when picking a strategy but know their opponent's history.\n",
    "\n",
    "<table class=\"payoff-matrix\" style=\"text-align: center; table-layout: fixed;\">\n",
    "    <tr style=\"background-color: #FFF;\">\n",
    "        <td></td>\n",
    "        <td></td>\n",
    "        <td style=\"text-align: center;\" colspan=\"2\">Player 2</td>\n",
    "    </tr>\n",
    "    <tr>\n",
    "        <td></td>\n",
    "        <td></td>\n",
    "        <td width=\"85\">Strategy A</td>\n",
    "        <td width=\"85\">Strategy B</td>\n",
    "    </tr>\n",
    "    <tr>\n",
    "        <td rowspan=\"2\" style=\"background-color: #FFF;\">Player 1</td>\n",
    "        <td>Strategy A</td>\n",
    "        <td>State 1<br>(3, -2)</td>\n",
    "        <td>State 2<br>(5, -5)</td>\n",
    "    </tr>\n",
    "    <tr>\n",
    "        <td>Strategy B</td>\n",
    "        <td>State 3<br>(-5, 5)</td>\n",
    "        <td>State 4<br>(4, -1)</td>\n",
    "    </tr>\n",
    "</table>"
   ]
  },
  {
   "cell_type": "markdown",
   "metadata": {},
   "source": [
    "**Question 1.1:** Assign `cooperative`, `symmetric`, `simultaneous`, and `perfect` below to `True` or `False` indicate whether that trait corresponds to this game. For example, if the game was assymetric, you would set `symmetric = False`.\n"
   ]
  },
  {
   "cell_type": "code",
   "execution_count": 40,
   "metadata": {
    "tags": []
   },
   "outputs": [],
   "source": [
    "cooperative = False\n",
    "symmetric = False\n",
    "simultaneous = True\n",
    "perfect = True"
   ]
  },
  {
   "cell_type": "code",
   "execution_count": 41,
   "metadata": {
    "deletable": false,
    "editable": false
   },
   "outputs": [
    {
     "data": {
      "text/html": [
       "<p><strong><pre style='display: inline;'>q1_1</pre></strong> passed! 🙌</p>"
      ],
      "text/plain": [
       "q1_1 results: All test cases passed!"
      ]
     },
     "execution_count": 41,
     "metadata": {},
     "output_type": "execute_result"
    }
   ],
   "source": [
    "grader.check(\"q1_1\")"
   ]
  },
  {
   "cell_type": "markdown",
   "metadata": {},
   "source": [
    "**Question 1.2:** Does this game have any Nash equilibria? List the numbers of the states in the payoff matrix above that correspond to Nash equilibria, if any, in the array `nash_equilibria` below. Leave the array empty if there are no Nash equilibria. For example, `make_array(1, 2)` means state 1 and 2 are Nash equilibria. \n"
   ]
  },
  {
   "cell_type": "code",
   "execution_count": 42,
   "metadata": {
    "tags": []
   },
   "outputs": [
    {
     "data": {
      "text/plain": [
       "array([1])"
      ]
     },
     "execution_count": 42,
     "metadata": {},
     "output_type": "execute_result"
    }
   ],
   "source": [
    "nash_equilibria = make_array(1)\n",
    "nash_equilibria"
   ]
  },
  {
   "cell_type": "code",
   "execution_count": 43,
   "metadata": {
    "deletable": false,
    "editable": false
   },
   "outputs": [
    {
     "data": {
      "text/html": [
       "<p><strong><pre style='display: inline;'>q1_2</pre></strong> passed! 🎉</p>"
      ],
      "text/plain": [
       "q1_2 results: All test cases passed!"
      ]
     },
     "execution_count": 43,
     "metadata": {},
     "output_type": "execute_result"
    }
   ],
   "source": [
    "grader.check(\"q1_2\")"
   ]
  },
  {
   "cell_type": "markdown",
   "metadata": {},
   "source": [
    "### Question 2\n",
    "\n",
    "In this section, we'll run through the application of the Cournot and Bertrand competition models. For this question, we'll be analyzing the rideshare duopoly of Uber and Lyft, who we will say share a marginal cost of $c$ = \\\\$3 per ride. Suppose the market demand is $P = -2.39 Q + 87.42$."
   ]
  },
  {
   "cell_type": "markdown",
   "metadata": {},
   "source": [
    "**Question 2.1:** Using SymPy, create a symbol for $Q$ and assign `market_demand` to the market demand curve for rideshares.\n"
   ]
  },
  {
   "cell_type": "code",
   "execution_count": 44,
   "metadata": {
    "tags": []
   },
   "outputs": [
    {
     "data": {
      "image/png": "[encoded data removed]",
      "text/latex": [
       "$\\displaystyle 87.42 - 2.39 Q$"
      ],
      "text/plain": [
       "87.42 - 2.39⋅Q"
      ]
     },
     "execution_count": 44,
     "metadata": {},
     "output_type": "execute_result"
    }
   ],
   "source": [
    "Q = sympy.Symbol(\"Q\")\n",
    "market_demand = -2.39 * Q + 87.42\n",
    "market_demand"
   ]
  },
  {
   "cell_type": "code",
   "execution_count": 45,
   "metadata": {
    "deletable": false,
    "editable": false
   },
   "outputs": [
    {
     "data": {
      "text/html": [
       "<p><strong><pre style='display: inline;'>q2_1</pre></strong> passed! ✨</p>"
      ],
      "text/plain": [
       "q2_1 results: All test cases passed!"
      ]
     },
     "execution_count": 45,
     "metadata": {},
     "output_type": "execute_result"
    }
   ],
   "source": [
    "grader.check(\"q2_1\")"
   ]
  },
  {
   "cell_type": "markdown",
   "metadata": {},
   "source": [
    "We'll start by assuming that Uber and Lyft form a Cournot duopoly and that Uber is trying to determine what output level to produce at under the assumption that Lyft will be producing at 15 units of output."
   ]
  },
  {
   "cell_type": "markdown",
   "metadata": {},
   "source": [
    "**Question 2.2:** Assign `profit_function` to Uber's profit function under the assumption that Lyft will produce 15 units of output. \n",
    "\n",
    "Hint: `q1` should represent the quantity produced by Uber (as the symbol $q_1$) and `q2` should represent the quantity produced by Lyft. `P` is the symbol for market price and `c` is the constant marginal cost mentioned before. The `profit_function` should be a function of $q_1$. "
   ]
  },
  {
   "cell_type": "code",
   "execution_count": 46,
   "metadata": {
    "tags": []
   },
   "outputs": [
    {
     "data": {
      "image/png": "[encoded data removed]",
      "text/latex": [
       "$\\displaystyle q_{1} \\left(51.57 - 2.39 q_{1}\\right) - 3 q_{1}$"
      ],
      "text/plain": [
       "q₁⋅(51.57 - 2.39⋅q₁) - 3⋅q₁"
      ]
     },
     "execution_count": 46,
     "metadata": {},
     "output_type": "execute_result"
    }
   ],
   "source": [
    "q_1 = sympy.Symbol(\"q_1\")\n",
    "q_2 = 15\n",
    "P = sympy.Symbol(\"P\")\n",
    "c = 3\n",
    "\n",
    "profit = P * q_1 - c * q_1\n",
    "profit_function = profit.subs(P, market_demand.subs(Q, q_1 + q_2))\n",
    "profit_function"
   ]
  },
  {
   "cell_type": "code",
   "execution_count": 47,
   "metadata": {
    "deletable": false,
    "editable": false
   },
   "outputs": [
    {
     "data": {
      "text/html": [
       "<p><strong><pre style='display: inline;'>q2_2</pre></strong> passed! 💯</p>"
      ],
      "text/plain": [
       "q2_2 results: All test cases passed!"
      ]
     },
     "execution_count": 47,
     "metadata": {},
     "output_type": "execute_result"
    }
   ],
   "source": [
    "grader.check(\"q2_2\")"
   ]
  },
  {
   "cell_type": "markdown",
   "metadata": {},
   "source": [
    "**Question 2.3:** Assign `q_1_star` to Uber's best response function based on `profit_function`. \n",
    "\n",
    "`q_1_star` should generate a numerical value equal to $q_1^*$. **Do not** calculate the answer by hand and then just write it in the cell below; instead, use Sympy to calculate the answer below.\n",
    "\n",
    "Hint 1: Recall the first-order condition for firm 1: $\\frac{\\partial \\pi_1}{\\partial q_1} = 2mq_1 + mq_2 + b - c = 0$. (See [this textbook chapter](https://data-88e.github.io/textbook/content/07-game-theory/cournot.html) for a refresher)  \n",
    "Hint 2: You can substitute value into `market_demand` to compute $mq_2 + b$. \n"
   ]
  },
  {
   "cell_type": "code",
   "execution_count": 48,
   "metadata": {
    "tags": []
   },
   "outputs": [
    {
     "data": {
      "image/png": "[encoded data removed]",
      "text/latex": [
       "$\\displaystyle 10.1610878661088$"
      ],
      "text/plain": [
       "10.1610878661088"
      ]
     },
     "execution_count": 48,
     "metadata": {},
     "output_type": "execute_result"
    }
   ],
   "source": [
    "q_1_star = solve(2*-2.39*q_1+market_demand.subs(Q,q_2)-c,0)\n",
    "q_1_star"
   ]
  },
  {
   "cell_type": "code",
   "execution_count": 49,
   "metadata": {
    "deletable": false,
    "editable": false
   },
   "outputs": [
    {
     "data": {
      "text/html": [
       "<p><strong><pre style='display: inline;'>q2_3</pre></strong> passed! 🙌</p>"
      ],
      "text/plain": [
       "q2_3 results: All test cases passed!"
      ]
     },
     "execution_count": 49,
     "metadata": {},
     "output_type": "execute_result"
    }
   ],
   "source": [
    "grader.check(\"q2_3\")"
   ]
  },
  {
   "cell_type": "markdown",
   "metadata": {},
   "source": [
    "**Question 2.4:** Finally, given Uber's optimal output level $q_1^*$, calculate the price at which it will sell $p_1^*$.\n"
   ]
  },
  {
   "cell_type": "code",
   "execution_count": 50,
   "metadata": {
    "tags": []
   },
   "outputs": [
    {
     "name": "stdout",
     "output_type": "stream",
     "text": [
      "Uber's output level: 10\n",
      "Uber's price: $27.28\n"
     ]
    }
   ],
   "source": [
    "p_1_star = market_demand.subs(Q,q_1_star+q_2)\n",
    "\n",
    "print(f\"Uber's output level: {q_1_star:.0f}\")\n",
    "print(f\"Uber's price: ${p_1_star:.2f}\")"
   ]
  },
  {
   "cell_type": "code",
   "execution_count": 51,
   "metadata": {
    "deletable": false,
    "editable": false
   },
   "outputs": [
    {
     "data": {
      "text/html": [
       "<p><strong><pre style='display: inline;'>q2_4</pre></strong> passed! ✨</p>"
      ],
      "text/plain": [
       "q2_4 results: All test cases passed!"
      ]
     },
     "execution_count": 51,
     "metadata": {},
     "output_type": "execute_result"
    }
   ],
   "source": [
    "grader.check(\"q2_4\")"
   ]
  },
  {
   "cell_type": "markdown",
   "metadata": {},
   "source": [
    "Now let's examine Uber and Lyft as a Bertrand duopoly. The marginal cost and market demand will remain the same."
   ]
  },
  {
   "cell_type": "markdown",
   "metadata": {},
   "source": [
    "**Question 2.5:** Find the monopoly price and quantity `p_m` and `q_m` using SymPy. You can reuse the `market_demand` curve from earlier. Again, don't copy-paste the coefficients - use Sympy for your calculations.\n"
   ]
  },
  {
   "cell_type": "code",
   "execution_count": 52,
   "metadata": {
    "tags": []
   },
   "outputs": [
    {
     "name": "stdout",
     "output_type": "stream",
     "text": [
      "Monopoly price: $45.21\n",
      "Monopoly quantity: 18\n"
     ]
    }
   ],
   "source": [
    "marginal_revenue = -4.78 * Q + 87.42\n",
    "q_m = solve(marginal_revenue, c)\n",
    "p_m = market_demand.subs(Q,q_m)\n",
    "\n",
    "print(f\"Monopoly price: ${p_m:.2f}\")\n",
    "print(f\"Monopoly quantity: {q_m:.0f}\")"
   ]
  },
  {
   "cell_type": "code",
   "execution_count": 53,
   "metadata": {
    "deletable": false,
    "editable": false
   },
   "outputs": [
    {
     "data": {
      "text/html": [
       "<p><strong><pre style='display: inline;'>q2_5</pre></strong> passed! 🙌</p>"
      ],
      "text/plain": [
       "q2_5 results: All test cases passed!"
      ]
     },
     "execution_count": 53,
     "metadata": {},
     "output_type": "execute_result"
    }
   ],
   "source": [
    "grader.check(\"q2_5\")"
   ]
  },
  {
   "cell_type": "markdown",
   "metadata": {},
   "source": [
    "**Question 2.6:** Using the monopoly price and quantity, if Uber believes that Lyft will sell at \\\\$15 and we select $h=0.25$, what is the value of Uber's reaction function? Assign it to `uber_price`. No need to use Sympy for this question. \n"
   ]
  },
  {
   "cell_type": "code",
   "execution_count": 54,
   "metadata": {
    "tags": []
   },
   "outputs": [
    {
     "data": {
      "text/plain": [
       "14.75"
      ]
     },
     "execution_count": 54,
     "metadata": {},
     "output_type": "execute_result"
    }
   ],
   "source": [
    "uber_price = 15-0.25\n",
    "uber_price "
   ]
  },
  {
   "cell_type": "code",
   "execution_count": 55,
   "metadata": {
    "deletable": false,
    "editable": false
   },
   "outputs": [
    {
     "data": {
      "text/html": [
       "<p><strong><pre style='display: inline;'>q2_6</pre></strong> passed! 🚀</p>"
      ],
      "text/plain": [
       "q2_6 results: All test cases passed!"
      ]
     },
     "execution_count": 55,
     "metadata": {},
     "output_type": "execute_result"
    }
   ],
   "source": [
    "grader.check(\"q2_6\")"
   ]
  },
  {
   "cell_type": "markdown",
   "metadata": {},
   "source": [
    "<!-- BEGIN QUESTION -->\n",
    "\n",
    "### Question 3\n",
    "\n",
    "The [tragedy of the commons](https://en.wikipedia.org/wiki/Tragedy_of_the_commons) is a situation in which a group of people make use of a shared resource wherein each individual, for their own gain and in opposition to the common good, depletes or spoils a resource, resulting in a lack of that resource for the entire group. We can think of this \"commons\" as any shared and unregulated resource, such as the fresh water in aquifers or natural gas. \n",
    "\n",
    "Explain how the members of the group can be viewed as players in a multiplayer prisoner's dilemma. What behaviors correspond to \"cooperation\" and \"defection\"? What outcome is best for the collective? What outcome represents the tragedy of the commons? What is the Nash equilibrium of this situation, in the context of the tragedy of the commons?\n"
   ]
  },
  {
   "cell_type": "markdown",
   "metadata": {},
   "source": [
    "In the tragedy of the commons, we can view this as players in a multiplayer prisoner's dilemma as each player can make either two choices: 1) they can either act in a way that preserves the common resource which would be cooperation or 2) they can maximizes their individual gain at the expense of the common resource which would be defection. The outcome that would be best for the collective would be when all members cooperate which would lead to the common resource maintained over time. In the case of the water in aquifiers, if we all conserve water, there will be enough in the future so every person can rely on a steady supply of water. The tragedy of the commons outcome occurs when every memeber defects. If everyone maximizes their personal gain, then the resource will become depleted. The Nash equilibrium is when each player defects. If every player assumes that the others are likeley to defect, they have no incentive to cooperate as it would mean they risk missing out on resources without any assurance that the other players will reciprocate. "
   ]
  },
  {
   "cell_type": "markdown",
   "metadata": {},
   "source": [
    "<!-- END QUESTION -->\n",
    "\n",
    "That's all! We hope you'll enjoy the project!"
   ]
  },
  {
   "cell_type": "markdown",
   "metadata": {
    "deletable": false,
    "editable": false
   },
   "source": [
    "## Submission\n",
    "\n",
    "Make sure you have run all cells in your notebook in order before running the cell below, so that all images/graphs appear in the output. The cell below will generate a zip file for you to submit. **Please save before exporting!**"
   ]
  },
  {
   "cell_type": "code",
   "execution_count": 57,
   "metadata": {
    "deletable": false,
    "editable": false
   },
   "outputs": [
    {
     "name": "stdout",
     "output_type": "stream",
     "text": [
      "Running your submission against local test cases...\n",
      "\n",
      "\n",
      "\n",
      "Your submission received the following results when run against available test cases:\n",
      "\n",
      "    q1_1 results: All test cases passed!\n",
      "\n",
      "    q1_2 results: All test cases passed!\n",
      "\n",
      "    q2_1 results: All test cases passed!\n",
      "\n",
      "    q2_2 results: All test cases passed!\n",
      "\n",
      "    q2_3 results: All test cases passed!\n",
      "\n",
      "    q2_4 results: All test cases passed!\n",
      "\n",
      "    q2_5 results: All test cases passed!\n",
      "\n",
      "    q2_6 results: All test cases passed!\n"
     ]
    },
    {
     "data": {
      "text/html": [
       "\n",
       "            <p>Your submission has been exported. Click <a href=\"lab08_2024_10_29T12_59_02_264263.zip\" download=\"lab08_2024_10_29T12_59_02_264263.zip\" target=\"_blank\">here</a>\n",
       "            to download the zip file.</p>\n",
       "            "
      ],
      "text/plain": [
       "<IPython.core.display.HTML object>"
      ]
     },
     "metadata": {},
     "output_type": "display_data"
    }
   ],
   "source": [
    "# Save your notebook first, then run this cell to export your submission.\n",
    "grader.export(pdf=False, run_tests=True)"
   ]
  },
  {
   "cell_type": "markdown",
   "metadata": {},
   "source": [
    " "
   ]
  }
 ],
 "metadata": {
  "@webio": {
   "lastCommId": null,
   "lastKernelId": null
  },
  "kernelspec": {
   "display_name": "Python 3 (ipykernel)",
   "language": "python",
   "name": "python3"
  },
  "language_info": {
   "codemirror_mode": {
    "name": "ipython",
    "version": 3
   },
   "file_extension": ".py",
   "mimetype": "text/x-python",
   "name": "python",
   "nbconvert_exporter": "python",
   "pygments_lexer": "ipython3",
   "version": "3.11.10"
  },
  "otter": {
   "OK_FORMAT": true,
   "tests": {
    "q1_1": {
     "name": "q1_1",
     "points": null,
     "suites": [
      {
       "cases": [
        {
         "code": ">>> for var in [cooperative, symmetric, simultaneous, perfect]:\n...     assert var in [True, False]\n",
         "hidden": false,
         "locked": false
        }
       ],
       "scored": true,
       "setup": "",
       "teardown": "",
       "type": "doctest"
      }
     ]
    },
    "q1_2": {
     "name": "q1_2",
     "points": [
      0,
      0
     ],
     "suites": [
      {
       "cases": [
        {
         "code": ">>> assert 0 <= len(nash_equilibria) <= 4\n",
         "hidden": false,
         "locked": false
        },
        {
         "code": ">>> for val in nash_equilibria:\n...     assert val % 1 == 0\n",
         "hidden": false,
         "locked": false
        }
       ],
       "scored": true,
       "setup": "",
       "teardown": "",
       "type": "doctest"
      }
     ]
    },
    "q2_1": {
     "name": "q2_1",
     "points": null,
     "suites": [
      {
       "cases": [
        {
         "code": ">>> assert type(Q) == sympy.Symbol\n>>> assert Q in market_demand.as_coefficients_dict()\n>>> assert 1 in market_demand.as_coefficients_dict()\n",
         "hidden": false,
         "locked": false
        }
       ],
       "scored": true,
       "setup": "",
       "teardown": "",
       "type": "doctest"
      }
     ]
    },
    "q2_2": {
     "name": "q2_2",
     "points": 2,
     "suites": [
      {
       "cases": [
        {
         "code": ">>> assert type(q_1) == sympy.Symbol, \"q_1 should be a Sympy symbol\"\n>>> assert type(q_2) == int, \"q_2 should be a number\"\n>>> assert type(P) == sympy.Symbol, \"P should be a Sympy symbol\"\n>>> assert type(c) == int, \"c should be a number\"\n>>> assert q_1 in profit_function.as_coefficients_dict(), \"q_1 should be a variable in profit_function\"\n>>> assert P not in profit_function.as_coefficients_dict(), \"P cannot be a variable in profit_function\"\n>>> assert len(profit_function.as_coefficients_dict()) == 2\n",
         "hidden": false,
         "locked": false
        }
       ],
       "scored": true,
       "setup": "",
       "teardown": "",
       "type": "doctest"
      }
     ]
    },
    "q2_3": {
     "name": "q2_3",
     "points": [
      0
     ],
     "suites": [
      {
       "cases": [
        {
         "code": ">>> assert type(q_1_star) == sympy.core.numbers.Float, \"You need to use Sympy\"\n>>> assert 0 < float(q_1_star) < 20\n",
         "hidden": false,
         "locked": false
        }
       ],
       "scored": true,
       "setup": "",
       "teardown": "",
       "type": "doctest"
      }
     ]
    },
    "q2_4": {
     "name": "q2_4",
     "points": null,
     "suites": [
      {
       "cases": [
        {
         "code": ">>> assert type(p_1_star) == sympy.core.numbers.Float, \"You need to use Sympy\"\n>>> assert 20 < float(p_1_star) < 40\n",
         "hidden": false,
         "locked": false
        }
       ],
       "scored": true,
       "setup": "",
       "teardown": "",
       "type": "doctest"
      }
     ]
    },
    "q2_5": {
     "name": "q2_5",
     "points": [
      0,
      0
     ],
     "suites": [
      {
       "cases": [
        {
         "code": ">>> assert 35 < float(p_m) < 50\n",
         "hidden": false,
         "locked": false
        },
        {
         "code": ">>> assert 10 < float(q_m) < 20\n",
         "hidden": false,
         "locked": false
        }
       ],
       "scored": true,
       "setup": "",
       "teardown": "",
       "type": "doctest"
      }
     ]
    },
    "q2_6": {
     "name": "q2_6",
     "points": null,
     "suites": [
      {
       "cases": [
        {
         "code": ">>> assert 3 <= uber_price <= 45.21\n",
         "hidden": false,
         "locked": false
        }
       ],
       "scored": true,
       "setup": "",
       "teardown": "",
       "type": "doctest"
      }
     ]
    }
   }
  }
 },
 "nbformat": 4,
 "nbformat_minor": 4
}
