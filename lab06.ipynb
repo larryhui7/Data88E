{
 "cells": [
  {
   "cell_type": "code",
   "execution_count": 1,
   "metadata": {
    "deletable": false,
    "editable": false
   },
   "outputs": [],
   "source": [
    "# Initialize Otter\n",
    "import otter\n",
    "grader = otter.Notebook(\"lab06.ipynb\")"
   ]
  },
  {
   "cell_type": "markdown",
   "metadata": {
    "tags": [
     "ignore"
    ]
   },
   "source": [
    "<table style=\"width: 100%;\" id=\"nb-header\">\n",
    "    <tr style=\"background-color: transparent;\"><td>\n",
    "        <img src=\"https://data-88e.github.io/assets/images/blue_text.png\" width=\"250px\" style=\"margin-left: 0;\" />\n",
    "    </td><td>\n",
    "        <p style=\"text-align: right; font-size: 10pt;\"><strong>Economic Models</strong>, Fall 2024<br>\n",
    "            Dr. Eric Van Dusen <br>\n",
    "        Alan Liang <br>\n",
    "        Amal Bhatnagar <br>\n",
    "        Sreeja Apparaju </p></td></tr>\n",
    "</table>"
   ]
  },
  {
   "cell_type": "markdown",
   "metadata": {},
   "source": [
    "# Lab 6: Modeling Income Inequality"
   ]
  },
  {
   "cell_type": "code",
   "execution_count": 2,
   "metadata": {
    "tags": [
     "ignore"
    ]
   },
   "outputs": [],
   "source": [
    "from datascience import *\n",
    "import numpy as np\n",
    "import matplotlib.pyplot as plt\n",
    "from sympy import Symbol, integrate\n",
    "from scipy.optimize import minimize\n",
    "%matplotlib inline \n",
    "\n",
    "def find_k(lnx, lny):\n",
    "    \"\"\"Determines the best value for k in the simplified Rao and Tam model.\n",
    "    \n",
    "    :param lnx: log of the income percentiles (out of 1)\n",
    "    :param lny: log of the income shares (out of 1)\n",
    "    :returns: the best value for k.\n",
    "    \"\"\"\n",
    "    def obj(k):\n",
    "        return np.mean(np.abs(lny - k*lnx))\n",
    "    res = minimize(obj, 2.5)\n",
    "    return res.x[0]"
   ]
  },
  {
   "cell_type": "markdown",
   "metadata": {
    "tags": [
     "ignore"
    ]
   },
   "source": [
    "## The Lorenz Curve\n",
    "There are many mathematical models used to model the Lorenz curve. For this homework, we will work with the simplified Rao-Tam Lorenz curve<sup>1</sup>, as defined by:\n",
    "$$L(x)=x^k,\\quad \\text{where} \\; k>1$$"
   ]
  },
  {
   "cell_type": "markdown",
   "metadata": {
    "deletable": false,
    "editable": false
   },
   "source": [
    "<!-- BEGIN QUESTION -->\n",
    "\n",
    "**Question 1:** Show that the simplified Rao-Tam Lorenz curve model satisfies the conditions for a Lorenz curve. \n"
   ]
  },
  {
   "cell_type": "markdown",
   "metadata": {},
   "source": [
    "The first condition of the Lorenz curve is that it must start at $(0,0)\\Rightarrow L(0,0)=0$. The second condition is that it must end at $(1,1)\\Rightarrow L(1,1)=1$. The last condition that we need to meet is the convexity requirenment. i.e. the second derivative is greater than 0. To show that the simplified Rao-Tam Lorenz curve model satisfies the first two conditions:\n",
    "$$\n",
    "\\begin{aligned}\n",
    "L(x)=x^k\\Rightarrow L(0)=0^k = 0 \\text{ and } L(1)=(1)^k=1\n",
    "\\end{aligned}\n",
    "$$\n",
    "To check the convexity condition, let us to the second-derivative test:\n",
    "$$\n",
    "\\begin{aligned}\n",
    "\\frac{dL(x)}{dx}&=kx^{k-1}\\\\\n",
    "\\frac{d^2L(x)}{dx^2}&=k(k-1)x^{k-2}\n",
    "\\end{aligned}\n",
    "$$\n",
    "since $k>1$, $\\frac{d^2L(x)}{dx^2}=k(k-1)x^{k-2}>0$. Therefore, we have shown that the simplified Rao-Tam Lorenz curve satisfies the conditions for a Lorenz Curve. \n"
   ]
  },
  {
   "cell_type": "markdown",
   "metadata": {
    "deletable": false,
    "editable": false,
    "tags": [
     "ignore"
    ]
   },
   "source": [
    "<!-- END QUESTION -->\n",
    "\n",
    "<!-- END QUESTION -->\n",
    "\n",
    "### Fitting the Lorenz Curve to Data\n",
    "Now, let's try to fit this model to the existing US data. From figure 3 of the [2022 *Income in the United States* report](https://www.census.gov/library/publications/2023/demo/p60-279.html), we get:"
   ]
  },
  {
   "cell_type": "code",
   "execution_count": 3,
   "metadata": {},
   "outputs": [
    {
     "data": {
      "text/html": [
       "<table border=\"1\" class=\"dataframe\">\n",
       "    <thead>\n",
       "        <tr>\n",
       "            <th>income_group</th> <th>income_share</th>\n",
       "        </tr>\n",
       "    </thead>\n",
       "    <tbody>\n",
       "        <tr>\n",
       "            <td>Lowest Quintile </td> <td>0.03        </td>\n",
       "        </tr>\n",
       "        <tr>\n",
       "            <td>Second Quintile </td> <td>0.082       </td>\n",
       "        </tr>\n",
       "        <tr>\n",
       "            <td>Third Quintile  </td> <td>0.14        </td>\n",
       "        </tr>\n",
       "        <tr>\n",
       "            <td>Fourth Quintile </td> <td>0.225       </td>\n",
       "        </tr>\n",
       "        <tr>\n",
       "            <td>Highest Quintile</td> <td>0.521       </td>\n",
       "        </tr>\n",
       "    </tbody>\n",
       "</table>"
      ],
      "text/plain": [
       "income_group     | income_share\n",
       "Lowest Quintile  | 0.03\n",
       "Second Quintile  | 0.082\n",
       "Third Quintile   | 0.14\n",
       "Fourth Quintile  | 0.225\n",
       "Highest Quintile | 0.521"
      ]
     },
     "execution_count": 3,
     "metadata": {},
     "output_type": "execute_result"
    }
   ],
   "source": [
    "# Read in and clean the data\n",
    "# You should understand this code and its implications!\n",
    "us = Table().read_table(\"us_income_2022.csv\")\n",
    "us"
   ]
  },
  {
   "cell_type": "markdown",
   "metadata": {
    "tags": [
     "ignore"
    ]
   },
   "source": [
    "For each row of the table, `income_share` shows the proportion of total income an `income_group` owns. For example, the richest 20% (5th quintile) earned 52.1% of the total national income."
   ]
  },
  {
   "cell_type": "markdown",
   "metadata": {
    "deletable": false,
    "editable": false
   },
   "source": [
    "**Question 2.1:**\n",
    "Let's convert this table to points on the Lorenz curve. Recall that the Lorenz curve's y-axis is the cumulative income share: at the 20th percentile, the total income share is 3.0%, while at the 40th percentile, the total income share is 8.5% + 3.0% = 11.5%. \n",
    "\n",
    "*Hint: use `np.cumsum`.*"
   ]
  },
  {
   "cell_type": "code",
   "execution_count": 4,
   "metadata": {
    "tags": [
     "ignore"
    ]
   },
   "outputs": [
    {
     "data": {
      "text/html": [
       "<table border=\"1\" class=\"dataframe\">\n",
       "    <thead>\n",
       "        <tr>\n",
       "            <th>income_percentile</th> <th>cum_income_share</th>\n",
       "        </tr>\n",
       "    </thead>\n",
       "    <tbody>\n",
       "        <tr>\n",
       "            <td>0.2              </td> <td>0.03            </td>\n",
       "        </tr>\n",
       "        <tr>\n",
       "            <td>0.4              </td> <td>0.112           </td>\n",
       "        </tr>\n",
       "        <tr>\n",
       "            <td>0.6              </td> <td>0.252           </td>\n",
       "        </tr>\n",
       "        <tr>\n",
       "            <td>0.8              </td> <td>0.477           </td>\n",
       "        </tr>\n",
       "        <tr>\n",
       "            <td>1                </td> <td>0.998           </td>\n",
       "        </tr>\n",
       "    </tbody>\n",
       "</table>"
      ],
      "text/plain": [
       "income_percentile | cum_income_share\n",
       "0.2               | 0.03\n",
       "0.4               | 0.112\n",
       "0.6               | 0.252\n",
       "0.8               | 0.477\n",
       "1                 | 0.998"
      ]
     },
     "execution_count": 4,
     "metadata": {},
     "output_type": "execute_result"
    }
   ],
   "source": [
    "income_group = [0.2, 0.4, 0.6, 0.8, 1.0] \n",
    "cum_income_share = np.cumsum(us.column(\"income_share\"))\n",
    "\n",
    "us_cumulative = Table().with_columns(\"income_percentile\", income_group, \"cum_income_share\", cum_income_share)\n",
    "us_cumulative"
   ]
  },
  {
   "cell_type": "code",
   "execution_count": 5,
   "metadata": {
    "deletable": false,
    "editable": false
   },
   "outputs": [
    {
     "data": {
      "text/html": [
       "<p><strong><pre style='display: inline;'>q2_1</pre></strong> passed! 🚀</p>"
      ],
      "text/plain": [
       "q2_1 results: All test cases passed!"
      ]
     },
     "execution_count": 5,
     "metadata": {},
     "output_type": "execute_result"
    }
   ],
   "source": [
    "grader.check(\"q2_1\")"
   ]
  },
  {
   "cell_type": "markdown",
   "metadata": {
    "deletable": false,
    "editable": false
   },
   "source": [
    "**Question 2.2:**\n",
    "In addition, the US census bureau reported that the top 5 percent of income earners' income share was 23.5%. What is the corresponding $(x,y)$ point to this data point? \n"
   ]
  },
  {
   "cell_type": "code",
   "execution_count": 21,
   "metadata": {
    "tags": [
     "ignore"
    ]
   },
   "outputs": [],
   "source": [
    "x_val = 0.95\n",
    "y_val = 0.765"
   ]
  },
  {
   "cell_type": "code",
   "execution_count": 7,
   "metadata": {
    "deletable": false,
    "editable": false
   },
   "outputs": [
    {
     "data": {
      "text/html": [
       "<p><strong><pre style='display: inline;'>q2_2</pre></strong> passed! 🎉</p>"
      ],
      "text/plain": [
       "q2_2 results: All test cases passed!"
      ]
     },
     "execution_count": 7,
     "metadata": {},
     "output_type": "execute_result"
    }
   ],
   "source": [
    "grader.check(\"q2_2\")"
   ]
  },
  {
   "cell_type": "markdown",
   "metadata": {
    "deletable": false,
    "editable": false
   },
   "source": [
    "**Question 2.3:**\n",
    "Add this pair of coordinates to our table, by appending `income_group` and `cum_income_share` with `x` and `y`.\n"
   ]
  },
  {
   "cell_type": "code",
   "execution_count": 8,
   "metadata": {
    "tags": []
   },
   "outputs": [
    {
     "data": {
      "text/html": [
       "<table border=\"1\" class=\"dataframe\">\n",
       "    <thead>\n",
       "        <tr>\n",
       "            <th>income_percentile</th> <th>cum_income_share</th>\n",
       "        </tr>\n",
       "    </thead>\n",
       "    <tbody>\n",
       "        <tr>\n",
       "            <td>0.2              </td> <td>0.03            </td>\n",
       "        </tr>\n",
       "        <tr>\n",
       "            <td>0.4              </td> <td>0.112           </td>\n",
       "        </tr>\n",
       "        <tr>\n",
       "            <td>0.6              </td> <td>0.252           </td>\n",
       "        </tr>\n",
       "        <tr>\n",
       "            <td>0.8              </td> <td>0.477           </td>\n",
       "        </tr>\n",
       "        <tr>\n",
       "            <td>0.95             </td> <td>0.765           </td>\n",
       "        </tr>\n",
       "        <tr>\n",
       "            <td>1                </td> <td>0.998           </td>\n",
       "        </tr>\n",
       "    </tbody>\n",
       "</table>"
      ],
      "text/plain": [
       "income_percentile | cum_income_share\n",
       "0.2               | 0.03\n",
       "0.4               | 0.112\n",
       "0.6               | 0.252\n",
       "0.8               | 0.477\n",
       "0.95              | 0.765\n",
       "1                 | 0.998"
      ]
     },
     "execution_count": 8,
     "metadata": {},
     "output_type": "execute_result"
    }
   ],
   "source": [
    "income_group_with_x = np.sort(np.append(income_group, x_val))\n",
    "cum_income_share_with_y = np.sort(np.append(cum_income_share, y_val))\n",
    "\n",
    "us_cumulative_extended = Table().with_columns(\n",
    "    \"income_percentile\", income_group_with_x, \n",
    "    \"cum_income_share\", cum_income_share_with_y)\n",
    "us_cumulative_extended"
   ]
  },
  {
   "cell_type": "code",
   "execution_count": 9,
   "metadata": {
    "deletable": false,
    "editable": false
   },
   "outputs": [
    {
     "data": {
      "text/html": [
       "<p><strong><pre style='display: inline;'>q2_3</pre></strong> passed! 🍀</p>"
      ],
      "text/plain": [
       "q2_3 results: All test cases passed!"
      ]
     },
     "execution_count": 9,
     "metadata": {},
     "output_type": "execute_result"
    }
   ],
   "source": [
    "grader.check(\"q2_3\")"
   ]
  },
  {
   "cell_type": "markdown",
   "metadata": {
    "deletable": false,
    "editable": false
   },
   "source": [
    "**Question 2.4:**\n",
    "To more easily fit our data, we will take the natural log of the curve to make it linear. Which one of the equations below equals the natural log of the curve?\n",
    "$$\n",
    "\\begin{aligned}\n",
    "&(a) &&\\ln{y} = k + \\ln{x} \\\\\n",
    "&(b) &&\\ln{x} = k + \\ln{y} \\\\\n",
    "&(c) &&\\ln{y} = k \\ln{x} \\\\\n",
    "&(d) &&\\ln{x} = k \\ln{y}\n",
    "\\end{aligned}\n",
    "$$\n",
    "\n",
    "Assign the letter corresponding to your answer to `q2_4` below."
   ]
  },
  {
   "cell_type": "code",
   "execution_count": 10,
   "metadata": {
    "tags": []
   },
   "outputs": [],
   "source": [
    "q2_4 = \"c\""
   ]
  },
  {
   "cell_type": "code",
   "execution_count": 11,
   "metadata": {
    "deletable": false,
    "editable": false
   },
   "outputs": [
    {
     "data": {
      "text/html": [
       "<p><strong><pre style='display: inline;'>q2_4</pre></strong> passed! 🌟</p>"
      ],
      "text/plain": [
       "q2_4 results: All test cases passed!"
      ]
     },
     "execution_count": 11,
     "metadata": {},
     "output_type": "execute_result"
    }
   ],
   "source": [
    "grader.check(\"q2_4\")"
   ]
  },
  {
   "cell_type": "markdown",
   "metadata": {
    "deletable": false,
    "editable": false
   },
   "source": [
    "**Question 2.5:**\n",
    "Transform the data and append it to the new table. Use the [`np.log`](https://docs.scipy.org/doc/numpy/reference/generated/numpy.log.html) function.\n"
   ]
  },
  {
   "cell_type": "code",
   "execution_count": 12,
   "metadata": {
    "tags": []
   },
   "outputs": [
    {
     "data": {
      "text/html": [
       "<table border=\"1\" class=\"dataframe\">\n",
       "    <thead>\n",
       "        <tr>\n",
       "            <th>log_income_percentile</th> <th>log_cum_income_share</th>\n",
       "        </tr>\n",
       "    </thead>\n",
       "    <tbody>\n",
       "        <tr>\n",
       "            <td>-1.60944             </td> <td>-3.50656            </td>\n",
       "        </tr>\n",
       "        <tr>\n",
       "            <td>-0.916291            </td> <td>-2.18926            </td>\n",
       "        </tr>\n",
       "        <tr>\n",
       "            <td>-0.510826            </td> <td>-1.37833            </td>\n",
       "        </tr>\n",
       "        <tr>\n",
       "            <td>-0.223144            </td> <td>-0.740239           </td>\n",
       "        </tr>\n",
       "        <tr>\n",
       "            <td>-0.0512933           </td> <td>-0.267879           </td>\n",
       "        </tr>\n",
       "        <tr>\n",
       "            <td>0                    </td> <td>-0.002002           </td>\n",
       "        </tr>\n",
       "    </tbody>\n",
       "</table>"
      ],
      "text/plain": [
       "log_income_percentile | log_cum_income_share\n",
       "-1.60944              | -3.50656\n",
       "-0.916291             | -2.18926\n",
       "-0.510826             | -1.37833\n",
       "-0.223144             | -0.740239\n",
       "-0.0512933            | -0.267879\n",
       "0                     | -0.002002"
      ]
     },
     "execution_count": 12,
     "metadata": {},
     "output_type": "execute_result"
    }
   ],
   "source": [
    "log_x =  np.log(income_group_with_x)\n",
    "log_y = np.log(cum_income_share_with_y)\n",
    "us_log = Table().with_columns(\"log_income_percentile\", log_x, \"log_cum_income_share\", log_y)\n",
    "us_log"
   ]
  },
  {
   "cell_type": "code",
   "execution_count": 13,
   "metadata": {
    "deletable": false,
    "editable": false
   },
   "outputs": [
    {
     "data": {
      "text/html": [
       "<p><strong><pre style='display: inline;'>q2_5</pre></strong> passed! 🌈</p>"
      ],
      "text/plain": [
       "q2_5 results: All test cases passed!"
      ]
     },
     "execution_count": 13,
     "metadata": {},
     "output_type": "execute_result"
    }
   ],
   "source": [
    "grader.check(\"q2_5\")"
   ]
  },
  {
   "cell_type": "markdown",
   "metadata": {
    "deletable": false,
    "editable": false
   },
   "source": [
    "<!-- BEGIN QUESTION -->\n",
    "\n",
    "**Question 2.6:**\n",
    "Create a scatter plot of this table. Add a line of best fit by setting the `fit_line` parameter to be `True`.\n"
   ]
  },
  {
   "cell_type": "code",
   "execution_count": 14,
   "metadata": {
    "tags": []
   },
   "outputs": [
    {
     "data": {
      "image/png": "[encoded data removed]",
      "text/plain": [
       "<Figure size 500x500 with 1 Axes>"
      ]
     },
     "metadata": {},
     "output_type": "display_data"
    }
   ],
   "source": [
    "us_log.scatter(\"log_income_percentile\", \"log_cum_income_share\", fit_line=True)"
   ]
  },
  {
   "cell_type": "markdown",
   "metadata": {
    "deletable": false,
    "editable": false
   },
   "source": [
    "<!-- END QUESTION -->\n",
    "\n",
    "<!-- BEGIN QUESTION -->\n",
    "\n",
    "**Question 2.7:**\n",
    "Now it's time to find $k$. Although this function is linear, it does not have an intercept so that the traditional `np.polyfit` method you've seen in previous lectures will not work. Instead, use the custom `find_k` function provided, which will find the best value of $k$. `find_k` takes two arguments: the array $\\ln x$ and the array $\\ln y$."
   ]
  },
  {
   "cell_type": "code",
   "execution_count": 15,
   "metadata": {
    "tags": []
   },
   "outputs": [
    {
     "data": {
      "text/plain": [
       "2.2099223081022501"
      ]
     },
     "execution_count": 15,
     "metadata": {},
     "output_type": "execute_result"
    }
   ],
   "source": [
    "k_hat = find_k(log_x, log_y)\n",
    "k_hat"
   ]
  },
  {
   "cell_type": "code",
   "execution_count": 16,
   "metadata": {
    "deletable": false,
    "editable": false
   },
   "outputs": [
    {
     "data": {
      "text/html": [
       "<p><strong><pre style='display: inline;'>q2_7</pre></strong> passed! 🙌</p>"
      ],
      "text/plain": [
       "q2_7 results: All test cases passed!"
      ]
     },
     "execution_count": 16,
     "metadata": {},
     "output_type": "execute_result"
    }
   ],
   "source": [
    "grader.check(\"q2_7\")"
   ]
  },
  {
   "cell_type": "markdown",
   "metadata": {
    "deletable": false,
    "editable": false,
    "tags": [
     "ignore"
    ]
   },
   "source": [
    "<!-- END QUESTION -->\n",
    "\n",
    "### Gini Coefficients"
   ]
  },
  {
   "cell_type": "markdown",
   "metadata": {
    "tags": [
     "ignore"
    ]
   },
   "source": [
    "Now that we have found $\\hat{k}$, let's try to determine its theoretical Gini coefficient. Recall that: \n",
    "\n",
    "$$\n",
    "\\begin{aligned}\n",
    "\\text{Gini} &= \\frac{\\text{Area between line of equality and Lorenz Curve}}{\\text{Area under line of equality}} \\\\\n",
    "&= \\frac{\\int_0^1 x \\text{d}x - \\int_0^1 L(x) \\text{d}x}{\\int_0^1 x \\text{d}x} \\\\ \n",
    "&= 1 - 2\\int_0^1 L(x) \\text{d}x\n",
    "\\end{aligned}$$"
   ]
  },
  {
   "cell_type": "markdown",
   "metadata": {
    "deletable": false,
    "editable": false
   },
   "source": [
    "**Question 3.1:**\n",
    "Calculate the gini coefficient using the formula from the last line above. We will use SymPy to help us integrate the $\\int_0^1 L(x) \\text{d}x$. In order to integrate something using SymPy, we can use `integrate(f(x), (x, a, b))` where f(x) is the function we want to integrate and a and b are the starting and ending limits of the integral. You can find more information [here](https://docs.sympy.org/latest/modules/integrals/integrals.html).\n"
   ]
  },
  {
   "cell_type": "code",
   "execution_count": 17,
   "metadata": {
    "tags": []
   },
   "outputs": [
    {
     "data": {
      "text/latex": [
       "$\\displaystyle 0.376931960330707$"
      ],
      "text/plain": [
       "0.376931960330707"
      ]
     },
     "execution_count": 17,
     "metadata": {},
     "output_type": "execute_result"
    }
   ],
   "source": [
    "x = Symbol(\"x\")\n",
    "area_under_lorenz = integrate(x**k_hat,(x,0,1))\n",
    "gini = 1-2*area_under_lorenz\n",
    "gini"
   ]
  },
  {
   "cell_type": "code",
   "execution_count": 18,
   "metadata": {
    "deletable": false,
    "editable": false
   },
   "outputs": [
    {
     "data": {
      "text/html": [
       "<p><strong><pre style='display: inline;'>q3_1</pre></strong> passed! 💯</p>"
      ],
      "text/plain": [
       "q3_1 results: All test cases passed!"
      ]
     },
     "execution_count": 18,
     "metadata": {},
     "output_type": "execute_result"
    }
   ],
   "source": [
    "grader.check(\"q3_1\")"
   ]
  },
  {
   "cell_type": "markdown",
   "metadata": {
    "deletable": false,
    "editable": false
   },
   "source": [
    "<!-- BEGIN QUESTION -->\n",
    "\n",
    "**Question 3.2:**\n",
    "The actual Gini coefficient in 2022 was reported to be 0.488. Is your result different than the reported value? What are some sources of potential error?"
   ]
  },
  {
   "cell_type": "markdown",
   "metadata": {},
   "source": [
    "Yes it is different. The actual Gini coefficient in 2022 is around 0.111 times higher. Some potential sources of error are using the simplified Rao-Tam model, the sample size might also not be large enough, and overestimation might come into play."
   ]
  },
  {
   "cell_type": "markdown",
   "metadata": {
    "deletable": false,
    "editable": false
   },
   "source": [
    "<!-- END QUESTION -->\n",
    "\n",
    "### Applying to Another Country"
   ]
  },
  {
   "cell_type": "markdown",
   "metadata": {},
   "source": [
    "Now that you've calculuated the Gini coefficient for the US using the simplified Rao and Tam model, let's redo this for another country. The default country to use is Norway, which can be found in the `norway_income.csv` file. If you would like to instead analyze any other country, you're welcome to do that as well. For example, the income distribution data for European countries can be found [here](https://ec.europa.eu/eurostat/databrowser/view/ilc_di01/default/table). You do not need to read in a csv for this part; feel free to directly copy over the values by hand from the data source. Make sure to use the data for 2022 if possible (to compare to the US data for 2022) and **indicate in your explanation for question 4.2 which country you picked.**"
   ]
  },
  {
   "cell_type": "code",
   "execution_count": 19,
   "metadata": {
    "tags": [
     "include"
    ]
   },
   "outputs": [
    {
     "data": {
      "text/html": [
       "<table border=\"1\" class=\"dataframe\">\n",
       "    <thead>\n",
       "        <tr>\n",
       "            <th>income_group</th> <th>income_share</th>\n",
       "        </tr>\n",
       "    </thead>\n",
       "    <tbody>\n",
       "        <tr>\n",
       "            <td>Lowest Quintile </td> <td>0.089       </td>\n",
       "        </tr>\n",
       "        <tr>\n",
       "            <td>Second Quintile </td> <td>0.147       </td>\n",
       "        </tr>\n",
       "        <tr>\n",
       "            <td>Third Quintile  </td> <td>0.179       </td>\n",
       "        </tr>\n",
       "        <tr>\n",
       "            <td>Fourth Quintile </td> <td>0.218       </td>\n",
       "        </tr>\n",
       "        <tr>\n",
       "            <td>Highest Quintile</td> <td>0.368       </td>\n",
       "        </tr>\n",
       "    </tbody>\n",
       "</table>"
      ],
      "text/plain": [
       "income_group     | income_share\n",
       "Lowest Quintile  | 0.089\n",
       "Second Quintile  | 0.147\n",
       "Third Quintile   | 0.179\n",
       "Fourth Quintile  | 0.218\n",
       "Highest Quintile | 0.368"
      ]
     },
     "execution_count": 19,
     "metadata": {},
     "output_type": "execute_result"
    }
   ],
   "source": [
    "my_country = Table().read_table(\"norway_income_2022.csv\")\n",
    "my_country"
   ]
  },
  {
   "cell_type": "markdown",
   "metadata": {
    "deletable": false,
    "editable": false
   },
   "source": [
    "<!-- BEGIN QUESTION -->\n",
    "\n",
    "**Question 4.1:**\n",
    "What is the Gini coefficient of your chosen country for its most recent year? Include a scatter plot of your logged data.\n",
    "\n",
    "**Do not overwrite any variables from previous questions** (except `x`). If you overwrite anything, some tests may fail when your assignment is graded.\n"
   ]
  },
  {
   "cell_type": "code",
   "execution_count": 20,
   "metadata": {
    "tags": [
     "include"
    ]
   },
   "outputs": [
    {
     "data": {
      "text/latex": [
       "$\\displaystyle 0.223474992992337$"
      ],
      "text/plain": [
       "0.223474992992337"
      ]
     },
     "execution_count": 20,
     "metadata": {},
     "output_type": "execute_result"
    },
    {
     "data": {
      "image/png": "[encoded data removed]",
      "text/plain": [
       "<Figure size 500x500 with 1 Axes>"
      ]
     },
     "metadata": {},
     "output_type": "display_data"
    }
   ],
   "source": [
    "income_group_my_country = [0.2, 0.4, 0.6, 0.8, 1.0] \n",
    "cum_income_share_my_country = np.cumsum(my_country.column(\"income_share\"))\n",
    "\n",
    "my_country_cumulative = Table().with_columns(\n",
    "    \"income_percentile\", income_group_my_country, \n",
    "    \"cum_income_share\", cum_income_share_my_country\n",
    ")\n",
    "\n",
    "log_x_my_country = np.log(income_group_my_country)\n",
    "log_y_my_country = np.log(cum_income_share_my_country)\n",
    "\n",
    "my_country_log = Table().with_columns(\n",
    "    \"log_income_percentile\", log_x_my_country, \n",
    "    \"log_cum_income_share\", log_y_my_country\n",
    ")\n",
    "\n",
    "# Create scatter plot of log income percentile and log cumulative income share, with fit_line = True\n",
    "my_country_log.scatter(\"log_income_percentile\", \"log_cum_income_share\", fit_line=True)\n",
    "\n",
    "k_hat_my_country = find_k(log_x_my_country, log_y_my_country)\n",
    " \n",
    "x = Symbol(\"x\")\n",
    "gini_my_country = 1-2*integrate(x**k_hat_my_country,(x,0,1))\n",
    "gini_my_country"
   ]
  },
  {
   "cell_type": "markdown",
   "metadata": {
    "deletable": false,
    "editable": false
   },
   "source": [
    "<!-- END QUESTION -->\n",
    "\n",
    "<!-- BEGIN QUESTION -->\n",
    "\n",
    "**Question 4.2:**\n",
    "How do your results compare with the actual Gini coefficient reported for the country, and does it suggest anything about our model?\n"
   ]
  },
  {
   "cell_type": "markdown",
   "metadata": {},
   "source": [
    "0.275 was the Gini Coefficient for Norway in 2022 from https://ec.europa.eu/eurostat/databrowser/view/tessi190/default/table. It may suggest that Rao-Tam does not fully capture our distribution of income accurately enough and indicates that the Rao-Tam model has a downwards bias. "
   ]
  },
  {
   "cell_type": "markdown",
   "metadata": {
    "deletable": false,
    "editable": false,
    "tags": [
     "ignore"
    ]
   },
   "source": [
    "<!-- END QUESTION -->\n",
    "\n",
    "---\n",
    "**References:**\n",
    "1. Rao & Tam curve https://www.tandfonline.com/doi/ref/10.1080/02664768700000032\n",
    "2. Income and Poverty in the US https://www.census.gov/library/publications/2019/demo/p60-266.html"
   ]
  },
  {
   "cell_type": "markdown",
   "metadata": {
    "deletable": false,
    "editable": false
   },
   "source": [
    "## Submission\n",
    "\n",
    "Make sure you have run all cells in your notebook in order before running the cell below, so that all images/graphs appear in the output. The cell below will generate a zip file for you to submit. **Please save before exporting!**"
   ]
  },
  {
   "cell_type": "code",
   "execution_count": null,
   "metadata": {
    "deletable": false,
    "editable": false
   },
   "outputs": [],
   "source": [
    "# Save your notebook first, then run this cell to export your submission.\n",
    "grader.export(run_tests=True)"
   ]
  },
  {
   "cell_type": "markdown",
   "metadata": {},
   "source": [
    " "
   ]
  }
 ],
 "metadata": {
  "kernelspec": {
   "display_name": "Python 3 (ipykernel)",
   "language": "python",
   "name": "python3"
  },
  "language_info": {
   "codemirror_mode": {
    "name": "ipython",
    "version": 3
   },
   "file_extension": ".py",
   "mimetype": "text/x-python",
   "name": "python",
   "nbconvert_exporter": "python",
   "pygments_lexer": "ipython3",
   "version": "3.11.10"
  },
  "otter": {
   "OK_FORMAT": true,
   "tests": {
    "q2_1": {
     "name": "q2_1",
     "points": null,
     "suites": [
      {
       "cases": [
        {
         "code": ">>> len(cum_income_share)\n5",
         "hidden": false,
         "locked": false
        },
        {
         "code": ">>> np.sum(np.diff(cum_income_share) >= 0) == 4\nTrue",
         "hidden": false,
         "locked": false
        },
        {
         "code": ">>> np.isclose(sum(us_cumulative.column('income_percentile')), 3.0)\nTrue",
         "hidden": false,
         "locked": false
        },
        {
         "code": ">>> np.isclose(sum(us_cumulative.column('cum_income_share')), 1.869)\nTrue",
         "hidden": false,
         "locked": false
        }
       ],
       "scored": true,
       "setup": "",
       "teardown": "",
       "type": "doctest"
      }
     ]
    },
    "q2_2": {
     "name": "q2_2",
     "points": null,
     "suites": [
      {
       "cases": [
        {
         "code": ">>> type(x_val) == float\nTrue",
         "hidden": false,
         "locked": false
        },
        {
         "code": ">>> type(y_val) == float\nTrue",
         "hidden": false,
         "locked": false
        },
        {
         "code": ">>> x_val > 0.5 and y_val > 0.5\nTrue",
         "hidden": false,
         "locked": false
        }
       ],
       "scored": true,
       "setup": "",
       "teardown": "",
       "type": "doctest"
      }
     ]
    },
    "q2_3": {
     "name": "q2_3",
     "points": null,
     "suites": [
      {
       "cases": [
        {
         "code": ">>> us_cumulative_extended.num_rows == 6\nTrue",
         "hidden": false,
         "locked": false
        },
        {
         "code": ">>> sum([np.isclose(i, 0.95) for i in us_cumulative_extended['income_percentile']]) == 1\nTrue",
         "hidden": false,
         "locked": false
        },
        {
         "code": ">>> sum([np.isclose(i, 0.765) for i in us_cumulative_extended['cum_income_share']]) == 1\nTrue",
         "hidden": false,
         "locked": false
        }
       ],
       "scored": true,
       "setup": "",
       "teardown": "",
       "type": "doctest"
      }
     ]
    },
    "q2_4": {
     "name": "q2_4",
     "points": [
      0
     ],
     "suites": [
      {
       "cases": [
        {
         "code": ">>> q2_4 in ['a', 'b', 'c', 'd']\nTrue",
         "hidden": false,
         "locked": false
        }
       ],
       "scored": true,
       "setup": "",
       "teardown": "",
       "type": "doctest"
      }
     ]
    },
    "q2_5": {
     "name": "q2_5",
     "points": null,
     "suites": [
      {
       "cases": [
        {
         "code": ">>> us_log.num_rows == 6\nTrue",
         "hidden": false,
         "locked": false
        },
        {
         "code": ">>> us_log.num_columns == 2\nTrue",
         "hidden": false,
         "locked": false
        },
        {
         "code": ">>> sum(us_log.column('log_income_percentile')) < 0\nTrue",
         "hidden": false,
         "locked": false
        }
       ],
       "scored": true,
       "setup": "",
       "teardown": "",
       "type": "doctest"
      }
     ]
    },
    "q2_7": {
     "name": "q2_7",
     "points": null,
     "suites": [
      {
       "cases": [
        {
         "code": ">>> type(k_hat) in [float, np.float64, np.float32]\nTrue",
         "hidden": false,
         "locked": false
        }
       ],
       "scored": true,
       "setup": "",
       "teardown": "",
       "type": "doctest"
      }
     ]
    },
    "q3_1": {
     "name": "q3_1",
     "points": null,
     "suites": [
      {
       "cases": [
        {
         "code": ">>> bool(0.3 <= gini <= 0.7)\nTrue",
         "hidden": false,
         "locked": false
        }
       ],
       "scored": true,
       "setup": "",
       "teardown": "",
       "type": "doctest"
      }
     ]
    }
   }
  },
  "varInspector": {
   "cols": {
    "lenName": 16,
    "lenType": 16,
    "lenVar": 40
   },
   "kernels_config": {
    "python": {
     "delete_cmd_postfix": "",
     "delete_cmd_prefix": "del ",
     "library": "var_list.py",
     "varRefreshCmd": "print(var_dic_list())"
    },
    "r": {
     "delete_cmd_postfix": ") ",
     "delete_cmd_prefix": "rm(",
     "library": "var_list.r",
     "varRefreshCmd": "cat(var_dic_list()) "
    }
   },
   "types_to_exclude": [
    "module",
    "function",
    "builtin_function_or_method",
    "instance",
    "_Feature"
   ],
   "window_display": false
  }
 },
 "nbformat": 4,
 "nbformat_minor": 4
}
