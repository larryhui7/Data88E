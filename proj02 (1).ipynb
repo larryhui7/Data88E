{
 "cells": [
  {
   "cell_type": "code",
   "execution_count": 5,
   "metadata": {
    "deletable": false,
    "editable": false
   },
   "outputs": [],
   "source": [
    "# Initialize Otter\n",
    "import otter\n",
    "grader = otter.Notebook(\"proj02.ipynb\")"
   ]
  },
  {
   "cell_type": "markdown",
   "metadata": {},
   "source": [
    "<table style=\"width: 100%;\" id=\"nb-header\">\n",
    "    <tr style=\"background-color: transparent;\"><td>\n",
    "        <img src=\"https://data-88e.github.io/assets/images/blue_text.png\" width=\"250px\" style=\"margin-left: 0;\" />\n",
    "    </td><td>\n",
    "        <p style=\"text-align: right; font-size: 10pt;\"><strong>Economic Models</strong>, Fall 2024<br>\n",
    "            Dr. Eric Van Dusen<br>\n",
    "        Umar Maniku<br>\n",
    "        Akhil Venkatesh</p></td></tr>\n",
    "</table>"
   ]
  },
  {
   "cell_type": "markdown",
   "metadata": {},
   "source": [
    "# Project 2: The Cobb-Douglas Production Function"
   ]
  },
  {
   "cell_type": "markdown",
   "metadata": {},
   "source": [
    "<!-- ## Due Dates and Important Information:\n",
    "\n",
    "- This project is in three parts.\n",
    "- The whole project (all three parts) will be due 2 Mondays from now, on March 16, 2020 at 11:59pm on Gradescope.\n",
    "- **Do not change any of the given variable or function names as this would cause autograder problems. Make sure to name your columns and tables exactly as the questions ask you to.** -->"
   ]
  },
  {
   "cell_type": "code",
   "execution_count": 6,
   "metadata": {},
   "outputs": [],
   "source": [
    "from utils import *\n",
    "import pandas as pd\n",
    "from datascience import *\n",
    "import matplotlib.pyplot as plt\n",
    "import numpy as np \n",
    "%matplotlib inline\n",
    "plt.style.use(\"seaborn-v0_8-muted\")"
   ]
  },
  {
   "cell_type": "markdown",
   "metadata": {},
   "source": [
    "The goal of this project is to gain experience completing the following key steps in the data science pipeline:\n",
    "\n",
    "1. Cleaning and filtering data collected from online sources\n",
    "2. Identifying and visualizing overall trends in the data using a process called Exploratory Data Analysis (EDA)\n",
    "3. Using the data to complete a problem of prediction\n",
    "\n",
    "We hope that by the end of this project, you will see how the skills you have learned in Data 8 and this class can prepare you for dealing with real world datasets, and how you can use them to answer questions about the economy or the world."
   ]
  },
  {
   "cell_type": "markdown",
   "metadata": {},
   "source": [
    "The question you will be answering today is the following: \n",
    "\n",
    "> How can we apply the Cobb-Douglas Production Function to understand the different ways countries produce output or GDP?"
   ]
  },
  {
   "cell_type": "markdown",
   "metadata": {},
   "source": [
    "## Part 1: Simplifying the Problem"
   ]
  },
  {
   "cell_type": "markdown",
   "metadata": {},
   "source": [
    "Let's load in the data for this project. The cell below loads the data from `pwt1001.csv` and saves it to the variable `data`. Take a look at the first 10 rows."
   ]
  },
  {
   "cell_type": "code",
   "execution_count": 7,
   "metadata": {
    "tags": [
     "gradable"
    ]
   },
   "outputs": [
    {
     "data": {
      "text/html": [
       "<table border=\"1\" class=\"dataframe\">\n",
       "    <thead>\n",
       "        <tr>\n",
       "            <th>countrycode</th> <th>country</th> <th>currency_unit</th> <th>year</th> <th>rgdpe</th> <th>rgdpo</th> <th>pop</th> <th>emp</th> <th>avh</th> <th>hc</th> <th>ccon</th> <th>cda</th> <th>cgdpe</th> <th>cgdpo</th> <th>cn</th> <th>ck</th> <th>ctfp</th> <th>cwtfp</th> <th>rgdpna</th> <th>rconna</th> <th>rdana</th> <th>rnna</th> <th>rkna</th> <th>rtfpna</th> <th>rwtfpna</th> <th>labsh</th> <th>irr</th> <th>delta</th> <th>xr</th> <th>pl_con</th> <th>pl_da</th> <th>pl_gdpo</th> <th>i_cig</th> <th>i_xm</th> <th>i_xr</th> <th>i_outlier</th> <th>i_irr</th> <th>cor_exp</th> <th>statcap</th> <th>csh_c</th> <th>csh_i</th> <th>csh_g</th> <th>csh_x</th> <th>csh_m</th> <th>csh_r</th> <th>pl_c</th> <th>pl_i</th> <th>pl_g</th> <th>pl_x</th> <th>pl_m</th> <th>pl_n</th> <th>pl_k</th>\n",
       "        </tr>\n",
       "    </thead>\n",
       "    <tbody>\n",
       "        <tr>\n",
       "            <td>ABW        </td> <td>Aruba  </td> <td>Aruban Guilder</td> <td>1950</td> <td>-1   </td> <td>-1   </td> <td>-1  </td> <td>-1  </td> <td>-1  </td> <td>-1  </td> <td>-1  </td> <td>-1  </td> <td>-1   </td> <td>-1   </td> <td>-1  </td> <td>-1  </td> <td>-1  </td> <td>-1   </td> <td>-1    </td> <td>-1    </td> <td>-1   </td> <td>-1  </td> <td>-1  </td> <td>-1    </td> <td>-1     </td> <td>-1   </td> <td>-1  </td> <td>-1   </td> <td>-1  </td> <td>-1    </td> <td>-1   </td> <td>-1     </td> <td>-1   </td> <td>-1  </td> <td>-1  </td> <td>-1       </td> <td>-1   </td> <td>-1     </td> <td>-1     </td> <td>-1   </td> <td>-1   </td> <td>-1   </td> <td>-1   </td> <td>-1   </td> <td>-1   </td> <td>-1  </td> <td>-1  </td> <td>-1  </td> <td>-1  </td> <td>-1  </td> <td>-1  </td> <td>-1  </td>\n",
       "        </tr>\n",
       "        <tr>\n",
       "            <td>ABW        </td> <td>Aruba  </td> <td>Aruban Guilder</td> <td>1951</td> <td>-1   </td> <td>-1   </td> <td>-1  </td> <td>-1  </td> <td>-1  </td> <td>-1  </td> <td>-1  </td> <td>-1  </td> <td>-1   </td> <td>-1   </td> <td>-1  </td> <td>-1  </td> <td>-1  </td> <td>-1   </td> <td>-1    </td> <td>-1    </td> <td>-1   </td> <td>-1  </td> <td>-1  </td> <td>-1    </td> <td>-1     </td> <td>-1   </td> <td>-1  </td> <td>-1   </td> <td>-1  </td> <td>-1    </td> <td>-1   </td> <td>-1     </td> <td>-1   </td> <td>-1  </td> <td>-1  </td> <td>-1       </td> <td>-1   </td> <td>-1     </td> <td>-1     </td> <td>-1   </td> <td>-1   </td> <td>-1   </td> <td>-1   </td> <td>-1   </td> <td>-1   </td> <td>-1  </td> <td>-1  </td> <td>-1  </td> <td>-1  </td> <td>-1  </td> <td>-1  </td> <td>-1  </td>\n",
       "        </tr>\n",
       "        <tr>\n",
       "            <td>ABW        </td> <td>Aruba  </td> <td>Aruban Guilder</td> <td>1952</td> <td>-1   </td> <td>-1   </td> <td>-1  </td> <td>-1  </td> <td>-1  </td> <td>-1  </td> <td>-1  </td> <td>-1  </td> <td>-1   </td> <td>-1   </td> <td>-1  </td> <td>-1  </td> <td>-1  </td> <td>-1   </td> <td>-1    </td> <td>-1    </td> <td>-1   </td> <td>-1  </td> <td>-1  </td> <td>-1    </td> <td>-1     </td> <td>-1   </td> <td>-1  </td> <td>-1   </td> <td>-1  </td> <td>-1    </td> <td>-1   </td> <td>-1     </td> <td>-1   </td> <td>-1  </td> <td>-1  </td> <td>-1       </td> <td>-1   </td> <td>-1     </td> <td>-1     </td> <td>-1   </td> <td>-1   </td> <td>-1   </td> <td>-1   </td> <td>-1   </td> <td>-1   </td> <td>-1  </td> <td>-1  </td> <td>-1  </td> <td>-1  </td> <td>-1  </td> <td>-1  </td> <td>-1  </td>\n",
       "        </tr>\n",
       "        <tr>\n",
       "            <td>ABW        </td> <td>Aruba  </td> <td>Aruban Guilder</td> <td>1953</td> <td>-1   </td> <td>-1   </td> <td>-1  </td> <td>-1  </td> <td>-1  </td> <td>-1  </td> <td>-1  </td> <td>-1  </td> <td>-1   </td> <td>-1   </td> <td>-1  </td> <td>-1  </td> <td>-1  </td> <td>-1   </td> <td>-1    </td> <td>-1    </td> <td>-1   </td> <td>-1  </td> <td>-1  </td> <td>-1    </td> <td>-1     </td> <td>-1   </td> <td>-1  </td> <td>-1   </td> <td>-1  </td> <td>-1    </td> <td>-1   </td> <td>-1     </td> <td>-1   </td> <td>-1  </td> <td>-1  </td> <td>-1       </td> <td>-1   </td> <td>-1     </td> <td>-1     </td> <td>-1   </td> <td>-1   </td> <td>-1   </td> <td>-1   </td> <td>-1   </td> <td>-1   </td> <td>-1  </td> <td>-1  </td> <td>-1  </td> <td>-1  </td> <td>-1  </td> <td>-1  </td> <td>-1  </td>\n",
       "        </tr>\n",
       "        <tr>\n",
       "            <td>ABW        </td> <td>Aruba  </td> <td>Aruban Guilder</td> <td>1954</td> <td>-1   </td> <td>-1   </td> <td>-1  </td> <td>-1  </td> <td>-1  </td> <td>-1  </td> <td>-1  </td> <td>-1  </td> <td>-1   </td> <td>-1   </td> <td>-1  </td> <td>-1  </td> <td>-1  </td> <td>-1   </td> <td>-1    </td> <td>-1    </td> <td>-1   </td> <td>-1  </td> <td>-1  </td> <td>-1    </td> <td>-1     </td> <td>-1   </td> <td>-1  </td> <td>-1   </td> <td>-1  </td> <td>-1    </td> <td>-1   </td> <td>-1     </td> <td>-1   </td> <td>-1  </td> <td>-1  </td> <td>-1       </td> <td>-1   </td> <td>-1     </td> <td>-1     </td> <td>-1   </td> <td>-1   </td> <td>-1   </td> <td>-1   </td> <td>-1   </td> <td>-1   </td> <td>-1  </td> <td>-1  </td> <td>-1  </td> <td>-1  </td> <td>-1  </td> <td>-1  </td> <td>-1  </td>\n",
       "        </tr>\n",
       "        <tr>\n",
       "            <td>ABW        </td> <td>Aruba  </td> <td>Aruban Guilder</td> <td>1955</td> <td>-1   </td> <td>-1   </td> <td>-1  </td> <td>-1  </td> <td>-1  </td> <td>-1  </td> <td>-1  </td> <td>-1  </td> <td>-1   </td> <td>-1   </td> <td>-1  </td> <td>-1  </td> <td>-1  </td> <td>-1   </td> <td>-1    </td> <td>-1    </td> <td>-1   </td> <td>-1  </td> <td>-1  </td> <td>-1    </td> <td>-1     </td> <td>-1   </td> <td>-1  </td> <td>-1   </td> <td>-1  </td> <td>-1    </td> <td>-1   </td> <td>-1     </td> <td>-1   </td> <td>-1  </td> <td>-1  </td> <td>-1       </td> <td>-1   </td> <td>-1     </td> <td>-1     </td> <td>-1   </td> <td>-1   </td> <td>-1   </td> <td>-1   </td> <td>-1   </td> <td>-1   </td> <td>-1  </td> <td>-1  </td> <td>-1  </td> <td>-1  </td> <td>-1  </td> <td>-1  </td> <td>-1  </td>\n",
       "        </tr>\n",
       "        <tr>\n",
       "            <td>ABW        </td> <td>Aruba  </td> <td>Aruban Guilder</td> <td>1956</td> <td>-1   </td> <td>-1   </td> <td>-1  </td> <td>-1  </td> <td>-1  </td> <td>-1  </td> <td>-1  </td> <td>-1  </td> <td>-1   </td> <td>-1   </td> <td>-1  </td> <td>-1  </td> <td>-1  </td> <td>-1   </td> <td>-1    </td> <td>-1    </td> <td>-1   </td> <td>-1  </td> <td>-1  </td> <td>-1    </td> <td>-1     </td> <td>-1   </td> <td>-1  </td> <td>-1   </td> <td>-1  </td> <td>-1    </td> <td>-1   </td> <td>-1     </td> <td>-1   </td> <td>-1  </td> <td>-1  </td> <td>-1       </td> <td>-1   </td> <td>-1     </td> <td>-1     </td> <td>-1   </td> <td>-1   </td> <td>-1   </td> <td>-1   </td> <td>-1   </td> <td>-1   </td> <td>-1  </td> <td>-1  </td> <td>-1  </td> <td>-1  </td> <td>-1  </td> <td>-1  </td> <td>-1  </td>\n",
       "        </tr>\n",
       "        <tr>\n",
       "            <td>ABW        </td> <td>Aruba  </td> <td>Aruban Guilder</td> <td>1957</td> <td>-1   </td> <td>-1   </td> <td>-1  </td> <td>-1  </td> <td>-1  </td> <td>-1  </td> <td>-1  </td> <td>-1  </td> <td>-1   </td> <td>-1   </td> <td>-1  </td> <td>-1  </td> <td>-1  </td> <td>-1   </td> <td>-1    </td> <td>-1    </td> <td>-1   </td> <td>-1  </td> <td>-1  </td> <td>-1    </td> <td>-1     </td> <td>-1   </td> <td>-1  </td> <td>-1   </td> <td>-1  </td> <td>-1    </td> <td>-1   </td> <td>-1     </td> <td>-1   </td> <td>-1  </td> <td>-1  </td> <td>-1       </td> <td>-1   </td> <td>-1     </td> <td>-1     </td> <td>-1   </td> <td>-1   </td> <td>-1   </td> <td>-1   </td> <td>-1   </td> <td>-1   </td> <td>-1  </td> <td>-1  </td> <td>-1  </td> <td>-1  </td> <td>-1  </td> <td>-1  </td> <td>-1  </td>\n",
       "        </tr>\n",
       "        <tr>\n",
       "            <td>ABW        </td> <td>Aruba  </td> <td>Aruban Guilder</td> <td>1958</td> <td>-1   </td> <td>-1   </td> <td>-1  </td> <td>-1  </td> <td>-1  </td> <td>-1  </td> <td>-1  </td> <td>-1  </td> <td>-1   </td> <td>-1   </td> <td>-1  </td> <td>-1  </td> <td>-1  </td> <td>-1   </td> <td>-1    </td> <td>-1    </td> <td>-1   </td> <td>-1  </td> <td>-1  </td> <td>-1    </td> <td>-1     </td> <td>-1   </td> <td>-1  </td> <td>-1   </td> <td>-1  </td> <td>-1    </td> <td>-1   </td> <td>-1     </td> <td>-1   </td> <td>-1  </td> <td>-1  </td> <td>-1       </td> <td>-1   </td> <td>-1     </td> <td>-1     </td> <td>-1   </td> <td>-1   </td> <td>-1   </td> <td>-1   </td> <td>-1   </td> <td>-1   </td> <td>-1  </td> <td>-1  </td> <td>-1  </td> <td>-1  </td> <td>-1  </td> <td>-1  </td> <td>-1  </td>\n",
       "        </tr>\n",
       "        <tr>\n",
       "            <td>ABW        </td> <td>Aruba  </td> <td>Aruban Guilder</td> <td>1959</td> <td>-1   </td> <td>-1   </td> <td>-1  </td> <td>-1  </td> <td>-1  </td> <td>-1  </td> <td>-1  </td> <td>-1  </td> <td>-1   </td> <td>-1   </td> <td>-1  </td> <td>-1  </td> <td>-1  </td> <td>-1   </td> <td>-1    </td> <td>-1    </td> <td>-1   </td> <td>-1  </td> <td>-1  </td> <td>-1    </td> <td>-1     </td> <td>-1   </td> <td>-1  </td> <td>-1   </td> <td>-1  </td> <td>-1    </td> <td>-1   </td> <td>-1     </td> <td>-1   </td> <td>-1  </td> <td>-1  </td> <td>-1       </td> <td>-1   </td> <td>-1     </td> <td>-1     </td> <td>-1   </td> <td>-1   </td> <td>-1   </td> <td>-1   </td> <td>-1   </td> <td>-1   </td> <td>-1  </td> <td>-1  </td> <td>-1  </td> <td>-1  </td> <td>-1  </td> <td>-1  </td> <td>-1  </td>\n",
       "        </tr>\n",
       "    </tbody>\n",
       "</table>\n",
       "<p>... (12800 rows omitted)</p>"
      ],
      "text/plain": [
       "countrycode | country | currency_unit  | year | rgdpe | rgdpo | pop  | emp  | avh  | hc   | ccon | cda  | cgdpe | cgdpo | cn   | ck   | ctfp | cwtfp | rgdpna | rconna | rdana | rnna | rkna | rtfpna | rwtfpna | labsh | irr  | delta | xr   | pl_con | pl_da | pl_gdpo | i_cig | i_xm | i_xr | i_outlier | i_irr | cor_exp | statcap | csh_c | csh_i | csh_g | csh_x | csh_m | csh_r | pl_c | pl_i | pl_g | pl_x | pl_m | pl_n | pl_k\n",
       "ABW         | Aruba   | Aruban Guilder | 1950 | -1    | -1    | -1   | -1   | -1   | -1   | -1   | -1   | -1    | -1    | -1   | -1   | -1   | -1    | -1     | -1     | -1    | -1   | -1   | -1     | -1      | -1    | -1   | -1    | -1   | -1     | -1    | -1      | -1    | -1   | -1   | -1        | -1    | -1      | -1      | -1    | -1    | -1    | -1    | -1    | -1    | -1   | -1   | -1   | -1   | -1   | -1   | -1\n",
       "ABW         | Aruba   | Aruban Guilder | 1951 | -1    | -1    | -1   | -1   | -1   | -1   | -1   | -1   | -1    | -1    | -1   | -1   | -1   | -1    | -1     | -1     | -1    | -1   | -1   | -1     | -1      | -1    | -1   | -1    | -1   | -1     | -1    | -1      | -1    | -1   | -1   | -1        | -1    | -1      | -1      | -1    | -1    | -1    | -1    | -1    | -1    | -1   | -1   | -1   | -1   | -1   | -1   | -1\n",
       "ABW         | Aruba   | Aruban Guilder | 1952 | -1    | -1    | -1   | -1   | -1   | -1   | -1   | -1   | -1    | -1    | -1   | -1   | -1   | -1    | -1     | -1     | -1    | -1   | -1   | -1     | -1      | -1    | -1   | -1    | -1   | -1     | -1    | -1      | -1    | -1   | -1   | -1        | -1    | -1      | -1      | -1    | -1    | -1    | -1    | -1    | -1    | -1   | -1   | -1   | -1   | -1   | -1   | -1\n",
       "ABW         | Aruba   | Aruban Guilder | 1953 | -1    | -1    | -1   | -1   | -1   | -1   | -1   | -1   | -1    | -1    | -1   | -1   | -1   | -1    | -1     | -1     | -1    | -1   | -1   | -1     | -1      | -1    | -1   | -1    | -1   | -1     | -1    | -1      | -1    | -1   | -1   | -1        | -1    | -1      | -1      | -1    | -1    | -1    | -1    | -1    | -1    | -1   | -1   | -1   | -1   | -1   | -1   | -1\n",
       "ABW         | Aruba   | Aruban Guilder | 1954 | -1    | -1    | -1   | -1   | -1   | -1   | -1   | -1   | -1    | -1    | -1   | -1   | -1   | -1    | -1     | -1     | -1    | -1   | -1   | -1     | -1      | -1    | -1   | -1    | -1   | -1     | -1    | -1      | -1    | -1   | -1   | -1        | -1    | -1      | -1      | -1    | -1    | -1    | -1    | -1    | -1    | -1   | -1   | -1   | -1   | -1   | -1   | -1\n",
       "ABW         | Aruba   | Aruban Guilder | 1955 | -1    | -1    | -1   | -1   | -1   | -1   | -1   | -1   | -1    | -1    | -1   | -1   | -1   | -1    | -1     | -1     | -1    | -1   | -1   | -1     | -1      | -1    | -1   | -1    | -1   | -1     | -1    | -1      | -1    | -1   | -1   | -1        | -1    | -1      | -1      | -1    | -1    | -1    | -1    | -1    | -1    | -1   | -1   | -1   | -1   | -1   | -1   | -1\n",
       "ABW         | Aruba   | Aruban Guilder | 1956 | -1    | -1    | -1   | -1   | -1   | -1   | -1   | -1   | -1    | -1    | -1   | -1   | -1   | -1    | -1     | -1     | -1    | -1   | -1   | -1     | -1      | -1    | -1   | -1    | -1   | -1     | -1    | -1      | -1    | -1   | -1   | -1        | -1    | -1      | -1      | -1    | -1    | -1    | -1    | -1    | -1    | -1   | -1   | -1   | -1   | -1   | -1   | -1\n",
       "ABW         | Aruba   | Aruban Guilder | 1957 | -1    | -1    | -1   | -1   | -1   | -1   | -1   | -1   | -1    | -1    | -1   | -1   | -1   | -1    | -1     | -1     | -1    | -1   | -1   | -1     | -1      | -1    | -1   | -1    | -1   | -1     | -1    | -1      | -1    | -1   | -1   | -1        | -1    | -1      | -1      | -1    | -1    | -1    | -1    | -1    | -1    | -1   | -1   | -1   | -1   | -1   | -1   | -1\n",
       "ABW         | Aruba   | Aruban Guilder | 1958 | -1    | -1    | -1   | -1   | -1   | -1   | -1   | -1   | -1    | -1    | -1   | -1   | -1   | -1    | -1     | -1     | -1    | -1   | -1   | -1     | -1      | -1    | -1   | -1    | -1   | -1     | -1    | -1      | -1    | -1   | -1   | -1        | -1    | -1      | -1      | -1    | -1    | -1    | -1    | -1    | -1    | -1   | -1   | -1   | -1   | -1   | -1   | -1\n",
       "ABW         | Aruba   | Aruban Guilder | 1959 | -1    | -1    | -1   | -1   | -1   | -1   | -1   | -1   | -1    | -1    | -1   | -1   | -1   | -1    | -1     | -1     | -1    | -1   | -1   | -1     | -1      | -1    | -1   | -1    | -1   | -1     | -1    | -1      | -1    | -1   | -1   | -1        | -1    | -1      | -1      | -1    | -1    | -1    | -1    | -1    | -1    | -1   | -1   | -1   | -1   | -1   | -1   | -1\n",
       "... (12800 rows omitted)"
      ]
     },
     "execution_count": 7,
     "metadata": {},
     "output_type": "execute_result"
    }
   ],
   "source": [
    "file_name = \"pwt1001.csv\"\n",
    "data = to_table(file_name)\n",
    "data"
   ]
  },
  {
   "cell_type": "markdown",
   "metadata": {},
   "source": [
    "Notice that there are a lot of `-1` values. This dataset uses `-1` to indicate missing data for a given country-year combination.\n",
    "\n",
    "To get an idea of the dataset's geographic scope, let us find out what countries are included, and if they are spelled in interesting ways. This will be helpful for us later on in our analysis."
   ]
  },
  {
   "cell_type": "markdown",
   "metadata": {
    "deletable": false,
    "editable": false
   },
   "source": [
    "**Question 1.1:** Create a two-column table called `all_countries`. Its first column will be called `Country` and the second `Earliest Year`. It should contain all of the countries that appear in the `data` table sorted in alphabetical order with the earliest year they appear in the dataset where the `cgdpe` column is not `-1`.\n",
    "\n",
    "Hint: You may want to use `where` and `group`. \n"
   ]
  },
  {
   "cell_type": "code",
   "execution_count": 8,
   "metadata": {
    "tags": []
   },
   "outputs": [
    {
     "data": {
      "text/html": [
       "<table border=\"1\" class=\"dataframe\">\n",
       "    <thead>\n",
       "        <tr>\n",
       "            <th>Country</th> <th>Earliest Year</th>\n",
       "        </tr>\n",
       "    </thead>\n",
       "    <tbody>\n",
       "        <tr>\n",
       "            <td>Albania            </td> <td>1970         </td>\n",
       "        </tr>\n",
       "        <tr>\n",
       "            <td>Algeria            </td> <td>1960         </td>\n",
       "        </tr>\n",
       "        <tr>\n",
       "            <td>Angola             </td> <td>1970         </td>\n",
       "        </tr>\n",
       "        <tr>\n",
       "            <td>Anguilla           </td> <td>1970         </td>\n",
       "        </tr>\n",
       "        <tr>\n",
       "            <td>Antigua and Barbuda</td> <td>1970         </td>\n",
       "        </tr>\n",
       "        <tr>\n",
       "            <td>Argentina          </td> <td>1950         </td>\n",
       "        </tr>\n",
       "        <tr>\n",
       "            <td>Armenia            </td> <td>1990         </td>\n",
       "        </tr>\n",
       "        <tr>\n",
       "            <td>Aruba              </td> <td>1970         </td>\n",
       "        </tr>\n",
       "        <tr>\n",
       "            <td>Australia          </td> <td>1950         </td>\n",
       "        </tr>\n",
       "        <tr>\n",
       "            <td>Austria            </td> <td>1950         </td>\n",
       "        </tr>\n",
       "    </tbody>\n",
       "</table>\n",
       "<p>... (173 rows omitted)</p>"
      ],
      "text/plain": [
       "Country             | Earliest Year\n",
       "Albania             | 1970\n",
       "Algeria             | 1960\n",
       "Angola              | 1970\n",
       "Anguilla            | 1970\n",
       "Antigua and Barbuda | 1970\n",
       "Argentina           | 1950\n",
       "Armenia             | 1990\n",
       "Aruba               | 1970\n",
       "Australia           | 1950\n",
       "Austria             | 1950\n",
       "... (173 rows omitted)"
      ]
     },
     "execution_count": 8,
     "metadata": {},
     "output_type": "execute_result"
    }
   ],
   "source": [
    "all_countries = data.where(\"cgdpe\",are.not_equal_to(-1)).select(\"country\", \"year\").group(\"country\", min).relabel(\"year min\",\"Earliest Year\").relabel(\"country\",\"Country\")\n",
    "all_countries"
   ]
  },
  {
   "cell_type": "code",
   "execution_count": 9,
   "metadata": {
    "deletable": false,
    "editable": false
   },
   "outputs": [
    {
     "data": {
      "text/html": [
       "<p><strong><pre style='display: inline;'>q1_1</pre></strong> passed! 🌈</p>"
      ],
      "text/plain": [
       "q1_1 results: All test cases passed!"
      ]
     },
     "execution_count": 9,
     "metadata": {},
     "output_type": "execute_result"
    }
   ],
   "source": [
    "grader.check(\"q1_1\")"
   ]
  },
  {
   "cell_type": "markdown",
   "metadata": {},
   "source": [
    "Take a look at ```data``` again. Notice that it has a lot of columns, most of which we won't need. As we will be using the Cobb-Douglas production function, think about what variables are needed in the equation, and which ones are already present in the table. This is an important part of the data science process: understanding the dataset that you are using. Most real-world datasets provide documentation listing the definitions and equations behind each variable. \n",
    "\n",
    "PWT provides this and has identified three variables that will be helpful to us:\n",
    "1. `cn` $\\Rightarrow$ Capital Stock in millions of USD\n",
    "2. `cgdpe` $\\Rightarrow$ Expenditure-side Real GDP in millions of USD\n",
    "3. `emp` $\\Rightarrow$ Number of Persons employed in millions\n",
    "\n",
    "**An important note: for the sake of simplicity, we will be assuming that nations exhibit constant returns to scale.**"
   ]
  },
  {
   "cell_type": "markdown",
   "metadata": {
    "deletable": false,
    "editable": false
   },
   "source": [
    "**Question 1.2:** Without assuming constant return to scale, the Cobb-Douglous Production Function is given by \n",
    "\n",
    "$$ Y = A K^\\alpha L^\\beta $$\n",
    "\n",
    "Which variable in the Cobb-Douglas function represents the following? Fill in the blanks. \n",
    "\n",
    "- $Y$ measures the dollar value of goods and services produced in a country\n",
    "- \\_\\_ measures total factor productivity: how effectively a country uses its inputs in producing output\n",
    "- \\_\\_ measures the amount of capital in a country\n",
    "- \\_\\_ measures the amount of labor in a country\n",
    "- \\_\\_ measures how much emphasis is placed on capital \n",
    "\n",
    "Assign an array of letters corresponding to your answer to `q1_2` below. For example, `q1_2 = make_array('alpha', 'beta', 'K', 'L')`.\n"
   ]
  },
  {
   "cell_type": "code",
   "execution_count": 10,
   "metadata": {
    "tags": []
   },
   "outputs": [],
   "source": [
    "q1_2 = make_array(\"A\", \"K\", \"L\", \"alpha\")"
   ]
  },
  {
   "cell_type": "code",
   "execution_count": 11,
   "metadata": {
    "deletable": false,
    "editable": false
   },
   "outputs": [
    {
     "data": {
      "text/html": [
       "<p><strong><pre style='display: inline;'>q1_2</pre></strong> passed! 🌈</p>"
      ],
      "text/plain": [
       "q1_2 results: All test cases passed!"
      ]
     },
     "execution_count": 11,
     "metadata": {},
     "output_type": "execute_result"
    }
   ],
   "source": [
    "grader.check(\"q1_2\")"
   ]
  },
  {
   "cell_type": "markdown",
   "metadata": {},
   "source": [
    "**Again, for the remainder of this project, we will assume nations exhibit constant return to scale, unless otherwise specified.**   \n",
    "**That is, we will have**\n",
    "\n",
    "$$ Y = A K^\\alpha L^{1-\\alpha}$$\n",
    "\n"
   ]
  },
  {
   "cell_type": "markdown",
   "metadata": {
    "deletable": false,
    "editable": false
   },
   "source": [
    "**Question 1.3:**\n",
    "Assign the variable <code>missing_variables</code> to an array containing the Cobb-Douglas function variables that are missing from the dataset.\n"
   ]
  },
  {
   "cell_type": "code",
   "execution_count": 12,
   "metadata": {
    "tags": []
   },
   "outputs": [],
   "source": [
    "missing_variables = make_array(\"A\", \"alpha\")"
   ]
  },
  {
   "cell_type": "code",
   "execution_count": 13,
   "metadata": {
    "deletable": false,
    "editable": false
   },
   "outputs": [
    {
     "data": {
      "text/html": [
       "<p><strong><pre style='display: inline;'>q1_3</pre></strong> passed! 🎉</p>"
      ],
      "text/plain": [
       "q1_3 results: All test cases passed!"
      ]
     },
     "execution_count": 13,
     "metadata": {},
     "output_type": "execute_result"
    }
   ],
   "source": [
    "grader.check(\"q1_3\")"
   ]
  },
  {
   "cell_type": "markdown",
   "metadata": {
    "deletable": false,
    "editable": false
   },
   "source": [
    "**Question 1.4:**\n",
    "Remove all columns from `data` except for `cn`, `cgdpe`, `emp`, `country` and `year`. Ensure that `country` and `year` are the two left-most columns respectively. Call the new table `cleaned_data` and display its first five rows. Rename the `cn` column to `Capital Stock`, `cgdpe` to `Real GDP` and `emp` to `Labor Force`.\n"
   ]
  },
  {
   "cell_type": "code",
   "execution_count": 42,
   "metadata": {
    "tags": []
   },
   "outputs": [
    {
     "data": {
      "text/html": [
       "<table border=\"1\" class=\"dataframe\">\n",
       "    <thead>\n",
       "        <tr>\n",
       "            <th>country</th> <th>year</th> <th>Capital Stock</th> <th>Real GDP</th> <th>Labor Force</th>\n",
       "        </tr>\n",
       "    </thead>\n",
       "    <tbody>\n",
       "        <tr>\n",
       "            <td>Aruba  </td> <td>1950</td> <td>-1           </td> <td>-1      </td> <td>-1         </td>\n",
       "        </tr>\n",
       "        <tr>\n",
       "            <td>Aruba  </td> <td>1951</td> <td>-1           </td> <td>-1      </td> <td>-1         </td>\n",
       "        </tr>\n",
       "        <tr>\n",
       "            <td>Aruba  </td> <td>1952</td> <td>-1           </td> <td>-1      </td> <td>-1         </td>\n",
       "        </tr>\n",
       "        <tr>\n",
       "            <td>Aruba  </td> <td>1953</td> <td>-1           </td> <td>-1      </td> <td>-1         </td>\n",
       "        </tr>\n",
       "        <tr>\n",
       "            <td>Aruba  </td> <td>1954</td> <td>-1           </td> <td>-1      </td> <td>-1         </td>\n",
       "        </tr>\n",
       "    </tbody>\n",
       "</table>\n",
       "<p>... (12805 rows omitted)</p>"
      ],
      "text/plain": [
       "<IPython.core.display.HTML object>"
      ]
     },
     "metadata": {},
     "output_type": "display_data"
    }
   ],
   "source": [
    "cleaned_data = data.select(\"country\", \"year\", \"cn\", \"cgdpe\", \"emp\").relabel([\"cn\",\"cgdpe\",\"emp\"],[\"Capital Stock\", \"Real GDP\", \"Labor Force\"])\n",
    "cleaned_data.show(5)"
   ]
  },
  {
   "cell_type": "code",
   "execution_count": 15,
   "metadata": {
    "deletable": false,
    "editable": false
   },
   "outputs": [
    {
     "data": {
      "text/html": [
       "<p><strong><pre style='display: inline;'>q1_4</pre></strong> passed! ✨</p>"
      ],
      "text/plain": [
       "q1_4 results: All test cases passed!"
      ]
     },
     "execution_count": 15,
     "metadata": {},
     "output_type": "execute_result"
    }
   ],
   "source": [
    "grader.check(\"q1_4\")"
   ]
  },
  {
   "cell_type": "markdown",
   "metadata": {},
   "source": [
    "Our goal will be to predict what $\\alpha$ and $A$ are for each of the countries that we will be examining. From these, we will be able to explore how output is produced in each of these countries. The question is, how can we use the Cobb-Douglas Production function to solve for the missing variables? An easy way would be to take the natural log of the equation, making it linear, providing us with ways to quantify $\\alpha$ and $A$."
   ]
  },
  {
   "cell_type": "markdown",
   "metadata": {
    "deletable": false,
    "editable": false
   },
   "source": [
    "<!-- BEGIN QUESTION -->\n",
    "\n",
    "**Question 1.5:**\n",
    "In the cell below, using LaTeX, take the natural log of the Cobb-Douglas Production Function and rewrite it as a **linear function** of one variable. Show all of your work. Full credit will not be given if you just display the final simplified equation without showing any work.\n",
    "\n",
    "_Hint:_ Begin by taking natural log of both sides of the Cobb-Douglas Production Function, that is $\\ln{Y} = \\ln{(A K^\\alpha L^{1-\\alpha})}. $\n",
    "\n",
    "Note: We do not officially cover LaTeX till Week 6: Utility, so if you are completing this project prior to that lecture, feel free to either skip this question and come back to it later, or learn something new!\n"
   ]
  },
  {
   "cell_type": "markdown",
   "metadata": {},
   "source": [
    "$$\\begin{aligned}\n",
    "\\ln{Y} &= \\ln{(A K^\\alpha L^{1-\\alpha})}\\\\\n",
    "\\ln(Y) &= \\ln(A)+\\ln(K^\\alpha)+\\ln(L^{1-\\alpha})\\\\\n",
    "\\ln(Y) &= \\ln(A)+\\alpha\\ln(K)+(1-\\alpha)\\ln(L)\\\\\n",
    "\\ln(Y) &= \\ln(A)+\\alpha\\ln(K)+\\ln(L)-\\alpha\\ln(L)\\\\\n",
    "\\ln(Y) -\\ln(L)&= \\ln(A)+\\alpha\\ln(K)-\\alpha\\ln(L)\\\\\n",
    "\\ln(\\frac{Y}{L})&= \\ln(A)+\\alpha(\\ln(K)-\\ln(L))\\\\\n",
    "\\ln(\\frac{Y}{L})&=\\ln(A)+\\alpha \\ln(\\frac{K}{L})\n",
    "\\end{aligned}\n",
    "$$"
   ]
  },
  {
   "cell_type": "markdown",
   "metadata": {
    "deletable": false,
    "editable": false
   },
   "source": [
    "<!-- END QUESTION -->\n",
    "\n",
    "## Part 2: Exploring the Data"
   ]
  },
  {
   "cell_type": "markdown",
   "metadata": {},
   "source": [
    "Whenever we are dealing with a large dataset like PWT, it is a good idea to see how the variables interact with each other. A common method, especially when dealing with economic data, is to generate a time series. This is a plot of some variable on the $y$-axis and time on the $x$-axis. We are going to do just that for our important Cobb-Douglas variables for different countries."
   ]
  },
  {
   "cell_type": "code",
   "execution_count": 16,
   "metadata": {},
   "outputs": [
    {
     "data": {
      "text/plain": [
       "array(['Albania', 'Algeria', 'Angola', 'Anguilla', 'Antigua and Barbuda',\n",
       "       'Argentina', 'Armenia', 'Aruba', 'Australia', 'Austria',\n",
       "       'Azerbaijan', 'Bahamas', 'Bahrain', 'Bangladesh', 'Barbados',\n",
       "       'Belarus', 'Belgium', 'Belize', 'Benin', 'Bermuda', 'Bhutan',\n",
       "       'Bolivia (Plurinational State of)', 'Bosnia and Herzegovina',\n",
       "       'Botswana', 'Brazil', 'British Virgin Islands', 'Brunei Darussalam',\n",
       "       'Bulgaria', 'Burkina Faso', 'Burundi', 'Cabo Verde', 'Cambodia',\n",
       "       'Cameroon', 'Canada', 'Cayman Islands', 'Central African Republic',\n",
       "       'Chad', 'Chile', 'China', 'China, Hong Kong SAR',\n",
       "       'China, Macao SAR', 'Colombia', 'Comoros', 'Congo', 'Costa Rica',\n",
       "       'Croatia', 'Curaçao', 'Cyprus', 'Czech Republic', \"Côte d'Ivoire\",\n",
       "       'D.R. of the Congo', 'Denmark', 'Djibouti', 'Dominica',\n",
       "       'Dominican Republic', 'Ecuador', 'Egypt', 'El Salvador',\n",
       "       'Equatorial Guinea', 'Estonia', 'Eswatini', 'Ethiopia', 'Fiji',\n",
       "       'Finland', 'France', 'Gabon', 'Gambia', 'Georgia', 'Germany',\n",
       "       'Ghana', 'Greece', 'Grenada', 'Guatemala', 'Guinea',\n",
       "       'Guinea-Bissau', 'Guyana', 'Haiti', 'Honduras', 'Hungary',\n",
       "       'Iceland', 'India', 'Indonesia', 'Iran (Islamic Republic of)',\n",
       "       'Iraq', 'Ireland', 'Israel', 'Italy', 'Jamaica', 'Japan', 'Jordan',\n",
       "       'Kazakhstan', 'Kenya', 'Kuwait', 'Kyrgyzstan', \"Lao People's DR\",\n",
       "       'Latvia', 'Lebanon', 'Lesotho', 'Liberia', 'Lithuania',\n",
       "       'Luxembourg', 'Madagascar', 'Malawi', 'Malaysia', 'Maldives',\n",
       "       'Mali', 'Malta', 'Mauritania', 'Mauritius', 'Mexico', 'Mongolia',\n",
       "       'Montenegro', 'Montserrat', 'Morocco', 'Mozambique', 'Myanmar',\n",
       "       'Namibia', 'Nepal', 'Netherlands', 'New Zealand', 'Nicaragua',\n",
       "       'Niger', 'Nigeria', 'North Macedonia', 'Norway', 'Oman', 'Pakistan',\n",
       "       'Panama', 'Paraguay', 'Peru', 'Philippines', 'Poland', 'Portugal',\n",
       "       'Qatar', 'Republic of Korea', 'Republic of Moldova', 'Romania',\n",
       "       'Russian Federation', 'Rwanda', 'Saint Kitts and Nevis',\n",
       "       'Saint Lucia', 'Sao Tome and Principe', 'Saudi Arabia', 'Senegal',\n",
       "       'Serbia', 'Seychelles', 'Sierra Leone', 'Singapore',\n",
       "       'Sint Maarten (Dutch part)', 'Slovakia', 'Slovenia', 'South Africa',\n",
       "       'Spain', 'Sri Lanka', 'St. Vincent and the Grenadines',\n",
       "       'State of Palestine', 'Sudan', 'Suriname', 'Sweden', 'Switzerland',\n",
       "       'Syrian Arab Republic', 'Taiwan', 'Tajikistan', 'Thailand', 'Togo',\n",
       "       'Trinidad and Tobago', 'Tunisia', 'Turkey', 'Turkmenistan',\n",
       "       'Turks and Caicos Islands', 'U.R. of Tanzania: Mainland', 'Uganda',\n",
       "       'Ukraine', 'United Arab Emirates', 'United Kingdom',\n",
       "       'United States', 'Uruguay', 'Uzbekistan',\n",
       "       'Venezuela (Bolivarian Republic of)', 'Viet Nam', 'Yemen', 'Zambia',\n",
       "       'Zimbabwe'],\n",
       "      dtype='<U34')"
      ]
     },
     "execution_count": 16,
     "metadata": {},
     "output_type": "execute_result"
    }
   ],
   "source": [
    "# Run this cell to see a table of all the countries in the dataset.\n",
    "# Select two countries and proceed to the next code question.\n",
    "all_countries[\"Country\"]"
   ]
  },
  {
   "cell_type": "markdown",
   "metadata": {
    "deletable": false,
    "editable": false
   },
   "source": [
    "**Question 2.1:**\n",
    "1. Create an array of four countries, the US, China, and two of your choice from the list above (though not Canada or Mexico), in **alphabetical order** and call this `country_array`.\n",
    "2. Using this array, construct `comparison_data`, a table containing GDP, Capital Stock and Labor for these four countries in `country_array` from 1990 to 2019. \n",
    "\n",
    "_Use the cell above to check if your countries of choice exist in the dataset._ Make sure to use the country name exactly as it appears in the data table.\n",
    "\n",
    "_Hint:_ Look at the <a href=\"https://ds-connectors.github.io/econ-fa20/python-reference.html\">Python Reference</a> for a table function you can use.\n"
   ]
  },
  {
   "cell_type": "code",
   "execution_count": 17,
   "metadata": {
    "tags": []
   },
   "outputs": [
    {
     "data": {
      "text/html": [
       "<table border=\"1\" class=\"dataframe\">\n",
       "    <thead>\n",
       "        <tr>\n",
       "            <th>country</th> <th>year</th> <th>Capital Stock</th> <th>Real GDP</th> <th>Labor Force</th>\n",
       "        </tr>\n",
       "    </thead>\n",
       "    <tbody>\n",
       "        <tr>\n",
       "            <td>China  </td> <td>1990</td> <td>4.76376e+06  </td> <td>2.96752e+06</td> <td>660        </td>\n",
       "        </tr>\n",
       "        <tr>\n",
       "            <td>China  </td> <td>1991</td> <td>5.05137e+06  </td> <td>3.12739e+06</td> <td>676        </td>\n",
       "        </tr>\n",
       "        <tr>\n",
       "            <td>China  </td> <td>1992</td> <td>5.50687e+06  </td> <td>3.37258e+06</td> <td>683        </td>\n",
       "        </tr>\n",
       "        <tr>\n",
       "            <td>China  </td> <td>1993</td> <td>6.1793e+06   </td> <td>3.61229e+06</td> <td>689        </td>\n",
       "        </tr>\n",
       "        <tr>\n",
       "            <td>China  </td> <td>1994</td> <td>6.91171e+06  </td> <td>3.94591e+06</td> <td>694        </td>\n",
       "        </tr>\n",
       "        <tr>\n",
       "            <td>China  </td> <td>1995</td> <td>7.7044e+06   </td> <td>4.34385e+06</td> <td>699        </td>\n",
       "        </tr>\n",
       "        <tr>\n",
       "            <td>China  </td> <td>1996</td> <td>8.57896e+06  </td> <td>4.63467e+06</td> <td>706        </td>\n",
       "        </tr>\n",
       "        <tr>\n",
       "            <td>China  </td> <td>1997</td> <td>9.51087e+06  </td> <td>4.87596e+06</td> <td>713        </td>\n",
       "        </tr>\n",
       "        <tr>\n",
       "            <td>China  </td> <td>1998</td> <td>1.06504e+07  </td> <td>4.87638e+06</td> <td>721        </td>\n",
       "        </tr>\n",
       "        <tr>\n",
       "            <td>China  </td> <td>1999</td> <td>1.18116e+07  </td> <td>5.13595e+06</td> <td>729        </td>\n",
       "        </tr>\n",
       "    </tbody>\n",
       "</table>\n",
       "<p>... (110 rows omitted)</p>"
      ],
      "text/plain": [
       "country | year | Capital Stock | Real GDP    | Labor Force\n",
       "China   | 1990 | 4.76376e+06   | 2.96752e+06 | 660\n",
       "China   | 1991 | 5.05137e+06   | 3.12739e+06 | 676\n",
       "China   | 1992 | 5.50687e+06   | 3.37258e+06 | 683\n",
       "China   | 1993 | 6.1793e+06    | 3.61229e+06 | 689\n",
       "China   | 1994 | 6.91171e+06   | 3.94591e+06 | 694\n",
       "China   | 1995 | 7.7044e+06    | 4.34385e+06 | 699\n",
       "China   | 1996 | 8.57896e+06   | 4.63467e+06 | 706\n",
       "China   | 1997 | 9.51087e+06   | 4.87596e+06 | 713\n",
       "China   | 1998 | 1.06504e+07   | 4.87638e+06 | 721\n",
       "China   | 1999 | 1.18116e+07   | 5.13595e+06 | 729\n",
       "... (110 rows omitted)"
      ]
     },
     "execution_count": 17,
     "metadata": {},
     "output_type": "execute_result"
    }
   ],
   "source": [
    "country_array = make_array(\"Cambodia\", \"China\", \"Germany\", \"United States\")\n",
    "comparison_data = cleaned_data.where(\"country\", are.contained_in(country_array)).where(\"year\", are.between(1990,2020))\n",
    "comparison_data"
   ]
  },
  {
   "cell_type": "code",
   "execution_count": 18,
   "metadata": {
    "deletable": false,
    "editable": false
   },
   "outputs": [
    {
     "data": {
      "text/html": [
       "<p><strong><pre style='display: inline;'>q2_1</pre></strong> passed! ✨</p>"
      ],
      "text/plain": [
       "q2_1 results: All test cases passed!"
      ]
     },
     "execution_count": 18,
     "metadata": {},
     "output_type": "execute_result"
    }
   ],
   "source": [
    "grader.check(\"q2_1\")"
   ]
  },
  {
   "cell_type": "markdown",
   "metadata": {},
   "source": [
    "**Note:** If you ever need to refer to a list of the countries you selected in your code, do **not** use `country_array`. When you place the data in `comparison_data`, Python will automatically re-order the countries. Using `country_array` will cause a mis-match between your rows of data in `comparison_data` and the country it is actually from."
   ]
  },
  {
   "cell_type": "markdown",
   "metadata": {
    "deletable": false,
    "editable": false
   },
   "source": [
    "<!-- BEGIN QUESTION -->\n",
    "\n",
    "**Question 2.2:**\n",
    "To help us in later questions, fill in the blanks in the `country_table_plotter` function below. Its inputs will be a table of the form `comparison_data` and the names of the two columns plotted, `columnX` and `columnY`. The `country_table_plotter` function will plot `columnX` versus `columnY` using data from `data_table` for all the countries \n",
    "\n",
    "_Hint:_ Look at the <a href=\"https://matplotlib.org/3.1.1/api/_as_gen/matplotlib.pyplot.plot.html\"> Matplotlib Plotting Reference</a> for ideas of what to place in the blanks.\n"
   ]
  },
  {
   "cell_type": "code",
   "execution_count": 19,
   "metadata": {
    "tags": []
   },
   "outputs": [],
   "source": [
    "def country_table_plotter(data_table, columnX, columnY):\n",
    "    \n",
    "    countries = np.unique(data_table.column(\"country\"))\n",
    "    for country in countries:\n",
    "        current_country_table = data_table.where(\"country\", country)\n",
    "        plt.plot(current_country_table.column(columnX), current_country_table.column(columnY), label = country, linewidth = 1.5)\n",
    "    \n",
    "    ### Do not change the code below ###\n",
    "    plt.legend(loc='center left', bbox_to_anchor=(1, 0.5), fontsize = 'x-large')\n",
    "    plt.xlabel(columnX)\n",
    "    plt.ylabel(f\"{columnY} (Logarithmic Scale)\")\n",
    "    plt.grid()\n",
    "    plt.yscale(\"log\")\n",
    "    \n",
    "    return countries, columnX, columnY"
   ]
  },
  {
   "cell_type": "markdown",
   "metadata": {
    "deletable": false,
    "editable": false
   },
   "source": [
    "<!-- END QUESTION -->\n",
    "\n",
    "**Question 2.3:**\n",
    "Produce a plot of time and capital stock for the countries in your table.\n"
   ]
  },
  {
   "cell_type": "code",
   "execution_count": 20,
   "metadata": {
    "tags": [
     "gradable"
    ]
   },
   "outputs": [
    {
     "data": {
      "image/png": "[encoded data removed]",
      "text/plain": [
       "<Figure size 640x480 with 1 Axes>"
      ]
     },
     "metadata": {},
     "output_type": "display_data"
    }
   ],
   "source": [
    "q2_3 = country_table_plotter(comparison_data, \"year\", \"Capital Stock\")"
   ]
  },
  {
   "cell_type": "code",
   "execution_count": 21,
   "metadata": {
    "deletable": false,
    "editable": false
   },
   "outputs": [
    {
     "data": {
      "text/html": [
       "<p><strong><pre style='display: inline;'>q2_3</pre></strong> passed! 🙌</p>"
      ],
      "text/plain": [
       "q2_3 results: All test cases passed!"
      ]
     },
     "execution_count": 21,
     "metadata": {},
     "output_type": "execute_result"
    }
   ],
   "source": [
    "grader.check(\"q2_3\")"
   ]
  },
  {
   "cell_type": "markdown",
   "metadata": {
    "deletable": false,
    "editable": false
   },
   "source": [
    "<!-- BEGIN QUESTION -->\n",
    "\n",
    "**Question 2.4:**\n",
    "Identify differences between the countries in your plot above and discuss what surprised you.\n"
   ]
  },
  {
   "cell_type": "markdown",
   "metadata": {},
   "source": [
    "We can definitely see that there are significant differences in the magnitude and growth trends of the capital stock with relation to different countries. The US remains relatively high throughout the whol duration of time (1990-2019), showing just slow and steady growth which suggests it is a developed and stable economy with large amounts of capital at its disposal. Germany is lower than the US but does show modest growth, most likeley due to more restrained EU laws, but is still relatively high as it is a highly industrailized nation in the EU. There is definetly steady investment in the German industries but defintely at a slower rate than China. China has had a rapid capital stock rise indicating huge economic expansion and industrailization even overtaking Germany. Cambodia is also seeing good growth in capital stock but is definetly lagging behind the other nations primarily due to the fact it is still a developing nation. What really surprises me is how much China's capital stock actually grew in such little time. "
   ]
  },
  {
   "cell_type": "markdown",
   "metadata": {
    "deletable": false,
    "editable": false
   },
   "source": [
    "<!-- END QUESTION -->\n",
    "\n",
    "**Question 2.5:**\n",
    "Produce a similar plot, but this time of time and labor for the countries in your table.\n"
   ]
  },
  {
   "cell_type": "code",
   "execution_count": 22,
   "metadata": {
    "tags": []
   },
   "outputs": [
    {
     "data": {
      "image/png": "[encoded data removed]",
      "text/plain": [
       "<Figure size 640x480 with 1 Axes>"
      ]
     },
     "metadata": {},
     "output_type": "display_data"
    }
   ],
   "source": [
    "q2_5 = country_table_plotter(comparison_data, \"year\", \"Labor Force\")"
   ]
  },
  {
   "cell_type": "code",
   "execution_count": 23,
   "metadata": {
    "deletable": false,
    "editable": false
   },
   "outputs": [
    {
     "data": {
      "text/html": [
       "<p><strong><pre style='display: inline;'>q2_5</pre></strong> passed! 🍀</p>"
      ],
      "text/plain": [
       "q2_5 results: All test cases passed!"
      ]
     },
     "execution_count": 23,
     "metadata": {},
     "output_type": "execute_result"
    }
   ],
   "source": [
    "grader.check(\"q2_5\")"
   ]
  },
  {
   "cell_type": "markdown",
   "metadata": {
    "deletable": false,
    "editable": false
   },
   "source": [
    "<!-- BEGIN QUESTION -->\n",
    "\n",
    "**Question 2.6:**\n",
    "Identify differences between the countries in your plot above and discuss what surprised you.\n"
   ]
  },
  {
   "cell_type": "markdown",
   "metadata": {},
   "source": [
    "For the US, Germany, and China, labour force has remained relatively stable with no big changes which suggests a very slowly growing workforce. This might be due to demographic trends where an aging population might limit labour force expansion, or the higher income countries might allow for more people to leave the nation to work somewhere else instead. China has the highest labour force however, it is steady as well. The most probable cause might be the one-child policy and the transition from labour-intensive industries to capital-intensive as they are at the forefront of automation now. Cambodia, once again, is the smallest amongst the countries but does show that labour force increases which indicates its shift from agrarian to industrial. I was expecting China's labour force to actually continue increasing and not plateau but I guess it does align with what we are seeing in the news now, how China is a leader in the EV and automation markets. "
   ]
  },
  {
   "cell_type": "markdown",
   "metadata": {
    "deletable": false,
    "editable": false
   },
   "source": [
    "<!-- END QUESTION -->\n",
    "\n",
    "**Question 2.7:**\n",
    "Create a plot of time and GDP for the countries in your table.\n"
   ]
  },
  {
   "cell_type": "code",
   "execution_count": 24,
   "metadata": {
    "tags": []
   },
   "outputs": [
    {
     "data": {
      "image/png": "[encoded data removed]",
      "text/plain": [
       "<Figure size 640x480 with 1 Axes>"
      ]
     },
     "metadata": {},
     "output_type": "display_data"
    }
   ],
   "source": [
    "q2_7 = country_table_plotter(comparison_data, \"year\", \"Real GDP\")"
   ]
  },
  {
   "cell_type": "code",
   "execution_count": 25,
   "metadata": {
    "deletable": false,
    "editable": false
   },
   "outputs": [
    {
     "data": {
      "text/html": [
       "<p><strong><pre style='display: inline;'>q2_7</pre></strong> passed! 🌈</p>"
      ],
      "text/plain": [
       "q2_7 results: All test cases passed!"
      ]
     },
     "execution_count": 25,
     "metadata": {},
     "output_type": "execute_result"
    }
   ],
   "source": [
    "grader.check(\"q2_7\")"
   ]
  },
  {
   "cell_type": "markdown",
   "metadata": {
    "deletable": false,
    "editable": false
   },
   "source": [
    "<!-- BEGIN QUESTION -->\n",
    "\n",
    "**Question 2.8:**\n",
    "Using your knowledge of the Cobb-Douglas Production Function, identify differences between the countries and discuss these in relation to your findings about each of the country's levels of capital stock and labor. Also note about how these have changed over time, if at all.\n"
   ]
  },
  {
   "cell_type": "markdown",
   "metadata": {},
   "source": [
    "The Cobb-Douglas function is defined as $Y = A K^\\alpha L^{1-\\alpha}$, where Y is the output, K is the capital, and L is the labour, and A is the total factor productivity. The US has high capital stock, a stable labour force which may indicate that the output growth comes largely from the total factor of productivity rather than K or L. Over time, the slow increase in capital sotck is probably compensating for the labour force growth. Looking at Germany, it is similar to the US. It's economic growth is probably driven by tech innovations rather than changes in cpaital and labour inputs. The steady growth in capital stock with almost no labour growth implies Germany's reliance on productivity gains by capital. China's early labour-intensive growth dominated output, but as capital stock increased, and growth started shifting due to capital-intensive industries, we get a higher K value and thus higher A value. And this rapid industrialization means a high $\\alpha$ which explains why output grows despite a slower labour. Cambodia shows increases in both capital stock and labour force. Since both inputs are increasing, its growth might be more evenly split between capital accumulation and labor expansion. The lack of rapid industrialization, however, suggests lower productivity growth compared to China. "
   ]
  },
  {
   "cell_type": "markdown",
   "metadata": {
    "deletable": false,
    "editable": false
   },
   "source": [
    "<!-- END QUESTION -->\n",
    "\n",
    "## Part 3: Prediction and Comparison"
   ]
  },
  {
   "cell_type": "markdown",
   "metadata": {},
   "source": [
    "We are now going to provide numerical backing to your discussions of differences between the nations. We will predict values for $\\alpha$ and $A$ for each of the 4 countries that we are examining. To do this, we will revisit the equation that you derived in question 1.4. "
   ]
  },
  {
   "cell_type": "markdown",
   "metadata": {
    "deletable": false,
    "editable": false
   },
   "source": [
    "**Question 3.1:**\n",
    "A key step in the original paper by Cobb and Douglas was that they converted the data into an index. This is important because the data is measured in different units. Do this for each country and each of the variables in `comparison_data`. Let the 2011 value for each variable in each country be the base year, i.e. 100. Place this in a new table called `indexed_data` together with `country` and `year` columns.\n",
    "\n",
    "_Hint:_ The formula for calculating an index is as follows:\n",
    "$$\n",
    "\\dfrac{Q_{\\text{current year}}}{Q_{\\text{base year}}} \\cdot 100 \\, \\text{ for some variable } Q\n",
    "$$\n"
   ]
  },
  {
   "cell_type": "code",
   "execution_count": 65,
   "metadata": {
    "tags": [
     "gradable"
    ]
   },
   "outputs": [
    {
     "data": {
      "text/html": [
       "<table border=\"1\" class=\"dataframe\">\n",
       "    <thead>\n",
       "        <tr>\n",
       "            <th>country</th> <th>year</th> <th>Indexed K</th> <th>Indexed L</th> <th>Indexed Y</th>\n",
       "        </tr>\n",
       "    </thead>\n",
       "    <tbody>\n",
       "        <tr>\n",
       "            <td>Cambodia</td> <td>1990</td> <td>17.3344  </td> <td>50       </td> <td>25.4999  </td>\n",
       "        </tr>\n",
       "        <tr>\n",
       "            <td>Cambodia</td> <td>1991</td> <td>17.7146  </td> <td>50       </td> <td>27.846   </td>\n",
       "        </tr>\n",
       "        <tr>\n",
       "            <td>Cambodia</td> <td>1992</td> <td>18.1662  </td> <td>50       </td> <td>29.8285  </td>\n",
       "        </tr>\n",
       "        <tr>\n",
       "            <td>Cambodia</td> <td>1993</td> <td>19.2625  </td> <td>50       </td> <td>28.1531  </td>\n",
       "        </tr>\n",
       "        <tr>\n",
       "            <td>Cambodia</td> <td>1994</td> <td>19.9811  </td> <td>50       </td> <td>30.4058  </td>\n",
       "        </tr>\n",
       "        <tr>\n",
       "            <td>Cambodia</td> <td>1995</td> <td>21.6557  </td> <td>50       </td> <td>33.2998  </td>\n",
       "        </tr>\n",
       "        <tr>\n",
       "            <td>Cambodia</td> <td>1996</td> <td>22.9735  </td> <td>50       </td> <td>32.2213  </td>\n",
       "        </tr>\n",
       "        <tr>\n",
       "            <td>Cambodia</td> <td>1997</td> <td>24.7859  </td> <td>62.5     </td> <td>34.2898  </td>\n",
       "        </tr>\n",
       "        <tr>\n",
       "            <td>Cambodia</td> <td>1998</td> <td>26.3547  </td> <td>62.5     </td> <td>35.0415  </td>\n",
       "        </tr>\n",
       "        <tr>\n",
       "            <td>Cambodia</td> <td>1999</td> <td>28.775   </td> <td>62.5     </td> <td>39.3652  </td>\n",
       "        </tr>\n",
       "    </tbody>\n",
       "</table>\n",
       "<p>... (110 rows omitted)</p>"
      ],
      "text/plain": [
       "country  | year | Indexed K | Indexed L | Indexed Y\n",
       "Cambodia | 1990 | 17.3344   | 50        | 25.4999\n",
       "Cambodia | 1991 | 17.7146   | 50        | 27.846\n",
       "Cambodia | 1992 | 18.1662   | 50        | 29.8285\n",
       "Cambodia | 1993 | 19.2625   | 50        | 28.1531\n",
       "Cambodia | 1994 | 19.9811   | 50        | 30.4058\n",
       "Cambodia | 1995 | 21.6557   | 50        | 33.2998\n",
       "Cambodia | 1996 | 22.9735   | 50        | 32.2213\n",
       "Cambodia | 1997 | 24.7859   | 62.5      | 34.2898\n",
       "Cambodia | 1998 | 26.3547   | 62.5      | 35.0415\n",
       "Cambodia | 1999 | 28.775    | 62.5      | 39.3652\n",
       "... (110 rows omitted)"
      ]
     },
     "execution_count": 65,
     "metadata": {},
     "output_type": "execute_result"
    }
   ],
   "source": [
    "# We need to sort comparison_data in alphabetical order because the countries array is in alphabetical order\n",
    "comparison_data = comparison_data.sort('country')\n",
    "\n",
    "base_values = comparison_data.where(\"year\", 2011)\n",
    "countries = np.unique(comparison_data.column(\"country\"))\n",
    "indexed_Ks = make_array()\n",
    "indexed_Ls = make_array()\n",
    "indexed_Ys = make_array()\n",
    "\n",
    "for country in countries:\n",
    "    country_data = comparison_data.where(\"country\", country)\n",
    "    base_country_data = base_values.where(\"country\", country)\n",
    "    \n",
    "    baseK = base_country_data.column(\"Capital Stock\").item(0)\n",
    "    baseL = base_country_data.column(\"Labor Force\").item(0)\n",
    "    baseY = base_country_data.column(\"Real GDP\").item(0)\n",
    "\n",
    "    indexed_Ks = np.append(indexed_Ks, country_data.column(\"Capital Stock\") / baseK * 100)\n",
    "    indexed_Ls = np.append(indexed_Ls, country_data.column(\"Labor Force\") / baseL * 100)\n",
    "    indexed_Ys = np.append(indexed_Ys, country_data.column(\"Real GDP\") / baseY * 100)\n",
    "\n",
    "indexed_data = Table().with_columns(\n",
    "    \"country\", comparison_data.column(\"country\"),\n",
    "    \"year\", comparison_data.column(\"year\"),\n",
    "    \"Indexed K\", indexed_Ks,\n",
    "    \"Indexed L\", indexed_Ls,\n",
    "    \"Indexed Y\", indexed_Ys,\n",
    ")\n",
    "indexed_data"
   ]
  },
  {
   "cell_type": "code",
   "execution_count": 27,
   "metadata": {
    "deletable": false,
    "editable": false
   },
   "outputs": [
    {
     "data": {
      "text/html": [
       "<p><strong><pre style='display: inline;'>q3_1</pre></strong> passed! 💯</p>"
      ],
      "text/plain": [
       "q3_1 results: All test cases passed!"
      ]
     },
     "execution_count": 27,
     "metadata": {},
     "output_type": "execute_result"
    }
   ],
   "source": [
    "grader.check(\"q3_1\")"
   ]
  },
  {
   "cell_type": "markdown",
   "metadata": {
    "deletable": false,
    "editable": false
   },
   "source": [
    "**Question 3.2:**\n",
    "Using the equation you derived in Part 1 and the `indexed_data` table, calculate the two log ratios that you need to perform linear regression. Place them in the table `log_ratios` with `country` and `year` as the two leftmost columns respectively. The `log_ratios` table should have 4 columns: `country`, `year`, `ln(Y/L)`, and `ln(K/L)`.\n"
   ]
  },
  {
   "cell_type": "code",
   "execution_count": 54,
   "metadata": {
    "tags": []
   },
   "outputs": [
    {
     "data": {
      "text/html": [
       "<table border=\"1\" class=\"dataframe\">\n",
       "    <thead>\n",
       "        <tr>\n",
       "            <th>country</th> <th>year</th> <th>ln(Y/L)</th> <th>ln(K/L)</th>\n",
       "        </tr>\n",
       "    </thead>\n",
       "    <tbody>\n",
       "        <tr>\n",
       "            <td>Cambodia</td> <td>1990</td> <td>-0.673347</td> <td>-1.05933 </td>\n",
       "        </tr>\n",
       "        <tr>\n",
       "            <td>Cambodia</td> <td>1991</td> <td>-0.585333</td> <td>-1.03763 </td>\n",
       "        </tr>\n",
       "        <tr>\n",
       "            <td>Cambodia</td> <td>1992</td> <td>-0.516558</td> <td>-1.01246 </td>\n",
       "        </tr>\n",
       "        <tr>\n",
       "            <td>Cambodia</td> <td>1993</td> <td>-0.574366</td> <td>-0.953864</td>\n",
       "        </tr>\n",
       "        <tr>\n",
       "            <td>Cambodia</td> <td>1994</td> <td>-0.497388</td> <td>-0.917239</td>\n",
       "        </tr>\n",
       "        <tr>\n",
       "            <td>Cambodia</td> <td>1995</td> <td>-0.406473</td> <td>-0.836755</td>\n",
       "        </tr>\n",
       "        <tr>\n",
       "            <td>Cambodia</td> <td>1996</td> <td>-0.439395</td> <td>-0.777683</td>\n",
       "        </tr>\n",
       "        <tr>\n",
       "            <td>Cambodia</td> <td>1997</td> <td>-0.600319</td> <td>-0.924891</td>\n",
       "        </tr>\n",
       "        <tr>\n",
       "            <td>Cambodia</td> <td>1998</td> <td>-0.578633</td> <td>-0.86352 </td>\n",
       "        </tr>\n",
       "        <tr>\n",
       "            <td>Cambodia</td> <td>1999</td> <td>-0.462284</td> <td>-0.77566 </td>\n",
       "        </tr>\n",
       "    </tbody>\n",
       "</table>\n",
       "<p>... (110 rows omitted)</p>"
      ],
      "text/plain": [
       "country  | year | ln(Y/L)   | ln(K/L)\n",
       "Cambodia | 1990 | -0.673347 | -1.05933\n",
       "Cambodia | 1991 | -0.585333 | -1.03763\n",
       "Cambodia | 1992 | -0.516558 | -1.01246\n",
       "Cambodia | 1993 | -0.574366 | -0.953864\n",
       "Cambodia | 1994 | -0.497388 | -0.917239\n",
       "Cambodia | 1995 | -0.406473 | -0.836755\n",
       "Cambodia | 1996 | -0.439395 | -0.777683\n",
       "Cambodia | 1997 | -0.600319 | -0.924891\n",
       "Cambodia | 1998 | -0.578633 | -0.86352\n",
       "Cambodia | 1999 | -0.462284 | -0.77566\n",
       "... (110 rows omitted)"
      ]
     },
     "execution_count": 54,
     "metadata": {},
     "output_type": "execute_result"
    }
   ],
   "source": [
    "log_ratios = indexed_data.select(\"country\", \"year\").with_columns(\"ln(Y/L)\", np.log(indexed_data.column(\"Indexed Y\") / indexed_data.column(\"Indexed L\")), \"ln(K/L)\", np.log(indexed_data.column(\"Indexed K\") / indexed_data.column(\"Indexed L\"))) \n",
    "log_ratios"
   ]
  },
  {
   "cell_type": "code",
   "execution_count": 29,
   "metadata": {
    "deletable": false,
    "editable": false
   },
   "outputs": [
    {
     "data": {
      "text/html": [
       "<p><strong><pre style='display: inline;'>q3_2</pre></strong> passed! 🚀</p>"
      ],
      "text/plain": [
       "q3_2 results: All test cases passed!"
      ]
     },
     "execution_count": 29,
     "metadata": {},
     "output_type": "execute_result"
    }
   ],
   "source": [
    "grader.check(\"q3_2\")"
   ]
  },
  {
   "cell_type": "markdown",
   "metadata": {},
   "source": [
    "The function `country_table_scatter` defined below takes in a data table, $x$ column label, and $y$ column label and plots these columns as against each other for each country in `data_table`."
   ]
  },
  {
   "cell_type": "code",
   "execution_count": 30,
   "metadata": {},
   "outputs": [],
   "source": [
    "def country_table_scatter(data_table, columnX, columnY):\n",
    "    # First getting a list of all the countries in data_table\n",
    "    country_list = data_table.group(\"country\").column(\"country\")\n",
    "    \n",
    "    # For each country, creating a scatter plot of columnX vs. columnY\n",
    "    for country in country_list:\n",
    "        curr_data_table = data_table.where(\"country\", country)\n",
    "        curr_data_table.scatter(columnX, columnY)\n",
    "        plt.title(country)\n",
    "        plt.grid()"
   ]
  },
  {
   "cell_type": "markdown",
   "metadata": {
    "deletable": false,
    "editable": false
   },
   "source": [
    "<!-- BEGIN QUESTION -->\n",
    "\n",
    "**Question 3.3.1:**\n",
    "Using the `country_table_scatter` function provided, plot the log ratios for each country from the `log_ratios` table below.\n"
   ]
  },
  {
   "cell_type": "code",
   "execution_count": 31,
   "metadata": {
    "scrolled": true,
    "tags": []
   },
   "outputs": [
    {
     "data": {
      "image/png": "[encoded data removed]",
      "text/plain": [
       "<Figure size 500x500 with 1 Axes>"
      ]
     },
     "metadata": {},
     "output_type": "display_data"
    },
    {
     "data": {
      "image/png": "[encoded data removed]",
      "text/plain": [
       "<Figure size 500x500 with 1 Axes>"
      ]
     },
     "metadata": {},
     "output_type": "display_data"
    },
    {
     "data": {
      "image/png": "[encoded data removed]",
      "text/plain": [
       "<Figure size 500x500 with 1 Axes>"
      ]
     },
     "metadata": {},
     "output_type": "display_data"
    },
    {
     "data": {
      "image/png": "[encoded data removed]",
      "text/plain": [
       "<Figure size 500x500 with 1 Axes>"
      ]
     },
     "metadata": {},
     "output_type": "display_data"
    }
   ],
   "source": [
    "country_table_scatter(log_ratios, \"ln(K/L)\", \"ln(Y/L)\")"
   ]
  },
  {
   "cell_type": "markdown",
   "metadata": {
    "deletable": false,
    "editable": false
   },
   "source": [
    "<!-- END QUESTION -->\n",
    "\n",
    "<!-- BEGIN QUESTION -->\n",
    "\n",
    "**Question 3.3.2:**\n",
    "What do you notice about the scatter plots? How do they differ?\n"
   ]
  },
  {
   "cell_type": "markdown",
   "metadata": {},
   "source": [
    "Cambodia and China both exhibit a strong positive linear relationship between $\\ln(K/L)$ and $\\ln(Y/L)$ this means that as capital per labor increases, output per labor also increases significantly. Cambodia also has a part in the middle where it loops around. Germany and the US both exhibit non-linear behaviour in the middle and end values of $\\ln(K/L)$ respectively due to recessions or changes in labour force. "
   ]
  },
  {
   "cell_type": "markdown",
   "metadata": {
    "deletable": false,
    "editable": false
   },
   "source": [
    "<!-- END QUESTION -->\n",
    "\n",
    "<!-- BEGIN QUESTION -->\n",
    "\n",
    "**Extra Credit Question:**\n",
    "Let's take a look at the scatter plot for the U.S in particular. What do you notice as the value of ln(K/L) nears -0.10 to 0.00? What could be the reason behind the stagnation?\n"
   ]
  },
  {
   "cell_type": "markdown",
   "metadata": {},
   "source": [
    "The vertical section of our plot occurs during the 2008 recession which would have a rise in output per worker but we get little change in capital per worker as mass layoffs occured which drops L which increases K/L increasing ln(K/L) assuming K is constant but the fewer workers would make it seem that productivity was higher when in reality it wasn't. The ratio of Y/L is constant so if L goes down, Y must also go down so output is also down which also makes sense for a recession."
   ]
  },
  {
   "cell_type": "markdown",
   "metadata": {
    "deletable": false,
    "editable": false
   },
   "source": [
    "<!-- END QUESTION -->\n",
    "\n",
    "To help you compare, the code below will plot all of the scatter plots on the same axis. Remember, the axes are in terms of logarithms. Thus, even small differences in slope or intercepts would yield big changes."
   ]
  },
  {
   "cell_type": "code",
   "execution_count": 32,
   "metadata": {},
   "outputs": [
    {
     "data": {
      "image/png": "[encoded data removed]",
      "text/plain": [
       "<Figure size 640x480 with 1 Axes>"
      ]
     },
     "metadata": {},
     "output_type": "display_data"
    }
   ],
   "source": [
    "all_scatter(log_ratios, \"ln(K/L)\", \"ln(Y/L)\")"
   ]
  },
  {
   "cell_type": "markdown",
   "metadata": {},
   "source": [
    "Now, we want to make a linear approximation of the curves above. How will we do this? Through linear regression.\n",
    "\n",
    "We will be using NumPy's `polyfit` function to get the $\\alpha$ and $A$ values for each country. You will learn more about linear regression later in Data 8, but think of it as fitting a line to a set of data points. The polyfit function would return the slope and intercept of such a line. Here is the link to the documentation of the <a href = \"https://numpy.org/doc/1.18/reference/generated/numpy.polyfit.html\"> function</a>: \n",
    "\n",
    "Let us break down how this function works by taking a look at the examples section of the documentation:\n",
    "\n",
    "```python\n",
    "import numpy as np\n",
    "x = np.array([0.0, 1.0, 2.0, 3.0,  4.0,  5.0])\n",
    "y = np.array([0.0, 0.8, 0.9, 1.0, 2.0, 3.0])\n",
    "model = np.polyfit(x, y, 1)\n",
    "```\n",
    "\n",
    "The first argument to `np.polyfit()` is the array of data $x$, the second argument contains the values we wish to estimate $y$. The last argument specifies the degree of the polynomial we wish to use. A 1-degree polynomial takes the following form: $y = a+ b x$. A 2-degree polynomial looks like this: $y = a + bx + cx^2$.\n",
    "\n",
    "`np.polyfit()` returns an array of the coefficients of the linear regression line. A degree 1 polynomial would contain two elements. A degree 2 polynomial would contain three elements. Let's look at the structure of the array:\n",
    "\n",
    "```python\n",
    ">>> model\n",
    "array([ 0.53428571, -0.05238095])\n",
    ">>> model.item(0) # The slope term\n",
    "0.53428571\n",
    ">>> model.item(1) # The intercept term\n",
    "-0.05238095\n",
    "```\n",
    "\n",
    "From this, we can construct the equation of the regression line as a function of $x$: $y = -0.05238095 + 0.53428571x$. \n",
    "\n",
    "Take a look at the derivation for the Cobb-Douglas production function we did in Part 1 and think about what kind of polynomial we want to fit on our data."
   ]
  },
  {
   "cell_type": "markdown",
   "metadata": {
    "deletable": false,
    "editable": false
   },
   "source": [
    "**Question 3.4:**\n",
    "Using `np.polyfit`, fit the data taken from each country. \n",
    "\n",
    "_Hint:_ Fill in the `<country>_x` and `<country>_y` arrays to make your life easier. You will need to call `np.polyfit` four times (once for each country).\n"
   ]
  },
  {
   "cell_type": "code",
   "execution_count": 38,
   "metadata": {
    "scrolled": true,
    "tags": []
   },
   "outputs": [],
   "source": [
    "# Create arrays of the data we will need from each country.\n",
    "# Think about which variable should be on each axis.\n",
    "\n",
    "china_x = log_ratios.where(\"country\", \"China\").column(\"ln(K/L)\")\n",
    "china_y = log_ratios.where(\"country\", \"China\").column(\"ln(Y/L)\")\n",
    "us_x = log_ratios.where(\"country\", \"United States\").column(\"ln(K/L)\")\n",
    "us_y = log_ratios.where(\"country\", \"United States\").column(\"ln(Y/L)\")\n",
    "country1_x = log_ratios.where(\"country\", \"Germany\").column(\"ln(K/L)\")\n",
    "country1_y = log_ratios.where(\"country\", \"Germany\").column(\"ln(Y/L)\")\n",
    "country2_x = log_ratios.where(\"country\", \"Cambodia\").column(\"ln(K/L)\")\n",
    "country2_y = log_ratios.where(\"country\", \"Cambodia\").column(\"ln(Y/L)\")\n",
    "\n",
    "model_china = np.polyfit(china_x, china_y, 1)\n",
    "model_us = np.polyfit(us_x, us_y, 1)\n",
    "model_country1 = np.polyfit(country1_x, country1_y, 1)\n",
    "model_country2 = np.polyfit(country2_x, country2_y, 1)"
   ]
  },
  {
   "cell_type": "code",
   "execution_count": 34,
   "metadata": {
    "deletable": false,
    "editable": false
   },
   "outputs": [
    {
     "data": {
      "text/html": [
       "<p><strong><pre style='display: inline;'>q3_4</pre></strong> passed! 🍀</p>"
      ],
      "text/plain": [
       "q3_4 results: All test cases passed!"
      ]
     },
     "execution_count": 34,
     "metadata": {},
     "output_type": "execute_result"
    }
   ],
   "source": [
    "grader.check(\"q3_4\")"
   ]
  },
  {
   "cell_type": "code",
   "execution_count": 35,
   "metadata": {},
   "outputs": [
    {
     "name": "stdout",
     "output_type": "stream",
     "text": [
      "['Cambodia' 'China' 'Germany' 'United States']\n"
     ]
    }
   ],
   "source": [
    "# for your reference\n",
    "print(country_array)"
   ]
  },
  {
   "cell_type": "markdown",
   "metadata": {
    "deletable": false,
    "editable": false
   },
   "source": [
    "**Question 3.5:**\n",
    "Now that we have fit the data of each country, we can then retrieve the slope and intercept of each fit. Using the equation you derived in Question 1.3, fill in the blanks in the print statements below such that they display the $\\alpha$ and $A$ values for each country. Note that you will need to transform at least one of the variables.\n",
    "\n",
    "**Note:** Python has special strings called **f-strings** where it fills in the value of a variable for you. For example:\n",
    "\n",
    "```python\n",
    ">>> arr = make_array(1, 2, 3)\n",
    ">>> print(f\"The second element of arr is {arr.item(1)}\")\n",
    "The second element of arr is 2\n",
    "```\n",
    "\n",
    "Fill `alpha_array` and `A_array` with the correct values from your `model_*` arrays. **Make sure their elements are in the same order as in the** `country_array`. Then, you will need to replace the `...` inside the curly braces in the f-strings print statements. You can use the example above as a reference. \n"
   ]
  },
  {
   "cell_type": "code",
   "execution_count": 68,
   "metadata": {
    "tags": []
   },
   "outputs": [
    {
     "name": "stdout",
     "output_type": "stream",
     "text": [
      "Cambodia alpha value: 0.5833981763001155\n",
      "Cambodia A value: 1.0048134249369283\n",
      "\n",
      "China alpha value: 0.6223758383900692\n",
      "China A value: 0.9961227233181271\n",
      "\n",
      "Germany alpha value: 0.672713798946415\n",
      "Germany A value: 0.9737101356326917\n",
      "\n",
      "United States alpha value: 1.2301875466494678\n",
      "United States A value: 1.0405598427417713\n",
      "\n"
     ]
    }
   ],
   "source": [
    "alpha_array = make_array(model_country2[0], model_china[0], model_country1[0], model_us[0])\n",
    "A_array = make_array(np.exp(model_country2[1]), np.exp(model_china[1]), np.exp(model_country1[1]), np.exp(model_us[1])) # you may want to use np.exp here\n",
    "for i in np.arange(len(country_array)):\n",
    "    print(f\"{country_array.item(i)} alpha value: {alpha_array[i]}\")\n",
    "    print(f\"{country_array.item(i)} A value: {A_array[i]}\")\n",
    "    print()"
   ]
  },
  {
   "cell_type": "code",
   "execution_count": 69,
   "metadata": {
    "deletable": false,
    "editable": false
   },
   "outputs": [
    {
     "data": {
      "text/html": [
       "<p><strong><pre style='display: inline;'>q3_5</pre></strong> passed! 🍀</p>"
      ],
      "text/plain": [
       "q3_5 results: All test cases passed!"
      ]
     },
     "execution_count": 69,
     "metadata": {},
     "output_type": "execute_result"
    }
   ],
   "source": [
    "grader.check(\"q3_5\")"
   ]
  },
  {
   "cell_type": "markdown",
   "metadata": {
    "deletable": false,
    "editable": false
   },
   "source": [
    "**Question 3.6:**\n",
    "What do you notice about USA's $\\alpha$ value? What does this say about our model's assumption of constant returns to scale?\n",
    "\n",
    "<ol type=\"A\" style=\"list-style-type: lower-alpha;\">\n",
    "    <li>USA's $\\alpha$ value is greater than 1, and it violates our model's assumption. </li>\n",
    "    <li>USA's $\\alpha$ value is greater than 1, and it does not violate our model's assumption. </li>\n",
    "    <li>USA's $\\alpha$ value is less than 1, and it violates our model's assumption. </li>\n",
    "    <li>USA's $\\alpha$ value is less than 1, and it does not violate our model's assumption. </li>\n",
    "</ol>\n",
    "\n",
    "Assign a letter corresponding to your answer to `q3_6` below. For example, `q1_2 = 'a'`.\n"
   ]
  },
  {
   "cell_type": "code",
   "execution_count": 66,
   "metadata": {
    "tags": []
   },
   "outputs": [],
   "source": [
    "q3_6 = \"a\""
   ]
  },
  {
   "cell_type": "code",
   "execution_count": 67,
   "metadata": {
    "deletable": false,
    "editable": false
   },
   "outputs": [
    {
     "data": {
      "text/html": [
       "<p><strong><pre style='display: inline;'>q3_6</pre></strong> passed! ✨</p>"
      ],
      "text/plain": [
       "q3_6 results: All test cases passed!"
      ]
     },
     "execution_count": 67,
     "metadata": {},
     "output_type": "execute_result"
    }
   ],
   "source": [
    "grader.check(\"q3_6\")"
   ]
  },
  {
   "cell_type": "markdown",
   "metadata": {
    "deletable": false,
    "editable": false
   },
   "source": [
    "<!-- BEGIN QUESTION -->\n",
    "\n",
    "**Question 3.7:**\n",
    "With reference to the $\\alpha$ and $A$ values for each of the countries you have examined, do they indicate about that country's ability to produce output as measured through GDP? Compare and contrast how each country allocates capital and labor when producing output. How about the role of technology or research and development? 3-4 sentences should suffice.\n"
   ]
  },
  {
   "cell_type": "markdown",
   "metadata": {},
   "source": [
    "The alpha values indicate the share of output attributed to capital of the country, while the A represents TFP for Cobb-Douglas which is basically how much technology and efficiency affects production. US has the highest A and alpha values, which alpha standing out as the highest compared to the lot which indicates a much stronger reliance on capital compared to other countries, while its A value suggests a slightly higher efficiency in using both capital and labor but pretty much equal to Cambodia in A values. Germany's alpha value also points to capital playing a significant role in output which would make sense as they have a highly industrialized and manufacturing economy, but its A value is lower so they are less efficient with the use of inputs compared to the US. China and Cambodia have lower alpha values, indicating a more labor-heavy economic structure which would make sense as both are rapidly expanding their economies with China seeing massive growth especially. China is more capital-intensive than Cambodia, but both may benefit less from technological advances or R&D compared to the US. With respect to R&D, the US gains much more from tech innovations as it has a higher A value. But Cambodia and China, despite their allocation of capital and labour, they will be less effective at utilizing these new advances to increase their ouput this is most likely due to the maturity of their economy. "
   ]
  },
  {
   "cell_type": "markdown",
   "metadata": {
    "deletable": false,
    "editable": false
   },
   "source": [
    "<!-- END QUESTION -->\n",
    "\n",
    "**That's all! Hope you had fun analyzing the vast amount of data.**"
   ]
  },
  {
   "cell_type": "markdown",
   "metadata": {},
   "source": [
    "---\n",
    "\n",
    "**Acknowledgements:**\n",
    "We would like to thank Professor Raymond Hawkins for his Economics 100B Problem Set that served as the basis for this assignment."
   ]
  },
  {
   "cell_type": "markdown",
   "metadata": {
    "deletable": false,
    "editable": false
   },
   "source": [
    "## Submission\n",
    "\n",
    "Make sure you have run all cells in your notebook in order before running the cell below, so that all images/graphs appear in the output. The cell below will generate a zip file for you to submit. **Please save before exporting!**"
   ]
  },
  {
   "cell_type": "code",
   "execution_count": 70,
   "metadata": {
    "deletable": false,
    "editable": false
   },
   "outputs": [
    {
     "name": "stdout",
     "output_type": "stream",
     "text": [
      "Running your submission against local test cases...\n",
      "\n",
      "\n",
      "\n",
      "Your submission received the following results when run against available test cases:\n",
      "\n",
      "    q1_1 results: All test cases passed!\n",
      "\n",
      "    q1_2 results: All test cases passed!\n",
      "\n",
      "    q1_3 results: All test cases passed!\n",
      "\n",
      "    q1_4 results: All test cases passed!\n",
      "\n",
      "    q2_1 results: All test cases passed!\n",
      "\n",
      "    q2_3 results: All test cases passed!\n",
      "\n",
      "    q2_5 results: All test cases passed!\n",
      "\n",
      "    q2_7 results: All test cases passed!\n",
      "\n",
      "    q3_1 results: All test cases passed!\n",
      "\n",
      "    q3_2 results: All test cases passed!\n",
      "\n",
      "    q3_4 results: All test cases passed!\n",
      "\n",
      "    q3_5 results: All test cases passed!\n",
      "\n",
      "    q3_6 results: All test cases passed!\n"
     ]
    },
    {
     "data": {
      "text/html": [
       "\n",
       "            <p>Your submission has been exported. Click <a href=\"proj02_2024_10_15T13_49_49_357693.zip\" download=\"proj02_2024_10_15T13_49_49_357693.zip\" target=\"_blank\">here</a>\n",
       "            to download the zip file.</p>\n",
       "            "
      ],
      "text/plain": [
       "<IPython.core.display.HTML object>"
      ]
     },
     "metadata": {},
     "output_type": "display_data"
    }
   ],
   "source": [
    "# Save your notebook first, then run this cell to export your submission.\n",
    "grader.export(pdf=False, run_tests=True)"
   ]
  },
  {
   "cell_type": "markdown",
   "metadata": {},
   "source": [
    " "
   ]
  }
 ],
 "metadata": {
  "kernelspec": {
   "display_name": "Python 3 (ipykernel)",
   "language": "python",
   "name": "python3"
  },
  "language_info": {
   "codemirror_mode": {
    "name": "ipython",
    "version": 3
   },
   "file_extension": ".py",
   "mimetype": "text/x-python",
   "name": "python",
   "nbconvert_exporter": "python",
   "pygments_lexer": "ipython3",
   "version": "3.11.10"
  },
  "otter": {
   "OK_FORMAT": true,
   "tests": {
    "q1_1": {
     "name": "q1_1",
     "points": null,
     "suites": [
      {
       "cases": [
        {
         "code": ">>> all_countries.num_rows == 183\nTrue",
         "hidden": false,
         "locked": false
        },
        {
         "code": ">>> all_countries.row(23)[0] < all_countries.row(55)[0]\nTrue",
         "hidden": false,
         "locked": false
        },
        {
         "code": ">>> all_countries.row(0)[0] == 'Albania'\nTrue",
         "hidden": false,
         "locked": false
        },
        {
         "code": ">>> all_countries.labels == ('Country', 'Earliest Year')\nTrue",
         "hidden": false,
         "locked": false
        },
        {
         "code": ">>> np.all(data.where('year', all_countries.row(128)[1]).where('country', all_countries.row(128)[0]).column('cgdpe') != -1)\nTrue",
         "hidden": false,
         "locked": false
        },
        {
         "code": ">>> np.all(data.where('year', all_countries.row(134)[1]).where('country', all_countries.row(134)[0]).column('cgdpe') != -1)\nTrue",
         "hidden": false,
         "locked": false
        },
        {
         "code": ">>> np.all(data.where('year', all_countries.row(134)[1] - 1).where('country', all_countries.row(134)[0]).column('cgdpe') == -1)\nTrue",
         "hidden": false,
         "locked": false
        }
       ],
       "scored": true,
       "setup": "",
       "teardown": "",
       "type": "doctest"
      }
     ]
    },
    "q1_2": {
     "name": "q1_2",
     "points": [
      0,
      0
     ],
     "suites": [
      {
       "cases": [
        {
         "code": ">>> len(q1_2) == 4\nTrue",
         "hidden": false,
         "locked": false
        },
        {
         "code": ">>> np.all([x in ['A', 'K', 'L', 'alpha', 'beta'] for x in q1_2])\nTrue",
         "hidden": false,
         "locked": false
        }
       ],
       "scored": true,
       "setup": "",
       "teardown": "",
       "type": "doctest"
      }
     ]
    },
    "q1_3": {
     "name": "q1_3",
     "points": null,
     "suites": [
      {
       "cases": [
        {
         "code": ">>> len(missing_variables) > 0\nTrue",
         "hidden": false,
         "locked": false
        }
       ],
       "scored": true,
       "setup": "",
       "teardown": "",
       "type": "doctest"
      }
     ]
    },
    "q1_4": {
     "name": "q1_4",
     "points": null,
     "suites": [
      {
       "cases": [
        {
         "code": ">>> cleaned_data.num_rows == 12810\nTrue",
         "hidden": false,
         "locked": false
        },
        {
         "code": ">>> len(cleaned_data.columns) == 5\nTrue",
         "hidden": false,
         "locked": false
        },
        {
         "code": ">>> cleaned_data.labels[2:5] == ('Capital Stock', 'Real GDP', 'Labor Force')\nTrue",
         "hidden": false,
         "locked": false
        }
       ],
       "scored": true,
       "setup": "",
       "teardown": "",
       "type": "doctest"
      }
     ]
    },
    "q2_1": {
     "name": "q2_1",
     "points": null,
     "suites": [
      {
       "cases": [
        {
         "code": ">>> len(country_array) == 4\nTrue",
         "hidden": false,
         "locked": false
        },
        {
         "code": ">>> 'United States' in country_array\nTrue",
         "hidden": false,
         "locked": false
        },
        {
         "code": ">>> 'China' in country_array\nTrue",
         "hidden": false,
         "locked": false
        },
        {
         "code": ">>> np.count_nonzero(np.isin(country_array, all_countries.column('Country'))) == 4\nTrue",
         "hidden": false,
         "locked": false
        },
        {
         "code": ">>> np.all(all_countries.where('Country', country_array.item(2)).column('Earliest Year') <= 1990)\nTrue",
         "hidden": false,
         "locked": false
        },
        {
         "code": ">>> np.all(all_countries.where('Country', country_array.item(3)).column('Earliest Year') <= 1990)\nTrue",
         "hidden": false,
         "locked": false
        },
        {
         "code": ">>> len(comparison_data.group('country').column('country')) == 4\nTrue",
         "hidden": false,
         "locked": false
        },
        {
         "code": ">>> len(comparison_data.labels) == 5\nTrue",
         "hidden": false,
         "locked": false
        },
        {
         "code": ">>> country_array.item(0) < country_array.item(1) < country_array.item(2) < country_array.item(3)\nTrue",
         "hidden": false,
         "locked": false
        }
       ],
       "scored": true,
       "setup": "",
       "teardown": "",
       "type": "doctest"
      }
     ]
    },
    "q2_3": {
     "name": "q2_3",
     "points": [
      0,
      0
     ],
     "suites": [
      {
       "cases": [
        {
         "code": ">>> len(q2_3) == 3\nTrue",
         "hidden": false,
         "locked": false
        },
        {
         "code": ">>> np.all([c in country_array for c in q2_3[0]])\nTrue",
         "hidden": false,
         "locked": false
        }
       ],
       "scored": true,
       "setup": "",
       "teardown": "",
       "type": "doctest"
      }
     ]
    },
    "q2_5": {
     "name": "q2_5",
     "points": [
      0,
      0
     ],
     "suites": [
      {
       "cases": [
        {
         "code": ">>> len(q2_5) == 3\nTrue",
         "hidden": false,
         "locked": false
        },
        {
         "code": ">>> np.all([c in country_array for c in q2_5[0]])\nTrue",
         "hidden": false,
         "locked": false
        }
       ],
       "scored": true,
       "setup": "",
       "teardown": "",
       "type": "doctest"
      }
     ]
    },
    "q2_7": {
     "name": "q2_7",
     "points": [
      0,
      0
     ],
     "suites": [
      {
       "cases": [
        {
         "code": ">>> len(q2_7) == 3\nTrue",
         "hidden": false,
         "locked": false
        },
        {
         "code": ">>> np.all([c in country_array for c in q2_7[0]])\nTrue",
         "hidden": false,
         "locked": false
        }
       ],
       "scored": true,
       "setup": "",
       "teardown": "",
       "type": "doctest"
      }
     ]
    },
    "q3_1": {
     "name": "q3_1",
     "points": [
      0,
      0,
      0.1
     ],
     "suites": [
      {
       "cases": [
        {
         "code": ">>> indexed_data.labels == ('country', 'year', 'Indexed K', 'Indexed L', 'Indexed Y')\nTrue",
         "hidden": false,
         "locked": false
        },
        {
         "code": ">>> indexed_data.num_rows == 120\nTrue",
         "hidden": false,
         "locked": false
        },
        {
         "code": ">>> np.isclose(indexed_data.where('country', 'China').where('year', 1990).column('Indexed K')[0], 8.43158946792127)\nTrue",
         "hidden": false,
         "locked": false
        }
       ],
       "scored": true,
       "setup": "",
       "teardown": "",
       "type": "doctest"
      }
     ]
    },
    "q3_2": {
     "name": "q3_2",
     "points": null,
     "suites": [
      {
       "cases": [
        {
         "code": ">>> log_ratios.num_rows == 120\nTrue",
         "hidden": false,
         "locked": false
        },
        {
         "code": ">>> len(log_ratios.labels) == 4\nTrue",
         "hidden": false,
         "locked": false
        }
       ],
       "scored": true,
       "setup": "",
       "teardown": "",
       "type": "doctest"
      }
     ]
    },
    "q3_4": {
     "name": "q3_4",
     "points": null,
     "suites": [
      {
       "cases": [
        {
         "code": ">>> len(china_x) == 30 and len(china_y) == 30\nTrue",
         "hidden": false,
         "locked": false
        },
        {
         "code": ">>> isinstance(model_china.item(0), (int, float)) and isinstance(model_us.item(0), (int, float))\nTrue",
         "hidden": false,
         "locked": false
        }
       ],
       "scored": true,
       "setup": "",
       "teardown": "",
       "type": "doctest"
      }
     ]
    },
    "q3_5": {
     "name": "q3_5",
     "points": [
      0,
      0,
      0.5
     ],
     "suites": [
      {
       "cases": [
        {
         "code": ">>> len(alpha_array) == 4 and isinstance(alpha_array.item(0), float)\nTrue",
         "hidden": false,
         "locked": false
        },
        {
         "code": ">>> len(A_array) == 4 and isinstance(A_array.item(0), float)\nTrue",
         "hidden": false,
         "locked": false
        },
        {
         "code": ">>> np.isclose(model_us.item(0), alpha_array.item(np.argwhere(country_array == 'United States').flatten()[0]))\nTrue",
         "hidden": false,
         "locked": false
        }
       ],
       "scored": true,
       "setup": "",
       "teardown": "",
       "type": "doctest"
      }
     ]
    },
    "q3_6": {
     "name": "q3_6",
     "points": [
      0
     ],
     "suites": [
      {
       "cases": [
        {
         "code": ">>> q3_6 in ['a', 'b', 'c', 'd']\nTrue",
         "hidden": false,
         "locked": false
        }
       ],
       "scored": true,
       "setup": "",
       "teardown": "",
       "type": "doctest"
      }
     ]
    }
   }
  },
  "varInspector": {
   "cols": {
    "lenName": 16,
    "lenType": 16,
    "lenVar": 40
   },
   "kernels_config": {
    "python": {
     "delete_cmd_postfix": "",
     "delete_cmd_prefix": "del ",
     "library": "var_list.py",
     "varRefreshCmd": "print(var_dic_list())"
    },
    "r": {
     "delete_cmd_postfix": ") ",
     "delete_cmd_prefix": "rm(",
     "library": "var_list.r",
     "varRefreshCmd": "cat(var_dic_list()) "
    }
   },
   "types_to_exclude": [
    "module",
    "function",
    "builtin_function_or_method",
    "instance",
    "_Feature"
   ],
   "window_display": false
  }
 },
 "nbformat": 4,
 "nbformat_minor": 4
}
