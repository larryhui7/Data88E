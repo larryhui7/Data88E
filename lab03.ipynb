{
 "cells": [
  {
   "cell_type": "code",
   "execution_count": 2,
   "metadata": {
    "deletable": false,
    "editable": false
   },
   "outputs": [],
   "source": [
    "# Initialize Otter\n",
    "import otter\n",
    "grader = otter.Notebook(\"lab03.ipynb\")"
   ]
  },
  {
   "cell_type": "markdown",
   "metadata": {},
   "source": [
    "<table style=\"width: 100%;\" id=\"nb-header\">\n",
    "    <tr style=\"background-color: transparent;\"><td>\n",
    "        <img src=\"https://data-88e.github.io/assets/images/blue_text.png\" width=\"250px\" style=\"margin-left: 0;\" />\n",
    "    </td><td>\n",
    "        <p style=\"text-align: right; font-size: 10pt;\"><strong>Economic Models</strong>, Fall 2024<br>\n",
    "            Dr. Eric Van Dusen <br>\n",
    "        Alan Liang <br>\n",
    "        Umar Maniku <br>\n",
    "        Akhil Venkatesh <br>\n",
    "</table>"
   ]
  },
  {
   "cell_type": "markdown",
   "metadata": {},
   "source": [
    "<!-- BEGIN QUESTION -->\n",
    "\n",
    "# Lab 3: Taxes, Government Intervention, and Welfare\n",
    "\n",
    "<!-- END QUESTION -->"
   ]
  },
  {
   "cell_type": "code",
   "execution_count": 3,
   "metadata": {},
   "outputs": [],
   "source": [
    "from datascience import *\n",
    "import numpy as np\n",
    "import matplotlib.pyplot as plt\n",
    "import sympy\n",
    "solve = lambda x,y: sympy.solve(x-y)[0] if len(sympy.solve(x-y))==1 else \"Not Single Solution\"\n",
    "%matplotlib inline"
   ]
  },
  {
   "cell_type": "markdown",
   "metadata": {},
   "source": [
    "## Question 1: Beer Taxes: An Empirical Study"
   ]
  },
  {
   "cell_type": "markdown",
   "metadata": {},
   "source": [
    "Many states in the United States impose an excise and an ad valorem tax on the consumption of beer. According to the Beer Institute, “taxes are the single most expensive ingredient in beer, costing more than the labor and raw materials combined.” In fact, approximately 40 percent of the retail price of beer is dedicated toward covering all the applicable taxes. \n",
    "\n",
    "Throughout this exercise, you will investigate how salient consumers are to changes in taxes on beer. Typically, the ad valorem tax on beer is not reflected in the label price, like typical sales taxes in the US. However, the excise tax is included in the label price. \n",
    "\n",
    "This study on consumer salience towards taxes is taken from [_Salience and Taxation: Theory and Evidence_](https://www.aeaweb.org/articles?id=10.1257/aer.99.4.1145) by Chetty, Looney, and Kroft (AER 2010). "
   ]
  },
  {
   "cell_type": "markdown",
   "metadata": {
    "deletable": false,
    "editable": false
   },
   "source": [
    "**Question 1.1:**\n",
    "In the paper *Salience and Taxation: Theory and Evidence*, the authors also investigate consumer salience towards taxes through a field experiment by posting tax-inclusive price tags, and find that doing so reduces demand by 8 percent. What does this imply about consumer salience in relation to the decrease in demand?\n"
   ]
  },
  {
   "cell_type": "markdown",
   "metadata": {
    "deletable": false,
    "editable": false
   },
   "source": [
    "a. Including the tax in the price tag does not change the actual price of the good, but only the label price. Since demand decreases when including the tax in the price, we can conclude that not all consumers are aware of the tax.\n",
    "<br>\n",
    "b. Including the tax in the price tag does not change the actual price of the good, but only the label price. Since demand increases when including the tax in the price, we can conclude that not all consumers are aware of the tax.\n",
    "<br>\n",
    "c. Including the tax in the price tag changes the actual price of the good. Since demand decreases when including the tax in the price, we can conclude that all consumers are aware of the tax.\n",
    "<br>\n",
    "d. Including the tax in the price tag changes the actual price of the good, but only the signaling price. Since demand increases when including the tax in the price, we can conclude that not all consumers are aware of the tax."
   ]
  },
  {
   "cell_type": "code",
   "execution_count": 4,
   "metadata": {
    "tags": []
   },
   "outputs": [],
   "source": [
    "q1_1 = \"a\""
   ]
  },
  {
   "cell_type": "code",
   "execution_count": 5,
   "metadata": {
    "deletable": false,
    "editable": false
   },
   "outputs": [
    {
     "data": {
      "text/html": [
       "<p><strong><pre style='display: inline;'>q1_1</pre></strong> passed! ✨</p>"
      ],
      "text/plain": [
       "q1_1 results: All test cases passed!"
      ]
     },
     "execution_count": 5,
     "metadata": {},
     "output_type": "execute_result"
    }
   ],
   "source": [
    "grader.check(\"q1_1\")"
   ]
  },
  {
   "cell_type": "markdown",
   "metadata": {},
   "source": [
    "Let's load in a table about beer sales across the 50 states from 1970 to 2003.\n",
    "\n",
    "The table `beer_raw` includes 7 columns:\n",
    "- `st_name`: the state abbreviation\n",
    "- `year`: the year the data was recorded\n",
    "- `c_beer`: the quantity of beer consumed in gallons (in thousands of gallons)\n",
    "- `beer_tax`: the ad valorem tax as a percentage\n",
    "- `btax_dollars`: the excise tax, represented in dollars per case of beer (24 cans)\n",
    "- `population`: the population of the state (in thousands)\n",
    "- `salestax`: the sales tax percentage"
   ]
  },
  {
   "cell_type": "code",
   "execution_count": 6,
   "metadata": {},
   "outputs": [
    {
     "data": {
      "text/html": [
       "<table border=\"1\" class=\"dataframe\">\n",
       "    <thead>\n",
       "        <tr>\n",
       "            <th>st_name</th> <th>year</th> <th>c_beer</th> <th>beer_tax</th> <th>btax_dollars</th> <th>population</th> <th>salestax</th>\n",
       "        </tr>\n",
       "    </thead>\n",
       "    <tbody>\n",
       "        <tr>\n",
       "            <td>AL     </td> <td>1970</td> <td>33098 </td> <td>72.3411 </td> <td>2.37        </td> <td>3450      </td> <td>4       </td>\n",
       "        </tr>\n",
       "        <tr>\n",
       "            <td>AL     </td> <td>1971</td> <td>37598 </td> <td>69.3046 </td> <td>2.37        </td> <td>3497      </td> <td>4       </td>\n",
       "        </tr>\n",
       "        <tr>\n",
       "            <td>AL     </td> <td>1972</td> <td>42719 </td> <td>67.1492 </td> <td>2.37        </td> <td>3539      </td> <td>4       </td>\n",
       "        </tr>\n",
       "        <tr>\n",
       "            <td>AL     </td> <td>1973</td> <td>46203 </td> <td>63.217  </td> <td>2.37        </td> <td>3580      </td> <td>4       </td>\n",
       "        </tr>\n",
       "        <tr>\n",
       "            <td>AL     </td> <td>1974</td> <td>49769 </td> <td>56.9338 </td> <td>2.37        </td> <td>3627      </td> <td>4       </td>\n",
       "        </tr>\n",
       "        <tr>\n",
       "            <td>AL     </td> <td>1975</td> <td>53236 </td> <td>52.1717 </td> <td>2.37        </td> <td>3679      </td> <td>4       </td>\n",
       "        </tr>\n",
       "        <tr>\n",
       "            <td>AL     </td> <td>1976</td> <td>54992 </td> <td>49.3293 </td> <td>2.37        </td> <td>3735      </td> <td>4       </td>\n",
       "        </tr>\n",
       "        <tr>\n",
       "            <td>AL     </td> <td>1977</td> <td>62317 </td> <td>46.3174 </td> <td>2.37        </td> <td>3780      </td> <td>4       </td>\n",
       "        </tr>\n",
       "        <tr>\n",
       "            <td>AL     </td> <td>1978</td> <td>62725 </td> <td>43.0496 </td> <td>2.37        </td> <td>3832      </td> <td>4       </td>\n",
       "        </tr>\n",
       "        <tr>\n",
       "            <td>AL     </td> <td>1979</td> <td>63999 </td> <td>38.6617 </td> <td>2.37        </td> <td>3866      </td> <td>4       </td>\n",
       "        </tr>\n",
       "    </tbody>\n",
       "</table>\n",
       "<p>... (1698 rows omitted)</p>"
      ],
      "text/plain": [
       "st_name | year | c_beer | beer_tax | btax_dollars | population | salestax\n",
       "AL      | 1970 | 33098  | 72.3411  | 2.37         | 3450       | 4\n",
       "AL      | 1971 | 37598  | 69.3046  | 2.37         | 3497       | 4\n",
       "AL      | 1972 | 42719  | 67.1492  | 2.37         | 3539       | 4\n",
       "AL      | 1973 | 46203  | 63.217   | 2.37         | 3580       | 4\n",
       "AL      | 1974 | 49769  | 56.9338  | 2.37         | 3627       | 4\n",
       "AL      | 1975 | 53236  | 52.1717  | 2.37         | 3679       | 4\n",
       "AL      | 1976 | 54992  | 49.3293  | 2.37         | 3735       | 4\n",
       "AL      | 1977 | 62317  | 46.3174  | 2.37         | 3780       | 4\n",
       "AL      | 1978 | 62725  | 43.0496  | 2.37         | 3832       | 4\n",
       "AL      | 1979 | 63999  | 38.6617  | 2.37         | 3866       | 4\n",
       "... (1698 rows omitted)"
      ]
     },
     "execution_count": 6,
     "metadata": {},
     "output_type": "execute_result"
    }
   ],
   "source": [
    "beer_raw = Table.read_table(\"beer_tax.csv\")\n",
    "beer_raw"
   ]
  },
  {
   "cell_type": "markdown",
   "metadata": {
    "deletable": false,
    "editable": false
   },
   "source": [
    "**Question 1.2:**\n",
    "Consumption across states vary widely due to differences in population. Let's normalize this by adding a column called `pc_beer`, representing the per capita (per person) consumption of beer in each year for each state, to `beer_raw`. Call the resulting table `beer`.\n"
   ]
  },
  {
   "cell_type": "code",
   "execution_count": 7,
   "metadata": {
    "tags": []
   },
   "outputs": [
    {
     "data": {
      "text/html": [
       "<table border=\"1\" class=\"dataframe\">\n",
       "    <thead>\n",
       "        <tr>\n",
       "            <th>st_name</th> <th>year</th> <th>c_beer</th> <th>beer_tax</th> <th>btax_dollars</th> <th>population</th> <th>salestax</th> <th>pc_beer</th>\n",
       "        </tr>\n",
       "    </thead>\n",
       "    <tbody>\n",
       "        <tr>\n",
       "            <td>AL     </td> <td>1970</td> <td>33098 </td> <td>72.3411 </td> <td>2.37        </td> <td>3450      </td> <td>4       </td> <td>9.59362</td>\n",
       "        </tr>\n",
       "        <tr>\n",
       "            <td>AL     </td> <td>1971</td> <td>37598 </td> <td>69.3046 </td> <td>2.37        </td> <td>3497      </td> <td>4       </td> <td>10.7515</td>\n",
       "        </tr>\n",
       "        <tr>\n",
       "            <td>AL     </td> <td>1972</td> <td>42719 </td> <td>67.1492 </td> <td>2.37        </td> <td>3539      </td> <td>4       </td> <td>12.0709</td>\n",
       "        </tr>\n",
       "        <tr>\n",
       "            <td>AL     </td> <td>1973</td> <td>46203 </td> <td>63.217  </td> <td>2.37        </td> <td>3580      </td> <td>4       </td> <td>12.9059</td>\n",
       "        </tr>\n",
       "        <tr>\n",
       "            <td>AL     </td> <td>1974</td> <td>49769 </td> <td>56.9338 </td> <td>2.37        </td> <td>3627      </td> <td>4       </td> <td>13.7218</td>\n",
       "        </tr>\n",
       "        <tr>\n",
       "            <td>AL     </td> <td>1975</td> <td>53236 </td> <td>52.1717 </td> <td>2.37        </td> <td>3679      </td> <td>4       </td> <td>14.4702</td>\n",
       "        </tr>\n",
       "        <tr>\n",
       "            <td>AL     </td> <td>1976</td> <td>54992 </td> <td>49.3293 </td> <td>2.37        </td> <td>3735      </td> <td>4       </td> <td>14.7234</td>\n",
       "        </tr>\n",
       "        <tr>\n",
       "            <td>AL     </td> <td>1977</td> <td>62317 </td> <td>46.3174 </td> <td>2.37        </td> <td>3780      </td> <td>4       </td> <td>16.486 </td>\n",
       "        </tr>\n",
       "        <tr>\n",
       "            <td>AL     </td> <td>1978</td> <td>62725 </td> <td>43.0496 </td> <td>2.37        </td> <td>3832      </td> <td>4       </td> <td>16.3687</td>\n",
       "        </tr>\n",
       "        <tr>\n",
       "            <td>AL     </td> <td>1979</td> <td>63999 </td> <td>38.6617 </td> <td>2.37        </td> <td>3866      </td> <td>4       </td> <td>16.5543</td>\n",
       "        </tr>\n",
       "    </tbody>\n",
       "</table>\n",
       "<p>... (1698 rows omitted)</p>"
      ],
      "text/plain": [
       "st_name | year | c_beer | beer_tax | btax_dollars | population | salestax | pc_beer\n",
       "AL      | 1970 | 33098  | 72.3411  | 2.37         | 3450       | 4        | 9.59362\n",
       "AL      | 1971 | 37598  | 69.3046  | 2.37         | 3497       | 4        | 10.7515\n",
       "AL      | 1972 | 42719  | 67.1492  | 2.37         | 3539       | 4        | 12.0709\n",
       "AL      | 1973 | 46203  | 63.217   | 2.37         | 3580       | 4        | 12.9059\n",
       "AL      | 1974 | 49769  | 56.9338  | 2.37         | 3627       | 4        | 13.7218\n",
       "AL      | 1975 | 53236  | 52.1717  | 2.37         | 3679       | 4        | 14.4702\n",
       "AL      | 1976 | 54992  | 49.3293  | 2.37         | 3735       | 4        | 14.7234\n",
       "AL      | 1977 | 62317  | 46.3174  | 2.37         | 3780       | 4        | 16.486\n",
       "AL      | 1978 | 62725  | 43.0496  | 2.37         | 3832       | 4        | 16.3687\n",
       "AL      | 1979 | 63999  | 38.6617  | 2.37         | 3866       | 4        | 16.5543\n",
       "... (1698 rows omitted)"
      ]
     },
     "execution_count": 7,
     "metadata": {},
     "output_type": "execute_result"
    }
   ],
   "source": [
    "pc_beer_column = beer_raw.column(\"c_beer\")/beer_raw.column(\"population\")\n",
    "beer = beer_raw.with_columns(\"pc_beer\",pc_beer_column)\n",
    "beer"
   ]
  },
  {
   "cell_type": "code",
   "execution_count": 8,
   "metadata": {
    "deletable": false,
    "editable": false
   },
   "outputs": [
    {
     "data": {
      "text/html": [
       "<p><strong><pre style='display: inline;'>q1_2</pre></strong> passed! 🌟</p>"
      ],
      "text/plain": [
       "q1_2 results: All test cases passed!"
      ]
     },
     "execution_count": 8,
     "metadata": {},
     "output_type": "execute_result"
    }
   ],
   "source": [
    "grader.check(\"q1_2\")"
   ]
  },
  {
   "cell_type": "markdown",
   "metadata": {
    "deletable": false,
    "editable": false
   },
   "source": [
    "**Question 1.3:**\n",
    "For the rest of this question, we will restrict our analysis to only one state - California. Assign `beer_state` to a filtered table with only data describing California.\n"
   ]
  },
  {
   "cell_type": "code",
   "execution_count": 9,
   "metadata": {
    "tags": []
   },
   "outputs": [
    {
     "data": {
      "text/html": [
       "<table border=\"1\" class=\"dataframe\">\n",
       "    <thead>\n",
       "        <tr>\n",
       "            <th>st_name</th> <th>year</th> <th>c_beer</th> <th>beer_tax</th> <th>btax_dollars</th> <th>population</th> <th>salestax</th> <th>pc_beer</th>\n",
       "        </tr>\n",
       "    </thead>\n",
       "    <tbody>\n",
       "        <tr>\n",
       "            <td>CA     </td> <td>1970</td> <td>363645</td> <td>2.74713 </td> <td>0.09        </td> <td>20023     </td> <td>5       </td> <td>18.1614</td>\n",
       "        </tr>\n",
       "        <tr>\n",
       "            <td>CA     </td> <td>1971</td> <td>380397</td> <td>2.63182 </td> <td>0.09        </td> <td>20346     </td> <td>5       </td> <td>18.6964</td>\n",
       "        </tr>\n",
       "        <tr>\n",
       "            <td>CA     </td> <td>1972</td> <td>401928</td> <td>2.54997 </td> <td>0.09        </td> <td>20585     </td> <td>5       </td> <td>19.5253</td>\n",
       "        </tr>\n",
       "        <tr>\n",
       "            <td>CA     </td> <td>1973</td> <td>417463</td> <td>2.40065 </td> <td>0.09        </td> <td>20869     </td> <td>5.167   </td> <td>20.004 </td>\n",
       "        </tr>\n",
       "        <tr>\n",
       "            <td>CA     </td> <td>1974</td> <td>464237</td> <td>2.16204 </td> <td>0.09        </td> <td>21174     </td> <td>5.25    </td> <td>21.9249</td>\n",
       "        </tr>\n",
       "        <tr>\n",
       "            <td>CA     </td> <td>1975</td> <td>466420</td> <td>1.9812  </td> <td>0.09        </td> <td>21538     </td> <td>6       </td> <td>21.6557</td>\n",
       "        </tr>\n",
       "        <tr>\n",
       "            <td>CA     </td> <td>1976</td> <td>496869</td> <td>1.87326 </td> <td>0.09        </td> <td>21936     </td> <td>6       </td> <td>22.6508</td>\n",
       "        </tr>\n",
       "        <tr>\n",
       "            <td>CA     </td> <td>1977</td> <td>503361</td> <td>1.75889 </td> <td>0.09        </td> <td>22352     </td> <td>6       </td> <td>22.5197</td>\n",
       "        </tr>\n",
       "        <tr>\n",
       "            <td>CA     </td> <td>1978</td> <td>533487</td> <td>1.6348  </td> <td>0.09        </td> <td>22836     </td> <td>6       </td> <td>23.3617</td>\n",
       "        </tr>\n",
       "        <tr>\n",
       "            <td>CA     </td> <td>1979</td> <td>572605</td> <td>1.46816 </td> <td>0.09        </td> <td>23257     </td> <td>6       </td> <td>24.6208</td>\n",
       "        </tr>\n",
       "    </tbody>\n",
       "</table>\n",
       "<p>... (24 rows omitted)</p>"
      ],
      "text/plain": [
       "st_name | year | c_beer | beer_tax | btax_dollars | population | salestax | pc_beer\n",
       "CA      | 1970 | 363645 | 2.74713  | 0.09         | 20023      | 5        | 18.1614\n",
       "CA      | 1971 | 380397 | 2.63182  | 0.09         | 20346      | 5        | 18.6964\n",
       "CA      | 1972 | 401928 | 2.54997  | 0.09         | 20585      | 5        | 19.5253\n",
       "CA      | 1973 | 417463 | 2.40065  | 0.09         | 20869      | 5.167    | 20.004\n",
       "CA      | 1974 | 464237 | 2.16204  | 0.09         | 21174      | 5.25     | 21.9249\n",
       "CA      | 1975 | 466420 | 1.9812   | 0.09         | 21538      | 6        | 21.6557\n",
       "CA      | 1976 | 496869 | 1.87326  | 0.09         | 21936      | 6        | 22.6508\n",
       "CA      | 1977 | 503361 | 1.75889  | 0.09         | 22352      | 6        | 22.5197\n",
       "CA      | 1978 | 533487 | 1.6348   | 0.09         | 22836      | 6        | 23.3617\n",
       "CA      | 1979 | 572605 | 1.46816  | 0.09         | 23257      | 6        | 24.6208\n",
       "... (24 rows omitted)"
      ]
     },
     "execution_count": 9,
     "metadata": {},
     "output_type": "execute_result"
    }
   ],
   "source": [
    "beer_state = beer.where(\"st_name\", \"CA\")\n",
    "beer_state"
   ]
  },
  {
   "cell_type": "code",
   "execution_count": 10,
   "metadata": {
    "deletable": false,
    "editable": false
   },
   "outputs": [
    {
     "data": {
      "text/html": [
       "<p><strong><pre style='display: inline;'>q1_3</pre></strong> passed! 🚀</p>"
      ],
      "text/plain": [
       "q1_3 results: All test cases passed!"
      ]
     },
     "execution_count": 10,
     "metadata": {},
     "output_type": "execute_result"
    }
   ],
   "source": [
    "grader.check(\"q1_3\")"
   ]
  },
  {
   "cell_type": "markdown",
   "metadata": {
    "deletable": false,
    "editable": false
   },
   "source": [
    "**Question 1.4:**\n",
    "To determine consumers' sensitivity to a change in taxes, we need to determine the changes in ad valorem taxes between each year and the corresponding change in the per capita beer consumption. Construct a new table `beer_state_changes` with these  2 columns: `tax_diff` and `consumption_diff`.\n",
    "\n",
    "_Hint:_ Use `np.diff`.\n"
   ]
  },
  {
   "cell_type": "code",
   "execution_count": 11,
   "metadata": {
    "tags": []
   },
   "outputs": [
    {
     "data": {
      "text/html": [
       "<table border=\"1\" class=\"dataframe\">\n",
       "    <thead>\n",
       "        <tr>\n",
       "            <th>tax_diff</th> <th>consumption_diff</th>\n",
       "        </tr>\n",
       "    </thead>\n",
       "    <tbody>\n",
       "        <tr>\n",
       "            <td>-0.115312 </td> <td>0.535038        </td>\n",
       "        </tr>\n",
       "        <tr>\n",
       "            <td>-0.0818507</td> <td>0.828883        </td>\n",
       "        </tr>\n",
       "        <tr>\n",
       "            <td>-0.149323 </td> <td>0.478692        </td>\n",
       "        </tr>\n",
       "        <tr>\n",
       "            <td>-0.238604 </td> <td>1.92088         </td>\n",
       "        </tr>\n",
       "        <tr>\n",
       "            <td>-0.18084  </td> <td>-0.269182       </td>\n",
       "        </tr>\n",
       "        <tr>\n",
       "            <td>-0.107939 </td> <td>0.99517         </td>\n",
       "        </tr>\n",
       "        <tr>\n",
       "            <td>-0.114374 </td> <td>-0.131118       </td>\n",
       "        </tr>\n",
       "        <tr>\n",
       "            <td>-0.124093 </td> <td>0.841936        </td>\n",
       "        </tr>\n",
       "        <tr>\n",
       "            <td>-0.166632 </td> <td>1.25909         </td>\n",
       "        </tr>\n",
       "        <tr>\n",
       "            <td>-0.174612 </td> <td>0.406849        </td>\n",
       "        </tr>\n",
       "    </tbody>\n",
       "</table>\n",
       "<p>... (23 rows omitted)</p>"
      ],
      "text/plain": [
       "tax_diff   | consumption_diff\n",
       "-0.115312  | 0.535038\n",
       "-0.0818507 | 0.828883\n",
       "-0.149323  | 0.478692\n",
       "-0.238604  | 1.92088\n",
       "-0.18084   | -0.269182\n",
       "-0.107939  | 0.99517\n",
       "-0.114374  | -0.131118\n",
       "-0.124093  | 0.841936\n",
       "-0.166632  | 1.25909\n",
       "-0.174612  | 0.406849\n",
       "... (23 rows omitted)"
      ]
     },
     "execution_count": 11,
     "metadata": {},
     "output_type": "execute_result"
    }
   ],
   "source": [
    "tax_diff = np.diff(beer_state.column(\"beer_tax\"))\n",
    "per_capita_consumption_diff = np.diff(beer_state.column(\"pc_beer\"))\n",
    "beer_state_changes = Table().with_columns(\"tax_diff\",tax_diff,\"consumption_diff\",per_capita_consumption_diff)\n",
    "beer_state_changes"
   ]
  },
  {
   "cell_type": "code",
   "execution_count": 12,
   "metadata": {
    "deletable": false,
    "editable": false
   },
   "outputs": [
    {
     "data": {
      "text/html": [
       "<p><strong><pre style='display: inline;'>q1_4</pre></strong> passed! 🎉</p>"
      ],
      "text/plain": [
       "q1_4 results: All test cases passed!"
      ]
     },
     "execution_count": 12,
     "metadata": {},
     "output_type": "execute_result"
    }
   ],
   "source": [
    "grader.check(\"q1_4\")"
   ]
  },
  {
   "cell_type": "markdown",
   "metadata": {
    "deletable": false,
    "editable": false
   },
   "source": [
    "**Question 1.5:**\n",
    "Now we are ready to plot our results. What kind of graph will be most appropriate to denote the relationship between changes in taxes and changes in consumption?\n",
    "\n",
    "<ol style=\"list-style-type: lower-alpha;\">\n",
    "    <li>Line plot</li>\n",
    "    <li>Histogram</li>\n",
    "    <li>Scatter plot</li>\n",
    "    <li>Bar chart</li>\n",
    "</ol>\n",
    "\n",
    "Assign `q5` to letter corresponding to your choice.\n"
   ]
  },
  {
   "cell_type": "code",
   "execution_count": 13,
   "metadata": {
    "tags": []
   },
   "outputs": [],
   "source": [
    "q1_5 = \"c\""
   ]
  },
  {
   "cell_type": "code",
   "execution_count": 14,
   "metadata": {
    "deletable": false,
    "editable": false
   },
   "outputs": [
    {
     "data": {
      "text/html": [
       "<p><strong><pre style='display: inline;'>q1_5</pre></strong> passed! 🍀</p>"
      ],
      "text/plain": [
       "q1_5 results: All test cases passed!"
      ]
     },
     "execution_count": 14,
     "metadata": {},
     "output_type": "execute_result"
    }
   ],
   "source": [
    "grader.check(\"q1_5\")"
   ]
  },
  {
   "cell_type": "markdown",
   "metadata": {
    "deletable": false,
    "editable": false
   },
   "source": [
    "<!-- BEGIN QUESTION -->\n",
    "\n",
    "**Question 1.6:**\n",
    "Plot the results from `beer_state_changes` using a scatter plot.\n"
   ]
  },
  {
   "cell_type": "code",
   "execution_count": 15,
   "metadata": {
    "tags": []
   },
   "outputs": [
    {
     "data": {
      "text/plain": [
       "<matplotlib.collections.PathCollection at 0x7a66d9340d10>"
      ]
     },
     "execution_count": 15,
     "metadata": {},
     "output_type": "execute_result"
    },
    {
     "data": {
      "image/png": "[encoded data removed]",
      "text/plain": [
       "<Figure size 640x480 with 1 Axes>"
      ]
     },
     "metadata": {},
     "output_type": "display_data"
    }
   ],
   "source": [
    "plt.scatter(beer_state_changes.column('tax_diff'), beer_state_changes.column('consumption_diff'))"
   ]
  },
  {
   "cell_type": "markdown",
   "metadata": {
    "deletable": false,
    "editable": false
   },
   "source": [
    "<!-- END QUESTION -->\n",
    "\n",
    "\n",
    "\n",
    "We will conduct a linear regression to determine the slope and intercept."
   ]
  },
  {
   "cell_type": "code",
   "execution_count": 16,
   "metadata": {},
   "outputs": [
    {
     "data": {
      "image/png": "[encoded data removed]",
      "text/plain": [
       "<Figure size 500x500 with 1 Axes>"
      ]
     },
     "metadata": {},
     "output_type": "display_data"
    }
   ],
   "source": [
    "beer_state_changes.scatter(0, 1, fit_line=True)"
   ]
  },
  {
   "cell_type": "markdown",
   "metadata": {},
   "source": [
    "What are the values of the intercept and slope terms? \n",
    "\n",
    "To answer this, we can use `np.polyfit` with degree 1, which returns the slope and intercept terms in that order."
   ]
  },
  {
   "cell_type": "code",
   "execution_count": 17,
   "metadata": {},
   "outputs": [
    {
     "data": {
      "text/plain": [
       "array([-0.45404046,  0.0185466 ])"
      ]
     },
     "execution_count": 17,
     "metadata": {},
     "output_type": "execute_result"
    }
   ],
   "source": [
    "np.polyfit(x = beer_state_changes.column(\"tax_diff\"), y=beer_state_changes.column(\"consumption_diff\"), deg=1)"
   ]
  },
  {
   "cell_type": "markdown",
   "metadata": {
    "deletable": false,
    "editable": false
   },
   "source": [
    "<!-- BEGIN QUESTION -->\n",
    "\n",
    "**Question 1.7:**\n",
    "Interpret the slope and intercept values from the previous part in context of this dataset. What is the relationship between changes in taxes and changes in per capita beer consumption? If you were to attribute the relationship to causality, what would the effect of a tax be?"
   ]
  },
  {
   "cell_type": "markdown",
   "metadata": {},
   "source": [
    "If we were to attribute the relationship to causality, then for every 1 percent point increase in the ad valorem tax on beer, we would expect, on average, that beer consumption would decrease by around 0.454 gallons per person per year. If there is no change in the ad valorem tax i.e. tax_diff = 0, then the model predicts the change in per capita beer consumption is 0.018 gallons per person per year. "
   ]
  },
  {
   "cell_type": "markdown",
   "metadata": {
    "deletable": false,
    "editable": false
   },
   "source": [
    "<!-- END QUESTION -->\n",
    "\n",
    "Now let's see if the phenomenon applies to all states, across all years.\n",
    "\n"
   ]
  },
  {
   "cell_type": "code",
   "execution_count": 18,
   "metadata": {},
   "outputs": [
    {
     "name": "stderr",
     "output_type": "stream",
     "text": [
      "/tmp/ipykernel_61/2250851820.py:11: DeprecationWarning: DataFrameGroupBy.apply operated on the grouping columns. This behavior is deprecated, and in a future version of pandas the grouping columns will be excluded from the operation. Either pass `include_groups=False` to exclude the groupings or explicitly select the grouping columns after groupby to silence this warning.\n",
      "  differences = data.groupby(\"st_name\").apply(state_group)\n"
     ]
    },
    {
     "data": {
      "image/png": "[encoded data removed]",
      "text/plain": [
       "<Figure size 500x500 with 1 Axes>"
      ]
     },
     "metadata": {},
     "output_type": "display_data"
    }
   ],
   "source": [
    "# You do not have to understand how the code below works, but it works very similarly to what you've done above!\n",
    "import pandas as pd\n",
    "data = pd.read_stata(\"alcohol_data.dta\")\n",
    "data = data[[\"st_name\", \"year\", \"c_beer\", \"population\", \"beer_tax\", \"salestax\"]]\n",
    "data['beer_pc'] = data.c_beer / data.population\n",
    "data = data.dropna(axis = 0)\n",
    "def state_group(df):\n",
    "    tax_diff = np.diff(df[\"beer_tax\"])\n",
    "    cons_diff = np.diff(df[\"beer_pc\"])\n",
    "    return pd.DataFrame({\"tax_diff\": tax_diff, \"cons_diff\": cons_diff})\n",
    "differences = data.groupby(\"st_name\").apply(state_group)\n",
    "diff = Table.from_df(differences)\n",
    "diff.scatter(0, 1)"
   ]
  },
  {
   "cell_type": "markdown",
   "metadata": {},
   "source": [
    "The data seems to be a little messy, but a downward sloping trend seems to appear. Nonetheless, let's try to clean it up a little. \n",
    "\n",
    "We will aggregate the data based on state so that each state will be one data point. Each point represents a state's average change in taxes and consumption across the years."
   ]
  },
  {
   "cell_type": "code",
   "execution_count": 19,
   "metadata": {},
   "outputs": [
    {
     "name": "stderr",
     "output_type": "stream",
     "text": [
      "/tmp/ipykernel_61/2161240845.py:6: DeprecationWarning: DataFrameGroupBy.apply operated on the grouping columns. This behavior is deprecated, and in a future version of pandas the grouping columns will be excluded from the operation. Either pass `include_groups=False` to exclude the groupings or explicitly select the grouping columns after groupby to silence this warning.\n",
      "  differences = data.groupby(\"st_name\").apply(state_group)\n"
     ]
    },
    {
     "data": {
      "image/png": "[encoded data removed]",
      "text/plain": [
       "<Figure size 500x500 with 1 Axes>"
      ]
     },
     "metadata": {},
     "output_type": "display_data"
    }
   ],
   "source": [
    "# You also do not have to understand how the code below works.\n",
    "def state_group(df):\n",
    "    tax_diff = np.mean(np.diff(df[\"beer_tax\"]))\n",
    "    cons_diff = np.mean(np.diff(df[\"beer_pc\"]))\n",
    "    return pd.DataFrame({\"tax_diff\": tax_diff, \"cons_diff\": cons_diff}, index=[0])\n",
    "differences = data.groupby(\"st_name\").apply(state_group)\n",
    "diff = Table.from_df(differences)\n",
    "diff.scatter(0, 1)"
   ]
  },
  {
   "cell_type": "markdown",
   "metadata": {
    "deletable": false,
    "editable": false
   },
   "source": [
    "<!-- BEGIN QUESTION -->\n",
    "\n",
    "**Qustion 1.8:**\n",
    "Up until now, we've been examining the effect of changes in the ad valorem tax on beer consumption. But what about the excise tax? Unlike ad valorem taxes, an excise tax is included as part of the label price.\n",
    "\n",
    "Intuitively, do you expect consumers be more elastic towards changes in the ad valorem tax or excise tax? Why?\n"
   ]
  },
  {
   "cell_type": "markdown",
   "metadata": {},
   "source": [
    "I would expect consumers to be more elastic towards changes in excise tax. Excise taxes are included in the sticker price that a consumer sees when purchasing a product. This means that the price is fully transparent which allows the consumer to recognize the total cost immediately. So when a price rises due to an increase in excise taxes, the total cost rises and so consumers would most likely respond by reducing demand as they perceive this price hike. The ad valorem tax is hidden, that is, it is not listed in the sticker price. This would mean that consumers often don’t fully process the tax until payment and could treat it as an additional cost rather than part of the product's true total price."
   ]
  },
  {
   "cell_type": "markdown",
   "metadata": {
    "deletable": false,
    "editable": false
   },
   "source": [
    "<!-- END QUESTION -->\n",
    "\n",
    "Let's put this theory to the test. Each row in the table `excise_changes` displays an event in which there was a change in the excise tax, and its corresponding change in beer consumption. For example, from the table we can see that Arkansas has historically changed its beer excise tax three times. "
   ]
  },
  {
   "cell_type": "code",
   "execution_count": 20,
   "metadata": {},
   "outputs": [
    {
     "data": {
      "text/html": [
       "<table border=\"1\" class=\"dataframe\">\n",
       "    <thead>\n",
       "        <tr>\n",
       "            <th>st_name</th> <th>excise_tax_change</th> <th>c_beer_change</th>\n",
       "        </tr>\n",
       "    </thead>\n",
       "    <tbody>\n",
       "        <tr>\n",
       "            <td>AK     </td> <td>0.0938           </td> <td>0.338124     </td>\n",
       "        </tr>\n",
       "        <tr>\n",
       "            <td>AK     </td> <td>0.1312           </td> <td>-0.894734    </td>\n",
       "        </tr>\n",
       "        <tr>\n",
       "            <td>AK     </td> <td>1.62             </td> <td>-1.44731     </td>\n",
       "        </tr>\n",
       "        <tr>\n",
       "            <td>AZ     </td> <td>0.09             </td> <td>-0.850621    </td>\n",
       "        </tr>\n",
       "        <tr>\n",
       "            <td>AZ     </td> <td>0.09             </td> <td>2.05028      </td>\n",
       "        </tr>\n",
       "        <tr>\n",
       "            <td>CA     </td> <td>0.18             </td> <td>-1.93796     </td>\n",
       "        </tr>\n",
       "        <tr>\n",
       "            <td>CA     </td> <td>0.18             </td> <td>1.00325      </td>\n",
       "        </tr>\n",
       "        <tr>\n",
       "            <td>CO     </td> <td>0.0225           </td> <td>0.643899     </td>\n",
       "        </tr>\n",
       "        <tr>\n",
       "            <td>CO     </td> <td>0.0225           </td> <td>-0.420914    </td>\n",
       "        </tr>\n",
       "        <tr>\n",
       "            <td>CT     </td> <td>0.0157           </td> <td>1.06804      </td>\n",
       "        </tr>\n",
       "    </tbody>\n",
       "</table>\n",
       "<p>... (121 rows omitted)</p>"
      ],
      "text/plain": [
       "st_name | excise_tax_change | c_beer_change\n",
       "AK      | 0.0938            | 0.338124\n",
       "AK      | 0.1312            | -0.894734\n",
       "AK      | 1.62              | -1.44731\n",
       "AZ      | 0.09              | -0.850621\n",
       "AZ      | 0.09              | 2.05028\n",
       "CA      | 0.18              | -1.93796\n",
       "CA      | 0.18              | 1.00325\n",
       "CO      | 0.0225            | 0.643899\n",
       "CO      | 0.0225            | -0.420914\n",
       "CT      | 0.0157            | 1.06804\n",
       "... (121 rows omitted)"
      ]
     },
     "execution_count": 20,
     "metadata": {},
     "output_type": "execute_result"
    }
   ],
   "source": [
    "# You do not need to understand how this code works.\n",
    "excise_changes = pd.DataFrame({\"st_name\":[], \"excise_tax_change\":[], \"c_beer_change\":[]})\n",
    "beer_df = beer.to_df()\n",
    "for row_index in range(beer_df.shape[0]):\n",
    "    if row_index == 0:\n",
    "        continue\n",
    "    if beer_df.iloc[row_index, 4] != beer_df.iloc[row_index-1, 4] and beer_df.iloc[row_index, 0] == beer_df.iloc[row_index-1, 0]:\n",
    "        excise_changes = pd.concat([excise_changes, pd.DataFrame({\"st_name\": beer_df.iloc[row_index, 0], \n",
    "                                                \"excise_tax_change\": beer_df.iloc[row_index, 4] - beer_df.iloc[row_index-1, 4],\n",
    "                                                \"c_beer_change\": beer_df.iloc[row_index, 7] - beer_df.iloc[row_index-1, 7]}, index=[row_index])], ignore_index=True)\n",
    "excise_changes = Table.from_df(excise_changes[[\"st_name\", \"excise_tax_change\", \"c_beer_change\"]])\n",
    "excise_changes"
   ]
  },
  {
   "cell_type": "code",
   "execution_count": 21,
   "metadata": {},
   "outputs": [
    {
     "data": {
      "image/png": "[encoded data removed]",
      "text/plain": [
       "<Figure size 500x500 with 1 Axes>"
      ]
     },
     "metadata": {},
     "output_type": "display_data"
    }
   ],
   "source": [
    "excise_changes.scatter(1,2,fit_line=True)"
   ]
  },
  {
   "cell_type": "markdown",
   "metadata": {
    "deletable": false,
    "editable": false
   },
   "source": [
    "**Question 1.9.1:**\n",
    "Using `np.polyfit`, determine the slope and intercept terms for this regression on the table `excise_changes`.\n",
    "\n",
    "Recall that `np.polyfit` follows the syntax: `np.polyfit(<x array>, <y array>, <degree>)`.\n"
   ]
  },
  {
   "cell_type": "code",
   "execution_count": 22,
   "metadata": {
    "tags": []
   },
   "outputs": [
    {
     "data": {
      "text/plain": [
       "array([-1.24731534,  0.06714415])"
      ]
     },
     "execution_count": 22,
     "metadata": {},
     "output_type": "execute_result"
    }
   ],
   "source": [
    "coeffs = np.polyfit(excise_changes.column(\"excise_tax_change\"),excise_changes.column(\"c_beer_change\"),1)\n",
    "coeffs"
   ]
  },
  {
   "cell_type": "code",
   "execution_count": 23,
   "metadata": {
    "deletable": false,
    "editable": false
   },
   "outputs": [
    {
     "data": {
      "text/html": [
       "<p><strong><pre style='display: inline;'>q1_9_1</pre></strong> passed! 🚀</p>"
      ],
      "text/plain": [
       "q1_9_1 results: All test cases passed!"
      ]
     },
     "execution_count": 23,
     "metadata": {},
     "output_type": "execute_result"
    }
   ],
   "source": [
    "grader.check(\"q1_9_1\")"
   ]
  },
  {
   "cell_type": "markdown",
   "metadata": {
    "deletable": false,
    "editable": false
   },
   "source": [
    "<!-- BEGIN QUESTION -->\n",
    "\n",
    "**Question 1.9.2:**\n",
    "Interpret the results above from `np.polyfit`.\n",
    "\n",
    "*Hint:* Be aware of the units of the excise tax!\n"
   ]
  },
  {
   "cell_type": "markdown",
   "metadata": {},
   "source": [
    "For every $1 increase in excise tax per case of beer, the beer consumption would decrease by around 1.247 gallons per person per year. If there was no change in excise tax, we would expect the beer consumption to increase by 0.067 gallons per person per year. "
   ]
  },
  {
   "cell_type": "markdown",
   "metadata": {
    "deletable": false,
    "editable": false
   },
   "source": [
    "<!-- END QUESTION -->\n",
    "\n",
    "## Question 2: Tax Equilibria with SymPy"
   ]
  },
  {
   "cell_type": "markdown",
   "metadata": {},
   "source": [
    "*From Gruber, Ch.19, Q.4*\n",
    "\n",
    "The demand for football tickets is $Q = 360 − 10P$ and the supply of football tickets is $Q = 20P$. "
   ]
  },
  {
   "cell_type": "markdown",
   "metadata": {
    "deletable": false,
    "editable": false
   },
   "source": [
    "**Question 2.1:**\n",
    "Calculate the quantity and price at the equilibrium. Assign these values to `quantity_no_tax` and `price_no_tax`, respectively.\n"
   ]
  },
  {
   "cell_type": "code",
   "execution_count": 24,
   "metadata": {
    "tags": []
   },
   "outputs": [
    {
     "name": "stdout",
     "output_type": "stream",
     "text": [
      "The equilibrium price is 12 ; the equilibrium quantity is 240\n"
     ]
    }
   ],
   "source": [
    "P = sympy.Symbol(\"P\")\n",
    "supply = 20*P\n",
    "demand = 360-10*P\n",
    "price_no_tax = 12\n",
    "quantity_no_tax = 240\n",
    "print(\"The equilibrium price is\", price_no_tax, \"; the equilibrium quantity is\", quantity_no_tax)"
   ]
  },
  {
   "cell_type": "code",
   "execution_count": 26,
   "metadata": {
    "deletable": false,
    "editable": false
   },
   "outputs": [
    {
     "data": {
      "text/html": [
       "<p><strong><pre style='display: inline;'>q2_1</pre></strong> passed! 🚀</p>"
      ],
      "text/plain": [
       "q2_1 results: All test cases passed!"
      ]
     },
     "execution_count": 26,
     "metadata": {},
     "output_type": "execute_result"
    }
   ],
   "source": [
    "grader.check(\"q2_1\")"
   ]
  },
  {
   "cell_type": "markdown",
   "metadata": {
    "deletable": false,
    "editable": false
   },
   "source": [
    "**Question 2.2:**\n",
    "Assume that the government implements a per-ticket tax of $4 when consumers purchase a ticket. What is the new price received by producers and price paid by consumers?\n"
   ]
  },
  {
   "cell_type": "code",
   "execution_count": 27,
   "metadata": {
    "tags": []
   },
   "outputs": [
    {
     "name": "stdout",
     "output_type": "stream",
     "text": [
      "The new price received by producers is 32/3 ; the new price paid by consumers is 44/3\n"
     ]
    }
   ],
   "source": [
    "demand_with_tax = 360-10*(P+4)\n",
    "price_received_with_tax = solve(demand_with_tax,supply)\n",
    "price_paid_demand_with_tax = price_received_with_tax + 4\n",
    "print(\"The new price received by producers is\", price_received_with_tax, \n",
    "      \"; the new price paid by consumers is\", price_paid_demand_with_tax)"
   ]
  },
  {
   "cell_type": "code",
   "execution_count": 28,
   "metadata": {
    "deletable": false,
    "editable": false
   },
   "outputs": [
    {
     "data": {
      "text/html": [
       "<p><strong><pre style='display: inline;'>q2_2</pre></strong> passed! 🌟</p>"
      ],
      "text/plain": [
       "q2_2 results: All test cases passed!"
      ]
     },
     "execution_count": 28,
     "metadata": {},
     "output_type": "execute_result"
    }
   ],
   "source": [
    "grader.check(\"q2_2\")"
   ]
  },
  {
   "cell_type": "markdown",
   "metadata": {
    "deletable": false,
    "editable": false
   },
   "source": [
    "**Question 2.3.1:** How much less revenue does the producer receive per unit? Format your answer as a negative number, so that it represents the change in revenue per unit."
   ]
  },
  {
   "cell_type": "code",
   "execution_count": 29,
   "metadata": {
    "tags": []
   },
   "outputs": [
    {
     "data": {
      "text/latex": [
       "$\\displaystyle - \\frac{4}{3}$"
      ],
      "text/plain": [
       "-4/3"
      ]
     },
     "execution_count": 29,
     "metadata": {},
     "output_type": "execute_result"
    }
   ],
   "source": [
    "change_in_price_received = price_received_with_tax - price_no_tax\n",
    "change_in_price_received"
   ]
  },
  {
   "cell_type": "code",
   "execution_count": 30,
   "metadata": {
    "deletable": false,
    "editable": false
   },
   "outputs": [
    {
     "data": {
      "text/html": [
       "<p><strong><pre style='display: inline;'>q2_3_1</pre></strong> passed! 🌟</p>"
      ],
      "text/plain": [
       "q2_3_1 results: All test cases passed!"
      ]
     },
     "execution_count": 30,
     "metadata": {},
     "output_type": "execute_result"
    }
   ],
   "source": [
    "grader.check(\"q2_3_1\")"
   ]
  },
  {
   "cell_type": "markdown",
   "metadata": {
    "deletable": false,
    "editable": false
   },
   "source": [
    "**Question 2.3.2:** How much more does the consumer pay per unit? Format your answer as a positive number, so that it represents the change in cost per unit."
   ]
  },
  {
   "cell_type": "code",
   "execution_count": 31,
   "metadata": {
    "tags": []
   },
   "outputs": [
    {
     "data": {
      "text/latex": [
       "$\\displaystyle \\frac{8}{3}$"
      ],
      "text/plain": [
       "8/3"
      ]
     },
     "execution_count": 31,
     "metadata": {},
     "output_type": "execute_result"
    }
   ],
   "source": [
    "change_in_price_paid = price_paid_demand_with_tax - price_no_tax\n",
    "change_in_price_paid"
   ]
  },
  {
   "cell_type": "code",
   "execution_count": 32,
   "metadata": {
    "deletable": false,
    "editable": false
   },
   "outputs": [
    {
     "data": {
      "text/html": [
       "<p><strong><pre style='display: inline;'>q2_3_2</pre></strong> passed! 🍀</p>"
      ],
      "text/plain": [
       "q2_3_2 results: All test cases passed!"
      ]
     },
     "execution_count": 32,
     "metadata": {},
     "output_type": "execute_result"
    }
   ],
   "source": [
    "grader.check(\"q2_3_2\")"
   ]
  },
  {
   "cell_type": "markdown",
   "metadata": {
    "deletable": false,
    "editable": false
   },
   "source": [
    "**Question 2.3.3:** Who bears a larger burden burden of the tax? Assign `q2_3_3` to `'consumers'` or `'producers'`."
   ]
  },
  {
   "cell_type": "code",
   "execution_count": 33,
   "metadata": {
    "tags": []
   },
   "outputs": [],
   "source": [
    "q2_3_3 = \"consumers\""
   ]
  },
  {
   "cell_type": "code",
   "execution_count": 34,
   "metadata": {
    "deletable": false,
    "editable": false
   },
   "outputs": [
    {
     "data": {
      "text/html": [
       "<p><strong><pre style='display: inline;'>q2_3_3</pre></strong> passed! 🎉</p>"
      ],
      "text/plain": [
       "q2_3_3 results: All test cases passed!"
      ]
     },
     "execution_count": 34,
     "metadata": {},
     "output_type": "execute_result"
    }
   ],
   "source": [
    "grader.check(\"q2_3_3\")"
   ]
  },
  {
   "cell_type": "markdown",
   "metadata": {
    "deletable": false,
    "editable": false
   },
   "source": [
    "**Question 2.4:**\n",
    "Continue to assume that the government implements a per-ticket tax of \\$4. How many less tickets are sold due to the tax?\n"
   ]
  },
  {
   "cell_type": "code",
   "execution_count": 42,
   "metadata": {
    "tags": []
   },
   "outputs": [
    {
     "name": "stdout",
     "output_type": "stream",
     "text": [
      "The difference in quantity transacted is 80/3\n"
     ]
    }
   ],
   "source": [
    "quantity_with_tax = 20 * price_received_with_tax\n",
    "difference_in_quantity = quantity_no_tax - quantity_with_tax\n",
    "print(\"The difference in quantity transacted is\", difference_in_quantity)"
   ]
  },
  {
   "cell_type": "code",
   "execution_count": 43,
   "metadata": {
    "deletable": false,
    "editable": false
   },
   "outputs": [
    {
     "data": {
      "text/html": [
       "<p><strong><pre style='display: inline;'>q2_4</pre></strong> passed! 🌈</p>"
      ],
      "text/plain": [
       "q2_4 results: All test cases passed!"
      ]
     },
     "execution_count": 43,
     "metadata": {},
     "output_type": "execute_result"
    }
   ],
   "source": [
    "grader.check(\"q2_4\")"
   ]
  },
  {
   "cell_type": "markdown",
   "metadata": {
    "deletable": false,
    "editable": false
   },
   "source": [
    "## Submission\n",
    "\n",
    "Make sure you have run all cells in your notebook in order before running the cell below, so that all images/graphs appear in the output. The cell below will generate a zip file for you to submit. **Please save before exporting!**"
   ]
  },
  {
   "cell_type": "code",
   "execution_count": 34,
   "metadata": {
    "deletable": false,
    "editable": false
   },
   "outputs": [
    {
     "name": "stdout",
     "output_type": "stream",
     "text": [
      "Running your submission against local test cases...\n",
      "\n",
      "\n",
      "\n",
      "Your submission received the following results when run against available test cases:\n",
      "\n",
      "    q1_1 results: All test cases passed!\n",
      "\n",
      "    q1_2 results: All test cases passed!\n",
      "\n",
      "    q1_3 results: All test cases passed!\n",
      "\n",
      "    q1_4 results: All test cases passed!\n",
      "\n",
      "    q1_5 results: All test cases passed!\n",
      "\n",
      "    q1_9_1 results: All test cases passed!\n",
      "\n",
      "    q2_1 results: All test cases passed!\n",
      "\n",
      "    q2_2 results: All test cases passed!\n",
      "\n",
      "    q2_3_1 results: All test cases passed!\n",
      "\n",
      "    q2_3_2 results: All test cases passed!\n",
      "\n",
      "    q2_3_3 results: All test cases passed!\n",
      "\n",
      "    q2_4 results: All test cases passed!\n"
     ]
    },
    {
     "data": {
      "text/html": [
       "\n",
       "            <p>Your submission has been exported. Click <a href=\"lab03_2024_09_24T17_08_05_854005.zip\" download=\"lab03_2024_09_24T17_08_05_854005.zip\" target=\"_blank\">here</a>\n",
       "            to download the zip file.</p>\n",
       "            "
      ],
      "text/plain": [
       "<IPython.core.display.HTML object>"
      ]
     },
     "metadata": {},
     "output_type": "display_data"
    }
   ],
   "source": [
    "# Save your notebook first, then run this cell to export your submission.\n",
    "grader.export(pdf=False, run_tests=True)"
   ]
  },
  {
   "cell_type": "markdown",
   "metadata": {},
   "source": [
    " "
   ]
  }
 ],
 "metadata": {
  "kernelspec": {
   "display_name": "Python 3 (ipykernel)",
   "language": "python",
   "name": "python3"
  },
  "language_info": {
   "codemirror_mode": {
    "name": "ipython",
    "version": 3
   },
   "file_extension": ".py",
   "mimetype": "text/x-python",
   "name": "python",
   "nbconvert_exporter": "python",
   "pygments_lexer": "ipython3",
   "version": "3.11.10"
  },
  "otter": {
   "OK_FORMAT": true,
   "tests": {
    "q1_1": {
     "name": "q1_1",
     "points": [
      0
     ],
     "suites": [
      {
       "cases": [
        {
         "code": ">>> q1_1 in ['a', 'b', 'c', 'd']\nTrue",
         "hidden": false,
         "locked": false
        }
       ],
       "scored": true,
       "setup": "",
       "teardown": "",
       "type": "doctest"
      }
     ]
    },
    "q1_2": {
     "name": "q1_2",
     "points": null,
     "suites": [
      {
       "cases": [
        {
         "code": ">>> len(beer) == 8\nTrue",
         "hidden": false,
         "locked": false
        },
        {
         "code": ">>> 'pc_beer' in beer.labels\nTrue",
         "hidden": false,
         "locked": false
        }
       ],
       "scored": true,
       "setup": "",
       "teardown": "",
       "type": "doctest"
      }
     ]
    },
    "q1_3": {
     "name": "q1_3",
     "points": null,
     "suites": [
      {
       "cases": [
        {
         "code": ">>> len(np.unique(beer_state['st_name'])) == 1\nTrue",
         "hidden": false,
         "locked": false
        },
        {
         "code": ">>> 'CA' in np.unique(beer_state['st_name'])\nTrue",
         "hidden": false,
         "locked": false
        },
        {
         "code": ">>> beer_state.num_rows == 34\nTrue",
         "hidden": false,
         "locked": false
        }
       ],
       "scored": true,
       "setup": "",
       "teardown": "",
       "type": "doctest"
      }
     ]
    },
    "q1_4": {
     "name": "q1_4",
     "points": null,
     "suites": [
      {
       "cases": [
        {
         "code": ">>> len(beer_state_changes) == 2\nTrue",
         "hidden": false,
         "locked": false
        },
        {
         "code": ">>> beer_state_changes.num_rows == 33\nTrue",
         "hidden": false,
         "locked": false
        },
        {
         "code": ">>> for l in ['tax_diff', 'consumption_diff']:\n...     assert l in beer_state_changes.labels\n",
         "hidden": false,
         "locked": false
        }
       ],
       "scored": true,
       "setup": "",
       "teardown": "",
       "type": "doctest"
      }
     ]
    },
    "q1_5": {
     "name": "q1_5",
     "points": null,
     "suites": [
      {
       "cases": [
        {
         "code": ">>> q1_5 in ['a', 'b', 'c', 'd']\nTrue",
         "hidden": false,
         "locked": false
        }
       ],
       "scored": true,
       "setup": "",
       "teardown": "",
       "type": "doctest"
      }
     ]
    },
    "q1_9_1": {
     "name": "q1_9_1",
     "points": null,
     "suites": [
      {
       "cases": [
        {
         "code": ">>> len(coeffs) == 2\nTrue",
         "hidden": false,
         "locked": false
        },
        {
         "code": ">>> -5 <= coeffs[0] <= 0\nTrue",
         "hidden": false,
         "locked": false
        },
        {
         "code": ">>> 0 <= coeffs[1] <= 1\nTrue",
         "hidden": false,
         "locked": false
        }
       ],
       "scored": true,
       "setup": "",
       "teardown": "",
       "type": "doctest"
      }
     ]
    },
    "q2_1": {
     "name": "q2_1",
     "points": null,
     "suites": [
      {
       "cases": [
        {
         "code": ">>> 5 <= price_no_tax <= 15\nTrue",
         "hidden": false,
         "locked": false
        },
        {
         "code": ">>> 200 <= quantity_no_tax <= 250\nTrue",
         "hidden": false,
         "locked": false
        }
       ],
       "scored": true,
       "setup": "",
       "teardown": "",
       "type": "doctest"
      }
     ]
    },
    "q2_2": {
     "name": "q2_2",
     "points": null,
     "suites": [
      {
       "cases": [
        {
         "code": ">>> 10 <= price_received_with_tax <= 15\nTrue",
         "hidden": false,
         "locked": false
        },
        {
         "code": ">>> 10 <= price_paid_demand_with_tax <= 15\nTrue",
         "hidden": false,
         "locked": false
        }
       ],
       "scored": true,
       "setup": "",
       "teardown": "",
       "type": "doctest"
      }
     ]
    },
    "q2_3_1": {
     "name": "q2_3_1",
     "points": [
      0
     ],
     "suites": [
      {
       "cases": [
        {
         "code": ">>> float(change_in_price_received) < 0\nTrue",
         "hidden": false,
         "locked": false
        }
       ],
       "scored": true,
       "setup": "",
       "teardown": "",
       "type": "doctest"
      }
     ]
    },
    "q2_3_2": {
     "name": "q2_3_2",
     "points": [
      0
     ],
     "suites": [
      {
       "cases": [
        {
         "code": ">>> float(change_in_price_paid) > 0\nTrue",
         "hidden": false,
         "locked": false
        }
       ],
       "scored": true,
       "setup": "",
       "teardown": "",
       "type": "doctest"
      }
     ]
    },
    "q2_3_3": {
     "name": "q2_3_3",
     "points": [
      0
     ],
     "suites": [
      {
       "cases": [
        {
         "code": ">>> q2_3_3 == 'consumers' or q2_3_3 == 'producers'\nTrue",
         "hidden": false,
         "locked": false
        }
       ],
       "scored": true,
       "setup": "",
       "teardown": "",
       "type": "doctest"
      }
     ]
    },
    "q2_4": {
     "name": "q2_4",
     "points": null,
     "suites": [
      {
       "cases": [
        {
         "code": ">>> 25 <= difference_in_quantity <= 30\nTrue",
         "hidden": false,
         "locked": false
        }
       ],
       "scored": true,
       "setup": "",
       "teardown": "",
       "type": "doctest"
      }
     ]
    }
   }
  },
  "varInspector": {
   "cols": {
    "lenName": 16,
    "lenType": 16,
    "lenVar": 40
   },
   "kernels_config": {
    "python": {
     "delete_cmd_postfix": "",
     "delete_cmd_prefix": "del ",
     "library": "var_list.py",
     "varRefreshCmd": "print(var_dic_list())"
    },
    "r": {
     "delete_cmd_postfix": ") ",
     "delete_cmd_prefix": "rm(",
     "library": "var_list.r",
     "varRefreshCmd": "cat(var_dic_list()) "
    }
   },
   "types_to_exclude": [
    "module",
    "function",
    "builtin_function_or_method",
    "instance",
    "_Feature"
   ],
   "window_display": false
  }
 },
 "nbformat": 4,
 "nbformat_minor": 4
}
